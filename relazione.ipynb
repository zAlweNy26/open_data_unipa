{
 "cells": [
  {
   "cell_type": "markdown",
   "metadata": {},
   "source": [
    "<h1 align=\"center\"><strong>Relazione di Open Data Management 2023-2024</strong></h1>\n",
    "<h3 align=\"center\"><strong><em>di Daniele Nicosia e Claudio Bellanti</em></strong></h3>\n",
    "<h5 align=\"center\"><em>Università degli Studi di Palermo - Facoltà di Informatica</em></h5>\n",
    "\n",
    "***\n",
    "***\n",
    "\n",
    "### [`1. - Traccia`](#1-traccia)\n",
    "### [`2. - Selezione dei dataset`](#2-selezione-dei-dataset)\n",
    "- ##### [`2.1 - Raccolta`](#21-raccolta)\n",
    "- ##### [`2.2 - Licenze`](#22-licenze)\n",
    "### [`3. - Elaborazione dei dataset`](#3-elaborazione-dei-dataset)\n",
    "- ##### [`3.1 - Pulizia e selezione dei dati rilevanti`](#31-pulizia-e-selezione-dei-dati-rilevanti)\n",
    "- ##### [`3.2 - Arricchimento`](#32-arricchimento)\n",
    "### [`4. - Finalizzazione dei dataset`](#4-finalizzazione-dei-dataset)\n",
    "- ##### [`4.1 - Ontologia`](#41-ontologia)\n",
    "- ##### [`4.2 - Conversione in RDF`](#42-conversione-in-rdf)\n",
    "### [`5. - Visualizzazione dati`](#5-visualizzazione-dati)\n",
    "- ##### [`5.1 - Creazione mappe con i GeoJson`](#51-creazione-mappe-con-i-geojson)\n",
    "\n",
    "***\n",
    "***"
   ]
  },
  {
   "cell_type": "markdown",
   "metadata": {},
   "source": [
    "## **`1. - Traccia`**\n",
    "\n",
    "Utilizzando il linguaggio di programmazione Python, per lo sviluppo del progetto si devono innanzitutto rispettare i seguenti passi:\n",
    "\n",
    "- _Selezione dati_\n",
    "- _Elaborazione dati (data cleaning, definizione struttura omogenea)_\n",
    "- _Open Linked Data (creazione di uno strato semantico, ontologie, interlinking)_\n",
    "\n",
    "L'obiettivo della suddetta relazione è lo studio della qualità dell'aria nel **`Comune di Milano`** in relazione alle aree verdi presenti sul territorio, con particolare attenzione alla presenza di polveri sottili (PM10) e di biossido di azoto (NO2).\n",
    "\n",
    "***\n",
    "***"
   ]
  },
  {
   "cell_type": "markdown",
   "metadata": {},
   "source": [
    "## **`2. - Selezione dei dataset`**\n",
    "\n",
    "#### **`2.1 - Raccolta`**\n",
    "\n",
    "Per lo sviluppo del progetto sono stati selezionati dei dataset i cui dati rappresentino gli eventi che si sono verificati nel Comune di Milano nel periodo 2014-2021. I dataset selezionati sono i seguenti:\n",
    "\n",
    "- [**`Ricoveri ordinari apparato respiratorio 2007-2021`**](https://dati.comune.milano.it/dataset/ds1053_ricoveri-ordinari-apparato-respiratorio)\n",
    "- [**`Stazioni di monitoraggio inquinanti`**](https://dati.comune.milano.it/dataset/ds484_stazioni_di_monitoraggio_inquinanti_atmosferici_dellarpa_sit)\n",
    "- [**`Aree verdi`**](https://dati.comune.milano.it/dataset/ds339-territorioambiente-aree-verdi-zona-superficie-2014)\n",
    "- [**`Ricostruzione della popolazione 2002-2019`**](https://demo.istat.it/app/?i=RIC&l=it)\n",
    "  - Per questo dataset è stato necessario effettuare una personalizzazione tramite l'interfaccia di ISTAT. Il dataset risultante contiene la popolazione residente nel solo Comune di Milano dal 2002 al 2019.\n",
    "- [**`Popolazione residente 2019-2023`**](https://demo.istat.it/app/?i=POS&l=it)\n",
    "  - Per questo dataset è stato necessario effettuare una personalizzazione tramite l'interfaccia di ISTAT. Il dataset risultante contiene la popolazione residente nel solo Comune di Milano dal 2020 al 2022.\n",
    "\n",
    "***\n"
   ]
  },
  {
   "cell_type": "markdown",
   "metadata": {},
   "source": [
    "#### **`2.2 - Licenze`**\n",
    "\n",
    "Le licenze dei dataset selezionati sono le seguenti:\n",
    "\n",
    "- **`Ricoveri ordinari apparato respiratorio 2007-2021`**: Creative Commons Attribuzione-Condividi allo stesso modo 3.0 Italia ([CC BY-SA 3.0 IT](https://creativecommons.org/licenses/by-sa/3.0/it/))\n",
    "- **`Stazioni di monitoraggio inquinanti`**: Creative Commons Attribuzione 4.0 Internazionale ([CC BY 4.0](https://creativecommons.org/licenses/by/4.0/))\n",
    "- **`Aree verdi`**: Creative Commons Attribuzione 4.0 Internazionale ([CC BY 4.0](https://creativecommons.org/licenses/by/4.0/))\n",
    "- **`Ricostruzione della popolazione 2002-2019`**: Creative Commons Attribuzione 3.0 ([CC BY 3.0](https://www.istat.it/it/note-legali))\n",
    "- **`Popolazione residente 2019-2023`**: Creative Commons Attribuzione 3.0 ([CC BY 3.0](https://creativecommons.org/licenses/by/3.0/))\n",
    "\n",
    "***\n",
    "***\n"
   ]
  },
  {
   "cell_type": "markdown",
   "metadata": {},
   "source": [
    "## **`3. - Elaborazione dei dataset`**\n",
    "\n",
    "#### **`3.1 - Pulizia e selezione dei dati rilevanti`**\n",
    "\n",
    "Il primo passo effettuato è stato unire i diversi dataset della popolazione residente nel Comune di Milano, in un unico dataset.\n",
    "\n",
    "Si è notato che i dataset puri non erano tutti adattati allo stesso modo, infatti, si sono riscontrate due problematiche:\n",
    "\n",
    "- Encoding dei dataset differenti, a causa delle loro diversi origini\n",
    "- Errori vari dovuti a `;` o `,` non correttamente inseriti\n",
    "\n",
    "##### *`Preparazione ambiente di sviluppo`*\n",
    "\n",
    "Prima di cominciare ad analizzare i dati dobbiamo importare le librerie necessarie al nostro scopo.\n",
    "\n"
   ]
  },
  {
   "cell_type": "code",
   "execution_count": null,
   "metadata": {},
   "outputs": [],
   "source": [
    "%pip install -r requirements.txt"
   ]
  },
  {
   "cell_type": "code",
   "execution_count": null,
   "metadata": {},
   "outputs": [],
   "source": [
    "import pandas as pd\n",
    "import numpy as np\n",
    "import matplotlib.pyplot as plt\n",
    "import seaborn as sns\n",
    "import glob\n",
    "import os\n",
    "import re\n",
    "import json\n",
    "import plotly.graph_objects as go"
   ]
  },
  {
   "cell_type": "markdown",
   "metadata": {},
   "source": [
    "##### *`Creazione dataset rilevazione della qualità dell'aria`*\n",
    "\n",
    "In questo estratto di codice, ci siamo concentrati sull'elaborazione di un insieme di dati complesso riguardante la qualità dell'aria, raccolto nel corso di diversi anni. Questi dati provengono da molteplici stazioni che, è importante notare, hanno capacità di rilevamento diverse. Non tutte le stazioni sono equipaggiate per misurare ogni tipo di inquinante, il che introduce una certa variabilità nei dati che stiamo trattando.\n",
    "\n",
    "Il primo passo significativo nel nostro processo è stato unire questi diversi file di dati, ognuno contenente frammenti del quadro generale della qualità dell'aria, in un unico, coerente DataFrame. Questo non solo ha semplificato le fasi successive dell'analisi, ma ha anche assicurato che ogni pezzo di informazione fosse contestualizzato all'interno del dataset più ampio.\n",
    "\n",
    "Una volta consolidati i dati, abbiamo affrontato la questione della uniformità temporale, assicurandoci che ogni data fosse in un formato standard e ordinando poi il dataset in ordine cronologico. Questo ordine temporale è essenziale per qualsiasi analisi storica o trend che potrebbe emergere da questi dati.\n",
    "\n",
    "Il problema successivo che abbiamo affrontato è stato quello dei valori mancanti, un'incidenza comune nei grandi set di dati, specialmente quando si tratta di rilevamenti ambientali su più anni. La strategia adottata qui è stata calcolare la mediana dei valori per ogni inquinante per ogni anno, una tecnica scelta per la sua resistenza agli outlier, ovvero quei valori che differiscono significativamente dalla norma e che potrebbero distorcere i risultati se non trattati correttamente.\n",
    "\n",
    "Utilizzando le mediane annuali, abbiamo potuto imputare valori ragionevoli nei casi in cui i dati erano mancanti, mantenendo l'integrità generale dei dati senza concedere un peso eccessivo a misurazioni anomale o inaccurate. Questo passaggio è essenziale per mantenere la validità delle nostre conclusioni finali.\n",
    "\n",
    "Dopo aver riempito questi vuoti, il nostro set di dati era quasi pronto per essere utilizzato in analisi future. Abbiamo rimosso alcune colonne superflue per rendere il dataset più snello e abbiamo gestito eventuali valori mancanti residui, assicurandoci che fossero chiaramente indicati.\n",
    "\n",
    "***"
   ]
  },
  {
   "cell_type": "code",
   "execution_count": null,
   "metadata": {},
   "outputs": [],
   "source": [
    "file_paths = glob.glob('./data/raw/rilevazione_qualità_aria/*.csv')\n",
    "\n",
    "# Carica tutti i file CSV in un dizionario di DataFrame, specificando il separatore corretto\n",
    "dfs = {fp: pd.read_csv(fp, sep=';') for fp in file_paths}\n",
    "\n",
    "# Concatena tutti i DataFrame in un unico DataFrame\n",
    "air_quality = pd.concat(dfs.values(), ignore_index=True)\n",
    "\n",
    "# Converti la colonna 'data' in datetime se non lo è già\n",
    "air_quality['data'] = pd.to_datetime(air_quality['data'])\n",
    "\n",
    "# Ordina il DataFrame in base alla colonna 'data' in ordine crescente\n",
    "air_quality.sort_values('data', ascending=True, inplace=True)\n",
    "\n",
    "# Carica il file delle stazioni meteorologiche (adattalo al tuo percorso file)\n",
    "stazioni = pd.read_csv('./data/raw/rilevazione_qualità_aria/stazioni_metereologiche.csv')\n",
    "\n",
    "# Estraiamo gli inquinanti che ogni stazione può misurare e creiamo un dizionario\n",
    "stazioni['inquinanti'] = stazioni['inquinanti'].apply(lambda x: x.split(', ') if isinstance(x, str) else [])\n",
    "dict_stazioni_inquinanti = stazioni.set_index('id_amat')['inquinanti'].to_dict()\n",
    "\n",
    "# Crea un nuovo DataFrame pivotato\n",
    "air_quality_pivoted = pd.pivot_table(air_quality, values='valore', index=['stazione_id', 'data'], columns='inquinante').reset_index()\n",
    "air_quality_pivoted['data'] = pd.to_datetime(air_quality_pivoted['data'])\n",
    "air_quality_pivoted.sort_values('data', ascending=True, inplace=True)\n",
    "\n",
    "# Estrai l'anno da ogni data\n",
    "air_quality_pivoted['year'] = air_quality_pivoted['data'].dt.year\n",
    "\n",
    "# Calcolo delle mediane annuali e riempimento dei valori NaN\n",
    "annual_medians = {}\n",
    "for stazione_id, inquinanti in dict_stazioni_inquinanti.items():\n",
    "    for inquinante in inquinanti:\n",
    "        if inquinante in air_quality_pivoted.columns:\n",
    "            data_grouped = air_quality_pivoted[air_quality_pivoted['stazione_id'] == stazione_id].groupby('year')\n",
    "            medians_by_year = data_grouped[inquinante].median()\n",
    "\n",
    "            for year, median in medians_by_year.items():\n",
    "                annual_medians[(stazione_id, inquinante, year)] = median\n",
    "\n",
    "for key, median in annual_medians.items():\n",
    "    stazione_id, inquinante, year = key\n",
    "    mask = (air_quality_pivoted['stazione_id'] == stazione_id) & \\\n",
    "           (air_quality_pivoted['year'] == year) & \\\n",
    "           (air_quality_pivoted[inquinante].isna())\n",
    "    \n",
    "    air_quality_pivoted.loc[mask, inquinante] = median\n",
    "\n",
    "# Rimozione della colonna 'year' dopo aver completato le operazioni di imputazione\n",
    "air_quality_pivoted = air_quality_pivoted.drop(columns='year')\n",
    "air_quality_pivoted = air_quality_pivoted.fillna(0)\n",
    "\n",
    "# Salvataggio del DataFrame aggiornato\n",
    "air_quality_pivoted.to_csv('./data/processed/rilevazione_qualità_aria/air_quality_pivoted.csv', index=False, na_rep='NaN')"
   ]
  },
  {
   "cell_type": "markdown",
   "metadata": {},
   "source": [
    "##### *`Creazione dataset GeoJson stazioni metereologiche`*\n",
    "\n",
    "Il codice qui presentato si occupa essenzialmente di trasformare un elenco di stazioni meteorologiche, con varie informazioni associate, in un formato facilmente utilizzabile per applicazioni geospaziali. Inizialmente, vengono eliminate alcune informazioni non necessarie, concentrando l'attenzione su dati più pertinenti, come la posizione geografica di ogni stazione.\n",
    "\n",
    "Una parte cruciale di questo processo riguarda la manipolazione delle coordinate geografiche. Dal momento che le posizioni sono state fornite come testo, il codice le converte in formato GeoJSON; uno standard specifico per i dati geografici.\n",
    "Questo formato è particolarmente utile perché è ampiamente riconosciuto e utilizzato in molte applicazioni di mappatura, rendendo i dati facilmente accessibili e utilizzabili.\n",
    "Alla fine di questa procedura avremo la possibilità, attraverso librerie e strumenti online, di ottenere una mappa con i nostri specifici \"Point\" e i relativi metadati."
   ]
  },
  {
   "cell_type": "code",
   "execution_count": null,
   "metadata": {},
   "outputs": [],
   "source": [
    "stazioni_metereologiche = pd.read_csv('./data/raw/rilevazione_qualità_aria/stazioni_metereologiche.csv')\n",
    "# Rimuovo le colonne non necessarie\n",
    "stazioni_metereologiche.drop(columns=['Location', '_id', 'inizio_operativita', 'fine_operativita'], inplace=True)\n",
    "# Rinomino le colonne\n",
    "stazioni_metereologiche.rename(columns={'LONG_X_4326': 'longitudine', 'LAT_Y_4326': 'latitudine'}, inplace=True)\n",
    "\n",
    "# Crea la struttura base GeoJSON\n",
    "geojson = {\n",
    "    \"type\": \"FeatureCollection\",\n",
    "    \"features\": []\n",
    "}\n",
    "\n",
    "# Popola GeoJSON con le features\n",
    "for index, row in stazioni_metereologiche.iterrows():\n",
    "    feature = {\n",
    "        \"type\": \"Feature\",\n",
    "        \"geometry\": {\n",
    "            \"type\": \"Point\",\n",
    "            \"coordinates\": [row['longitudine'], row['latitudine']]\n",
    "        },\n",
    "        \"properties\": row.drop(['latitudine', 'longitudine']).to_dict()\n",
    "    }\n",
    "    geojson[\"features\"].append(feature)\n",
    "\n",
    "# Salva il GeoJSON in un file\n",
    "with open(\"./data/processed/rilevazione_qualità_aria/stazioni_metereologiche.geojson\", 'w') as f:\n",
    "    json.dump(geojson, f)\n",
    "\n",
    "stazioni_metereologiche.to_csv('./data/processed/rilevazione_qualità_aria/stazioni_metereologiche.csv', index=False, na_rep='NaN')"
   ]
  },
  {
   "cell_type": "markdown",
   "metadata": {},
   "source": [
    "##### *`Creazione dataset GeoJson aree verdi`*\n",
    "\n",
    "Al fine di effettuare una analisi completa, abbiamo optato di inserire all'interno dell'analisi anche le aree verdi di Milano.\n",
    "In questo caso abbiamo prelevato i dati forniti in CSV dal comune di Milano e ne abbiamo realizzato un Geo JSON."
   ]
  },
  {
   "cell_type": "code",
   "execution_count": null,
   "metadata": {},
   "outputs": [],
   "source": [
    "aree_verdi = pd.read_csv('./data/raw/rilevazione_qualità_aria/aree_verdi.csv')\n",
    "# Rimuovo le colonne non necessarie\n",
    "aree_verdi = aree_verdi.drop(columns=['Location'])\n",
    "# Rinomino le colonne\n",
    "aree_verdi = aree_verdi.rename(columns={'LONG_X_4326_CENTROID': 'LONGITUDINE', 'LAT_Y_4326_CENTROID': 'LATITUDINE', '_id': 'ID'})\n",
    "\n",
    "# Crea la struttura base GeoJSON\n",
    "geojson_aree_verdi = {\n",
    "    \"type\": \"FeatureCollection\",\n",
    "    \"features\": []\n",
    "}\n",
    "\n",
    "# Popola GeoJSON con le features\n",
    "for index, row in aree_verdi.iterrows():\n",
    "    feature = {\n",
    "        \"type\": \"Feature\",\n",
    "        \"geometry\": {\n",
    "            \"type\": \"Point\",\n",
    "            \"coordinates\": [row['LONGITUDINE'], row['LATITUDINE']]\n",
    "        },\n",
    "        \"properties\": row.drop(['LATITUDINE', 'LONGITUDINE']).to_dict()  # escludi le colonne non necessarie\n",
    "    }\n",
    "    geojson_aree_verdi[\"features\"].append(feature)\n",
    "\n",
    "# Salva il GeoJSON in un file\n",
    "with open(\"./data/processed/rilevazione_qualità_aria/aree_verdi.geojson\", 'w') as f:\n",
    "    json.dump(geojson_aree_verdi, f)\n",
    "    \n",
    "aree_verdi.to_csv('./data/processed/rilevazione_qualità_aria/aree_verdi.csv', index=False, na_rep='NaN')"
   ]
  },
  {
   "cell_type": "markdown",
   "metadata": {},
   "source": [
    "##### *`Creazione dataset popolazione`*\n",
    "\n",
    "Il dataset in questione è stato ottenuto, innanzitutto, rimuovendo le colonne degli anni che non ci interessava analizzare. Successivamente, è stato necessario unire dei dataset poichè sono stati cambiati i metadati e la loro disposizione negli anni successivi al 2019."
   ]
  },
  {
   "cell_type": "code",
   "execution_count": null,
   "metadata": {},
   "outputs": [],
   "source": [
    "percorso_input = './data/raw/popolazione/'\n",
    "percorso_output = './data/processed/popolazione/'\n",
    "\n",
    "popolazione = pd.read_csv(percorso_input + 'ricostruzione_popolazione_2002_2019.csv')\n",
    "\n",
    "anni = np.arange(2014, 2021)\n",
    "for col in popolazione.columns:\n",
    "    try:\n",
    "        year = int(col)\n",
    "        if year not in anni:\n",
    "            popolazione = popolazione.drop(columns=col)\n",
    "    except ValueError:\n",
    "        pass\n",
    "\n",
    "\n",
    "file_list = os.listdir(percorso_input)\n",
    "popolazione_files = [f for f in file_list if f.startswith('popolazione')]\n",
    "\n",
    "prev_age = None\n",
    "curr_row = None\n",
    "\n",
    "for filename in popolazione_files:\n",
    "    new_pop = pd.read_csv(os.path.join(percorso_input, filename))\n",
    "\n",
    "    year = filename[-8:-4]\n",
    "    popolazione[year] = 0\n",
    "\n",
    "    for index, row in popolazione.iterrows():\n",
    "        age = row['Età']\n",
    "        if age != prev_age:\n",
    "            curr_row = new_pop.loc[new_pop['Età'] == age].iloc[0]\n",
    "            prev_age = age\n",
    "\n",
    "        if popolazione.loc[index, 'Sesso'] == 'Maschi':\n",
    "            popolazione.loc[index, year] = curr_row['Totale maschi']\n",
    "        elif popolazione.loc[index, 'Sesso'] == 'Femmine':\n",
    "            popolazione.loc[index, year] = curr_row['Totale femmine']\n",
    "        else:\n",
    "            popolazione.loc[index, year] = curr_row['Totale']\n",
    "\n",
    "popolazione.to_csv(percorso_output + 'popolazione_2014_2021.csv', index=False)"
   ]
  },
  {
   "cell_type": "markdown",
   "metadata": {},
   "source": [
    "##### *`Creazione dataset ricoveri`*\n",
    "\n",
    "Per il dataset dei ricoveri, poichè i dati erano già in un formato accettabile, è stato necessario solo rimuovere le colonne e le righe non necessarie."
   ]
  },
  {
   "cell_type": "code",
   "execution_count": null,
   "metadata": {},
   "outputs": [],
   "source": [
    "percorso_input = './data/raw/ricoveri/'\n",
    "percorso_output = './data/processed/ricoveri/'\n",
    "\n",
    "ricoveri = pd.read_csv(percorso_input + 'ricoveri_ordinari_apparato_respiratorio.csv', sep=';')\n",
    "\n",
    "# Rimuovo le righe degli anni precedenti al 2014\n",
    "ricoveri = ricoveri[ricoveri['anno'] >= 2014]\n",
    "\n",
    "# Rimuovo la colonna della misura utilizzata\n",
    "ricoveri = ricoveri.drop(columns='misura')\n",
    "\n",
    "ricoveri.to_csv(percorso_output + 'ricoveri_2014_2021.csv', index=False)"
   ]
  },
  {
   "cell_type": "markdown",
   "metadata": {},
   "source": [
    "***\n",
    "***"
   ]
  },
  {
   "cell_type": "markdown",
   "metadata": {},
   "source": [
    "## **`4. - Finalizzazione dei dataset`**\n",
    "\n",
    "#### **`4.1 - Ontologia`**\n",
    "\n",
    "L'ontologia progettata in questione è di tipo `OWL` ed è stata realizzata, con l'ausilio del software `Protégé`, in modo da poter essere utilizzata per la rappresentazione di dati relativi alla qualità dell'aria in un determinato comune. \n",
    "\n",
    "Nell'ontologia sono state rappresentate le seguenti entità:\n",
    "\n",
    "- **`Comune`**: che rappresenta i comuni.\n",
    "- **`Popolazione`**: che rappresenta la popolazione.\n",
    "- **`AreaVerde`**: che rappresenta le aree verdi.\n",
    "- **`StazioneMeteorologica`**: che rappresenta le stazioni meteorologiche.\n",
    "- **`MisurazioneQualitaAria`**: che rappresenta le misurazioni della qualità dell'aria.\n",
    "\n",
    "Inoltre le proprietà rappresentate nell'ontologia sono:\n",
    "\n",
    "- **`haRicoveri`**: Rappresenta il numero di ricoveri associati ad una popolazione.\n",
    "- **`haPopolazione`**: Stabilisce il numero di abitanti per un dato comune.\n",
    "- **`haAreaVerde`**: Indica la presenza di aree verdi all'interno di un comune.\n",
    "- **`haStazioneMeteorologica`**: Rappresenta la presenza di stazioni meteorologiche in un comune.\n",
    "- **`haCoordinate`**: Indica la posizione geografica di una stazione meteorologica o di un'area verde.\n",
    "- **`monitoraInquinante`**: Specifica l'inquinante specifico misurato da una stazione meteorologica.\n",
    "- **`haValoreInquinante`**: Indica il valore numerico effettivo di una misurazione della qualità dell'aria registrato da una stazione meteorologica.\n",
    "- **`haQualitaAria`**: Collega un'area verde alle misurazioni della qualità dell'aria effettuate in quella zona.\n",
    "\n",
    "\n",
    "L'ontologia descritta è stata realizzata nel formato `.ttl` ed è riportata in [**`questo file`**](ontologia.ttl).\n",
    "\n",
    "***\n",
    "\n",
    "#### **`4.2 - Conversione in RDF`**"
   ]
  },
  {
   "cell_type": "code",
   "execution_count": null,
   "metadata": {},
   "outputs": [],
   "source": [
    "from urllib import parse \n",
    "from rdflib import Graph, Literal, URIRef, Namespace, BNode\n",
    "from rdflib.namespace import RDF, OWL, RDFS\n",
    "from SPARQLWrapper import SPARQLWrapper, JSON\n",
    "from rdflib import XSD\n",
    "import pandas as pd\n",
    "\n",
    "# Preparo il grafo\n",
    "g = Graph()\n",
    "\n",
    "base_uri = \"http://www.qualitaariamilano.it/resource/\"\n",
    "\n",
    "sso = Namespace(\"http://www.semanticweb.org/aria-ontology-cb-dn/ontology/\")\n",
    "g.bind(\"sso\", sso)\n",
    "\n",
    "ssr = Namespace(\"http://www.semanticweb.org/aria-ontology-cb-dn/resource/\")\n",
    "g.bind(\"ssr\", ssr)\n",
    "\n",
    "def urify(uri, res):\n",
    "    res = str(res).replace(\" \",\"_\").replace(\"\\'\",\"\")\n",
    "    return uri + parse.quote(res)"
   ]
  },
  {
   "cell_type": "code",
   "execution_count": null,
   "metadata": {},
   "outputs": [],
   "source": [
    "# Carica il dataset sulla qualità dell'aria\n",
    "import time\n",
    "\n",
    "# Prepara i namespace\n",
    "wd = Namespace(\"http://www.wikidata.org/entity/\")\n",
    "\n",
    "# Prepara la query SPARQL\n",
    "def get_wikidata_uris(pollutant_names):\n",
    "    uris = []\n",
    "    for pollutant_name in pollutant_names:\n",
    "        sparql_query = \"\"\"\n",
    "        PREFIX rdfs: <http://www.w3.org/2000/01/rdf-schema#>\n",
    "        SELECT ?item WHERE {{\n",
    "        ?item rdfs:label \"{0}\"@en.\n",
    "        }}\n",
    "        LIMIT 1\n",
    "        \"\"\".format(pollutant_name[\"name\"])  # Non codificare qui, SPARQLWrapper gestisce già l'encoding\n",
    "        sparql = SPARQLWrapper(\"https://query.wikidata.org/sparql\")\n",
    "        sparql.setQuery(sparql_query)\n",
    "        sparql.setReturnFormat(JSON)\n",
    "        print(f\"Querying {pollutant_name['name']}...\")\n",
    "        try:\n",
    "            results = sparql.query().convert()\n",
    "            for result in results[\"results\"][\"bindings\"]:\n",
    "                uris.append(result[\"item\"][\"value\"])\n",
    "                time.sleep(2)\n",
    "                break  # Break here ensures that only the first result is taken\n",
    "        except Exception as e:\n",
    "            print(f\"An error occurred while querying {pollutant_name['name']}: {e}\")\n",
    "            uris.append(None)  # Append None if there was an error or no result\n",
    "\n",
    "    return uris\n",
    "\n",
    "# Utilizza la nuova funzione per ottenere tutti gli URI\n",
    "arr_inquinanti = [\n",
    "    { \"name\": \"benzene\", \"formula\": \"C6H6\" },\n",
    "    { \"name\": \"carbon monoxide\", \"formula\": \"CO\" },\n",
    "    { \"name\": \"nitrogen dioxide\", \"formula\": \"NO2\" },\n",
    "    { \"name\": \"ozone\", \"formula\": \"O3\" },\n",
    "    { \"name\": \"PM10 (excluding PM 2.5)\", \"formula\": \"PM10\" },\n",
    "    { \"name\": \"PM 2.5\", \"formula\": \"PM25\" },\n",
    "    { \"name\": \"sulfur dioxide\", \"formula\": \"SO2\" }\n",
    "]\n",
    "pollutant_uris = get_wikidata_uris(arr_inquinanti)\n",
    "\n",
    "# Ora puoi iterare su pollutant_uris e creare le tue triple RDF\n",
    "for pollutant, pollutant_uri in zip(arr_inquinanti, pollutant_uris):\n",
    "    if pollutant_uri:\n",
    "        # Crea l'URIRef con l'URI trovato\n",
    "        pollutant_uri_ref = URIRef(pollutant_uri)\n",
    "        formula_uri_ref = URIRef(f\"{base_uri}{pollutant['formula']}\")\n",
    "        # Aggiungi le triple al grafo\n",
    "        g.add((pollutant_uri_ref, RDF.type, OWL.Thing))\n",
    "        g.add((pollutant_uri_ref, RDFS.label, Literal(pollutant[\"name\"])))\n",
    "        g.add((pollutant_uri_ref, sso.chemicalFormula, Literal(pollutant[\"formula\"])))\n",
    "        g.add((pollutant_uri_ref, OWL.sameAs, formula_uri_ref))\n",
    "        \n",
    "print(g.serialize(format=\"turtle\"))"
   ]
  },
  {
   "cell_type": "code",
   "execution_count": null,
   "metadata": {},
   "outputs": [],
   "source": [
    "popolazione_df = pd.read_csv('./data/processed/popolazione/popolazione_totale_2014_2021.csv')\n",
    "ricoveri_df = pd.read_csv('./data/processed/ricoveri/ricoveri_2014_2021.csv')\n",
    "stazioni_metereologiche_df = pd.read_csv('./data/processed/rilevazione_qualità_aria/stazioni_metereologiche.csv')\n",
    "res = URIRef(urify(base_uri, \"Milano\"))\n",
    "\n",
    "haStazioniMetereologiche = BNode()\n",
    "\n",
    "def addSingleComuneTriple(popolazione_df):\n",
    "    #g.add([res, RDF.type, sso.Comune])\n",
    "    for index, row in popolazione_df.iterrows():\n",
    "        anno = row['Anno']\n",
    "        popolazione = row['Totale']\n",
    "        # Creazione di un Blank Node per ogni anno\n",
    "        popolazione_node = BNode()\n",
    "        g.add([res, sso.haPopolazione, popolazione_node])\n",
    "        g.add([popolazione_node, sso.anno, Literal(anno, datatype=XSD.gYear)])\n",
    "        g.add([popolazione_node, sso.totalePopolazione, Literal(popolazione, datatype=XSD.integer)])\n",
    "        # Aggiunta degli ID delle stazioni metereologiche\n",
    "    for index, row in ricoveri_df.iterrows():\n",
    "        anno = row['anno']\n",
    "        ricoveri = row['Totale']\n",
    "        # Creazione di un Blank Node per ogni anno\n",
    "        ricoveri_node = BNode()\n",
    "        g.add([res, sso.haRicoveriApparatoRespiratorio, ricoveri_node])\n",
    "        g.add([ricoveri_node, sso.anno, Literal(anno, datatype=XSD.gYear)])\n",
    "        g.add([ricoveri_node, sso.totaleRicoveri, Literal(ricoveri, datatype=XSD.integer)])\n",
    "\n",
    "# Applica la funzione\n",
    "addSingleComuneTriple(popolazione_df)"
   ]
  },
  {
   "cell_type": "code",
   "execution_count": null,
   "metadata": {},
   "outputs": [],
   "source": [
    "stazioni_metereologiche_df = pd.read_csv('./data/processed/rilevazione_qualità_aria/stazioni_metereologiche.csv')\n",
    "base_uri_stazioni = \"http://www.qualitaariamilano.it/resource/stazioni/\"\n",
    "\n",
    "for index, row in stazioni_metereologiche_df.iterrows():\n",
    "    id_amat = row['id_amat']\n",
    "    nome = row['nome']\n",
    "    latitudine = row['latitudine']\n",
    "    longitudine = row['longitudine']\n",
    "    inquinanti = row['inquinanti'].split(', ')\n",
    "    stazione_uri = URIRef(urify(base_uri_stazioni, id_amat))\n",
    "    # Aggiungi dati al grafo g\n",
    "    g.add([res, sso.haStazioneMetereologica, stazione_uri])\n",
    "    g.add([stazione_uri, RDF.type, sso.StazioneMetereologica])\n",
    "    g.add([stazione_uri, sso.idAmat, Literal(id_amat, datatype=XSD.integer)])\n",
    "    g.add([stazione_uri, sso.nome, Literal(nome, datatype=XSD.string)])\n",
    "    g.add([stazione_uri, sso.latitudine, Literal(latitudine, datatype=XSD.decimal)])\n",
    "    g.add([stazione_uri, sso.longitudine, Literal(longitudine, datatype=XSD.decimal)])\n",
    "    for inquinante in inquinanti:\n",
    "        inquinante_uri = URIRef(urify(base_uri, inquinante))\n",
    "        g.add([stazione_uri, sso.monitoraInquinante, inquinante_uri])\n",
    "    \n",
    "print(g.serialize(format=\"turtle\"))"
   ]
  },
  {
   "cell_type": "code",
   "execution_count": null,
   "metadata": {},
   "outputs": [],
   "source": [
    "from urllib.parse import urlparse\n",
    "\n",
    "air_quality_df = pd.read_csv('./data/processed/rilevazione_qualità_aria/air_quality_pivoted.csv')\n",
    "\n",
    "for index, row in air_quality_df.iterrows():\n",
    "    stazione_id = int(row['stazione_id'])\n",
    "    stazione_uri = URIRef(f\"{base_uri_stazioni}{stazione_id}\")\n",
    "    data = row['data']\n",
    "    stazione_node = BNode()\n",
    "    g.add([stazione_uri, sso.haMisuraInquinante, stazione_node])\n",
    "    g.add([stazione_node, sso.data, Literal(data, datatype=XSD.date)])\n",
    "    # Itero le triple che rappresentano le stazioni metereologiche\n",
    "    for s, p, o in g.triples((stazione_uri, sso.monitoraInquinante, None)):\n",
    "        o_name = urlparse(str(o)).path.split('/')[-1]\n",
    "        inquinante_node = BNode()\n",
    "        g.add([stazione_node, sso.inquinante, inquinante_node])\n",
    "        g.add([inquinante_node, sso.formula, Literal(o_name, datatype=XSD.string)])\n",
    "        g.add([inquinante_node, sso.valore, Literal(row[o_name], datatype=XSD.float)])\n",
    "    \n",
    "print(g.serialize(format='turtle'))"
   ]
  },
  {
   "cell_type": "code",
   "execution_count": null,
   "metadata": {},
   "outputs": [],
   "source": [
    "base_uri_aree_verdi = \"http://www.qualitaariamilano.it/resource/aree_verdi/\"\n",
    "\n",
    "aree_verdi_df = pd.read_csv('./data/processed/rilevazione_qualità_aria/aree_verdi.csv')\n",
    "\n",
    "for index, row in aree_verdi_df.iterrows():\n",
    "    area_verde_uri = URIRef(urify(base_uri_aree_verdi, row['ID']))\n",
    "    g.add([area_verde_uri, RDF.type, sso.AreaVerde])\n",
    "    g.add([area_verde_uri, sso.nome, Literal(row['PARCO'], datatype=XSD.string)])\n",
    "    g.add([area_verde_uri, sso.latitudine, Literal(row['LATITUDINE'], datatype=XSD.decimal)])\n",
    "    g.add([area_verde_uri, sso.longitudine, Literal(row['LONGITUDINE'], datatype=XSD.decimal)])\n",
    "    g.add([area_verde_uri, sso.codiceArea, Literal(row['CODICE_AREA'], datatype=XSD.integer)])\n",
    "    g.add([area_verde_uri, sso.zona, Literal(row['ZONA'], datatype=XSD.integer)])\n",
    "    g.add([area_verde_uri, sso.area, Literal(row['AREA_MQ'], datatype=XSD.decimal)])\n",
    "    g.add([area_verde_uri, sso.perimetro, Literal(row['PERIM_M'], datatype=XSD.decimal)])\n",
    "    g.add([res, sso.haAreaVerde, area_verde_uri])\n",
    "    \n",
    "print(g.serialize(format='turtle'))"
   ]
  },
  {
   "cell_type": "code",
   "execution_count": null,
   "metadata": {},
   "outputs": [],
   "source": [
    "# Salva il grafo RDF\n",
    "g.serialize(destination='./data/ontology/ontologia.ttl', format='turtle')"
   ]
  },
  {
   "cell_type": "markdown",
   "metadata": {},
   "source": [
    "***\n",
    "***\n",
    "\n",
    "## **`5. - Visualizzazione dati`**\n",
    "\n",
    "#### **`5.1 - Creazione mappe con i GeoJson`**\n",
    "\n",
    "##### Evoluzione della Popolazione e Ricoveri Respiratori nel Comune di Milano (2014-2021)"
   ]
  },
  {
   "cell_type": "code",
   "execution_count": 97,
   "metadata": {},
   "outputs": [
    {
     "data": {
      "image/png": "[encoded data removed]",
      "text/plain": [
       "<Figure size 640x480 with 2 Axes>"
      ]
     },
     "metadata": {},
     "output_type": "display_data"
    }
   ],
   "source": [
    "from matplotlib.ticker import FuncFormatter\n",
    "import pandas as pd\n",
    "\n",
    "query = \"\"\"\n",
    "PREFIX sso: <http://www.semanticweb.org/aria-ontology-cb-dn/ontology/>\n",
    "SELECT ?anno ?popolazione ?totaleRicoveri\n",
    "WHERE {\n",
    "    ?comune sso:haPopolazione ?popNode .\n",
    "    ?popNode sso:anno ?anno ;\n",
    "             sso:totalePopolazione ?popolazione .\n",
    "    OPTIONAL {\n",
    "        ?comune sso:haRicoveriApparatoRespiratorio ?ricNode .\n",
    "        ?ricNode sso:anno ?anno ;\n",
    "                 sso:totaleRicoveri ?totaleRicoveri .\n",
    "    }\n",
    "}\n",
    "ORDER BY ?anno\n",
    "\"\"\"\n",
    "\n",
    "def millions_formatter(x, pos):\n",
    "    return '%1.0f' % x\n",
    "\n",
    "result = g.query(query)\n",
    "\n",
    "# Prepara i dati per il plot\n",
    "totali = []\n",
    "for row in result:\n",
    "    totali.append({\n",
    "        'anno': str(row.anno),\n",
    "        'popolazione': int(row.popolazione) if row.popolazione is not None else 0,\n",
    "        'ricoveri': int(row.totaleRicoveri) if row.totaleRicoveri is not None else 0\n",
    "    })\n",
    "    \n",
    "totali = pd.DataFrame(totali)\n",
    "\n",
    "# Creazione del grafico\n",
    "fig, ax1 = plt.subplots()\n",
    "ax1.yaxis.set_major_formatter(FuncFormatter(millions_formatter))\n",
    "color = 'tab:red'\n",
    "ax1.set_xlabel('Anno')\n",
    "ax1.set_ylabel('Popolazione', color=color)\n",
    "ax1.plot(totali['anno'], totali['popolazione'], color=color)\n",
    "ax1.tick_params(axis='y', labelcolor=color)\n",
    "\n",
    "ax2 = ax1.twinx()  # Istanziare un secondo asse per i ricoveri\n",
    "color = 'tab:blue'\n",
    "ax2.set_ylabel('Ricoveri', color=color)\n",
    "ax2.plot(totali['anno'], totali['ricoveri'], color=color)\n",
    "ax2.tick_params(axis='y', labelcolor=color)\n",
    "\n",
    "fig.tight_layout()\n",
    "plt.title('Popolazione e Ricoveri Respiratori nel Tempo')\n",
    "plt.show()"
   ]
  },
  {
   "cell_type": "markdown",
   "metadata": {},
   "source": [
    "Nel grafico soprastante è possibile osservare l'evoluzione della popolazione e dei ricoveri respiratori nel Comune di Milano nel periodo 2014-2021. Si può notare come la popolazione sia in costante crescita, mentre i ricoveri respiratori siano in diminuzione. Notiamo un picco nell'anno 2020 che potrebbe essere dovuto alla pandemia di COVID-19."
   ]
  },
  {
   "cell_type": "code",
   "execution_count": 98,
   "metadata": {},
   "outputs": [
    {
     "data": {
      "application/vnd.plotly.v1+json": {
       "config": {
        "plotlyServerURL": "https://plot.ly"
       },
       "data": [
        {
         "hole": 0.3,
         "labels": [
          "Popolazione",
          "Ricoveri Respiratori"
         ],
         "pull": [
          0,
          0.2
         ],
         "textinfo": "label+percent",
         "type": "pie",
         "values": [
          1406242,
          1.1830111744635703
         ]
        }
       ],
       "layout": {
        "template": {
         "data": {
          "bar": [
           {
            "error_x": {
             "color": "#2a3f5f"
            },
            "error_y": {
             "color": "#2a3f5f"
            },
            "marker": {
             "line": {
              "color": "#E5ECF6",
              "width": 0.5
             },
             "pattern": {
              "fillmode": "overlay",
              "size": 10,
              "solidity": 0.2
             }
            },
            "type": "bar"
           }
          ],
          "barpolar": [
           {
            "marker": {
             "line": {
              "color": "#E5ECF6",
              "width": 0.5
             },
             "pattern": {
              "fillmode": "overlay",
              "size": 10,
              "solidity": 0.2
             }
            },
            "type": "barpolar"
           }
          ],
          "carpet": [
           {
            "aaxis": {
             "endlinecolor": "#2a3f5f",
             "gridcolor": "white",
             "linecolor": "white",
             "minorgridcolor": "white",
             "startlinecolor": "#2a3f5f"
            },
            "baxis": {
             "endlinecolor": "#2a3f5f",
             "gridcolor": "white",
             "linecolor": "white",
             "minorgridcolor": "white",
             "startlinecolor": "#2a3f5f"
            },
            "type": "carpet"
           }
          ],
          "choropleth": [
           {
            "colorbar": {
             "outlinewidth": 0,
             "ticks": ""
            },
            "type": "choropleth"
           }
          ],
          "contour": [
           {
            "colorbar": {
             "outlinewidth": 0,
             "ticks": ""
            },
            "colorscale": [
             [
              0,
              "#0d0887"
             ],
             [
              0.1111111111111111,
              "#46039f"
             ],
             [
              0.2222222222222222,
              "#7201a8"
             ],
             [
              0.3333333333333333,
              "#9c179e"
             ],
             [
              0.4444444444444444,
              "#bd3786"
             ],
             [
              0.5555555555555556,
              "#d8576b"
             ],
             [
              0.6666666666666666,
              "#ed7953"
             ],
             [
              0.7777777777777778,
              "#fb9f3a"
             ],
             [
              0.8888888888888888,
              "#fdca26"
             ],
             [
              1,
              "#f0f921"
             ]
            ],
            "type": "contour"
           }
          ],
          "contourcarpet": [
           {
            "colorbar": {
             "outlinewidth": 0,
             "ticks": ""
            },
            "type": "contourcarpet"
           }
          ],
          "heatmap": [
           {
            "colorbar": {
             "outlinewidth": 0,
             "ticks": ""
            },
            "colorscale": [
             [
              0,
              "#0d0887"
             ],
             [
              0.1111111111111111,
              "#46039f"
             ],
             [
              0.2222222222222222,
              "#7201a8"
             ],
             [
              0.3333333333333333,
              "#9c179e"
             ],
             [
              0.4444444444444444,
              "#bd3786"
             ],
             [
              0.5555555555555556,
              "#d8576b"
             ],
             [
              0.6666666666666666,
              "#ed7953"
             ],
             [
              0.7777777777777778,
              "#fb9f3a"
             ],
             [
              0.8888888888888888,
              "#fdca26"
             ],
             [
              1,
              "#f0f921"
             ]
            ],
            "type": "heatmap"
           }
          ],
          "heatmapgl": [
           {
            "colorbar": {
             "outlinewidth": 0,
             "ticks": ""
            },
            "colorscale": [
             [
              0,
              "#0d0887"
             ],
             [
              0.1111111111111111,
              "#46039f"
             ],
             [
              0.2222222222222222,
              "#7201a8"
             ],
             [
              0.3333333333333333,
              "#9c179e"
             ],
             [
              0.4444444444444444,
              "#bd3786"
             ],
             [
              0.5555555555555556,
              "#d8576b"
             ],
             [
              0.6666666666666666,
              "#ed7953"
             ],
             [
              0.7777777777777778,
              "#fb9f3a"
             ],
             [
              0.8888888888888888,
              "#fdca26"
             ],
             [
              1,
              "#f0f921"
             ]
            ],
            "type": "heatmapgl"
           }
          ],
          "histogram": [
           {
            "marker": {
             "pattern": {
              "fillmode": "overlay",
              "size": 10,
              "solidity": 0.2
             }
            },
            "type": "histogram"
           }
          ],
          "histogram2d": [
           {
            "colorbar": {
             "outlinewidth": 0,
             "ticks": ""
            },
            "colorscale": [
             [
              0,
              "#0d0887"
             ],
             [
              0.1111111111111111,
              "#46039f"
             ],
             [
              0.2222222222222222,
              "#7201a8"
             ],
             [
              0.3333333333333333,
              "#9c179e"
             ],
             [
              0.4444444444444444,
              "#bd3786"
             ],
             [
              0.5555555555555556,
              "#d8576b"
             ],
             [
              0.6666666666666666,
              "#ed7953"
             ],
             [
              0.7777777777777778,
              "#fb9f3a"
             ],
             [
              0.8888888888888888,
              "#fdca26"
             ],
             [
              1,
              "#f0f921"
             ]
            ],
            "type": "histogram2d"
           }
          ],
          "histogram2dcontour": [
           {
            "colorbar": {
             "outlinewidth": 0,
             "ticks": ""
            },
            "colorscale": [
             [
              0,
              "#0d0887"
             ],
             [
              0.1111111111111111,
              "#46039f"
             ],
             [
              0.2222222222222222,
              "#7201a8"
             ],
             [
              0.3333333333333333,
              "#9c179e"
             ],
             [
              0.4444444444444444,
              "#bd3786"
             ],
             [
              0.5555555555555556,
              "#d8576b"
             ],
             [
              0.6666666666666666,
              "#ed7953"
             ],
             [
              0.7777777777777778,
              "#fb9f3a"
             ],
             [
              0.8888888888888888,
              "#fdca26"
             ],
             [
              1,
              "#f0f921"
             ]
            ],
            "type": "histogram2dcontour"
           }
          ],
          "mesh3d": [
           {
            "colorbar": {
             "outlinewidth": 0,
             "ticks": ""
            },
            "type": "mesh3d"
           }
          ],
          "parcoords": [
           {
            "line": {
             "colorbar": {
              "outlinewidth": 0,
              "ticks": ""
             }
            },
            "type": "parcoords"
           }
          ],
          "pie": [
           {
            "automargin": true,
            "type": "pie"
           }
          ],
          "scatter": [
           {
            "fillpattern": {
             "fillmode": "overlay",
             "size": 10,
             "solidity": 0.2
            },
            "type": "scatter"
           }
          ],
          "scatter3d": [
           {
            "line": {
             "colorbar": {
              "outlinewidth": 0,
              "ticks": ""
             }
            },
            "marker": {
             "colorbar": {
              "outlinewidth": 0,
              "ticks": ""
             }
            },
            "type": "scatter3d"
           }
          ],
          "scattercarpet": [
           {
            "marker": {
             "colorbar": {
              "outlinewidth": 0,
              "ticks": ""
             }
            },
            "type": "scattercarpet"
           }
          ],
          "scattergeo": [
           {
            "marker": {
             "colorbar": {
              "outlinewidth": 0,
              "ticks": ""
             }
            },
            "type": "scattergeo"
           }
          ],
          "scattergl": [
           {
            "marker": {
             "colorbar": {
              "outlinewidth": 0,
              "ticks": ""
             }
            },
            "type": "scattergl"
           }
          ],
          "scattermapbox": [
           {
            "marker": {
             "colorbar": {
              "outlinewidth": 0,
              "ticks": ""
             }
            },
            "type": "scattermapbox"
           }
          ],
          "scatterpolar": [
           {
            "marker": {
             "colorbar": {
              "outlinewidth": 0,
              "ticks": ""
             }
            },
            "type": "scatterpolar"
           }
          ],
          "scatterpolargl": [
           {
            "marker": {
             "colorbar": {
              "outlinewidth": 0,
              "ticks": ""
             }
            },
            "type": "scatterpolargl"
           }
          ],
          "scatterternary": [
           {
            "marker": {
             "colorbar": {
              "outlinewidth": 0,
              "ticks": ""
             }
            },
            "type": "scatterternary"
           }
          ],
          "surface": [
           {
            "colorbar": {
             "outlinewidth": 0,
             "ticks": ""
            },
            "colorscale": [
             [
              0,
              "#0d0887"
             ],
             [
              0.1111111111111111,
              "#46039f"
             ],
             [
              0.2222222222222222,
              "#7201a8"
             ],
             [
              0.3333333333333333,
              "#9c179e"
             ],
             [
              0.4444444444444444,
              "#bd3786"
             ],
             [
              0.5555555555555556,
              "#d8576b"
             ],
             [
              0.6666666666666666,
              "#ed7953"
             ],
             [
              0.7777777777777778,
              "#fb9f3a"
             ],
             [
              0.8888888888888888,
              "#fdca26"
             ],
             [
              1,
              "#f0f921"
             ]
            ],
            "type": "surface"
           }
          ],
          "table": [
           {
            "cells": {
             "fill": {
              "color": "#EBF0F8"
             },
             "line": {
              "color": "white"
             }
            },
            "header": {
             "fill": {
              "color": "#C8D4E3"
             },
             "line": {
              "color": "white"
             }
            },
            "type": "table"
           }
          ]
         },
         "layout": {
          "annotationdefaults": {
           "arrowcolor": "#2a3f5f",
           "arrowhead": 0,
           "arrowwidth": 1
          },
          "autotypenumbers": "strict",
          "coloraxis": {
           "colorbar": {
            "outlinewidth": 0,
            "ticks": ""
           }
          },
          "colorscale": {
           "diverging": [
            [
             0,
             "#8e0152"
            ],
            [
             0.1,
             "#c51b7d"
            ],
            [
             0.2,
             "#de77ae"
            ],
            [
             0.3,
             "#f1b6da"
            ],
            [
             0.4,
             "#fde0ef"
            ],
            [
             0.5,
             "#f7f7f7"
            ],
            [
             0.6,
             "#e6f5d0"
            ],
            [
             0.7,
             "#b8e186"
            ],
            [
             0.8,
             "#7fbc41"
            ],
            [
             0.9,
             "#4d9221"
            ],
            [
             1,
             "#276419"
            ]
           ],
           "sequential": [
            [
             0,
             "#0d0887"
            ],
            [
             0.1111111111111111,
             "#46039f"
            ],
            [
             0.2222222222222222,
             "#7201a8"
            ],
            [
             0.3333333333333333,
             "#9c179e"
            ],
            [
             0.4444444444444444,
             "#bd3786"
            ],
            [
             0.5555555555555556,
             "#d8576b"
            ],
            [
             0.6666666666666666,
             "#ed7953"
            ],
            [
             0.7777777777777778,
             "#fb9f3a"
            ],
            [
             0.8888888888888888,
             "#fdca26"
            ],
            [
             1,
             "#f0f921"
            ]
           ],
           "sequentialminus": [
            [
             0,
             "#0d0887"
            ],
            [
             0.1111111111111111,
             "#46039f"
            ],
            [
             0.2222222222222222,
             "#7201a8"
            ],
            [
             0.3333333333333333,
             "#9c179e"
            ],
            [
             0.4444444444444444,
             "#bd3786"
            ],
            [
             0.5555555555555556,
             "#d8576b"
            ],
            [
             0.6666666666666666,
             "#ed7953"
            ],
            [
             0.7777777777777778,
             "#fb9f3a"
            ],
            [
             0.8888888888888888,
             "#fdca26"
            ],
            [
             1,
             "#f0f921"
            ]
           ]
          },
          "colorway": [
           "#636efa",
           "#EF553B",
           "#00cc96",
           "#ab63fa",
           "#FFA15A",
           "#19d3f3",
           "#FF6692",
           "#B6E880",
           "#FF97FF",
           "#FECB52"
          ],
          "font": {
           "color": "#2a3f5f"
          },
          "geo": {
           "bgcolor": "white",
           "lakecolor": "white",
           "landcolor": "#E5ECF6",
           "showlakes": true,
           "showland": true,
           "subunitcolor": "white"
          },
          "hoverlabel": {
           "align": "left"
          },
          "hovermode": "closest",
          "mapbox": {
           "style": "light"
          },
          "paper_bgcolor": "white",
          "plot_bgcolor": "#E5ECF6",
          "polar": {
           "angularaxis": {
            "gridcolor": "white",
            "linecolor": "white",
            "ticks": ""
           },
           "bgcolor": "#E5ECF6",
           "radialaxis": {
            "gridcolor": "white",
            "linecolor": "white",
            "ticks": ""
           }
          },
          "scene": {
           "xaxis": {
            "backgroundcolor": "#E5ECF6",
            "gridcolor": "white",
            "gridwidth": 2,
            "linecolor": "white",
            "showbackground": true,
            "ticks": "",
            "zerolinecolor": "white"
           },
           "yaxis": {
            "backgroundcolor": "#E5ECF6",
            "gridcolor": "white",
            "gridwidth": 2,
            "linecolor": "white",
            "showbackground": true,
            "ticks": "",
            "zerolinecolor": "white"
           },
           "zaxis": {
            "backgroundcolor": "#E5ECF6",
            "gridcolor": "white",
            "gridwidth": 2,
            "linecolor": "white",
            "showbackground": true,
            "ticks": "",
            "zerolinecolor": "white"
           }
          },
          "shapedefaults": {
           "line": {
            "color": "#2a3f5f"
           }
          },
          "ternary": {
           "aaxis": {
            "gridcolor": "white",
            "linecolor": "white",
            "ticks": ""
           },
           "baxis": {
            "gridcolor": "white",
            "linecolor": "white",
            "ticks": ""
           },
           "bgcolor": "#E5ECF6",
           "caxis": {
            "gridcolor": "white",
            "linecolor": "white",
            "ticks": ""
           }
          },
          "title": {
           "x": 0.05
          },
          "xaxis": {
           "automargin": true,
           "gridcolor": "white",
           "linecolor": "white",
           "ticks": "",
           "title": {
            "standoff": 15
           },
           "zerolinecolor": "white",
           "zerolinewidth": 2
          },
          "yaxis": {
           "automargin": true,
           "gridcolor": "white",
           "linecolor": "white",
           "ticks": "",
           "title": {
            "standoff": 15
           },
           "zerolinecolor": "white",
           "zerolinewidth": 2
          }
         }
        },
        "title": {
         "text": "Distribuzione della Popolazione e dei Ricoveri per Apparato Respiratorio nell'anno 2020"
        }
       }
      }
     },
     "metadata": {},
     "output_type": "display_data"
    }
   ],
   "source": [
    "import plotly.graph_objects as go\n",
    "\n",
    "# Dati di esempio presi dal 2020\n",
    "rigaRiferimento = totali.loc[totali['anno'] == '2020'].squeeze()\n",
    "\n",
    "# Calcoliamo la percentuale di ricoveri rispetto alla popolazione totale\n",
    "perc = (rigaRiferimento['ricoveri'] / rigaRiferimento['popolazione']) * 100\n",
    "\n",
    "# Creiamo il grafico a torta\n",
    "fig = go.Figure(data=[go.Pie(labels=['Popolazione', 'Ricoveri Respiratori'],\n",
    "                             values=[rigaRiferimento['popolazione'], perc],\n",
    "                             hole=0.3, textinfo='label+percent', pull=[0, 0.2])])\n",
    "\n",
    "# Aggiungiamo il titolo\n",
    "fig.update_layout(title_text=\"Distribuzione della Popolazione e dei Ricoveri per Apparato Respiratorio nell'anno 2020\")\n",
    "\n",
    "# Mostrare il grafico\n",
    "fig.show()"
   ]
  },
  {
   "cell_type": "markdown",
   "metadata": {},
   "source": [
    "Nel grafico soprastante è stata messa il relazione la popolazione residente nel Comune di Milano con i ricoveri per patologie respiratorie. Si può notare come il valore sia nettamente inferiore se paragonato al totale della popolazione, nonostante sia comunque un numero (circa 15000 l'anno) significativo."
   ]
  },
  {
   "cell_type": "markdown",
   "metadata": {},
   "source": [
    "##### Variazioni Stagionali della Qualità dell'Aria: Un'Analisi Mensile degli Inquinanti nel Comune di Milano"
   ]
  },
  {
   "cell_type": "code",
   "execution_count": 99,
   "metadata": {},
   "outputs": [
    {
     "data": {
      "application/vnd.plotly.v1+json": {
       "config": {
        "plotlyServerURL": "https://plot.ly"
       },
       "data": [
        {
         "hovertemplate": "Inquinante=C6H6<br>Anno=2014<br>Mese=%{x}<br>Media dei Valori=%{y}<extra></extra>",
         "legendgroup": "C6H6",
         "line": {
          "color": "#636efa",
          "dash": "solid"
         },
         "marker": {
          "symbol": "circle"
         },
         "mode": "lines",
         "name": "C6H6",
         "orientation": "v",
         "showlegend": true,
         "type": "scatter",
         "x": [
          1,
          2,
          3,
          4,
          5,
          6,
          7,
          8,
          9,
          10,
          11,
          12
         ],
         "xaxis": "x",
         "y": [
          2.7039999999999997,
          1.9575471698113207,
          1.7829787234042553,
          1.513157894736842,
          1.5,
          1.5,
          1.240952380952381,
          0.6567796610169492,
          1.2403508771929825,
          1.98348623853211,
          2.601098901098901,
          2.7542168674698795
         ],
         "yaxis": "y"
        },
        {
         "hovertemplate": "Inquinante=CO_8h<br>Anno=2014<br>Mese=%{x}<br>Media dei Valori=%{y}<extra></extra>",
         "legendgroup": "CO_8h",
         "line": {
          "color": "#EF553B",
          "dash": "solid"
         },
         "marker": {
          "symbol": "circle"
         },
         "mode": "lines",
         "name": "CO_8h",
         "orientation": "v",
         "showlegend": true,
         "type": "scatter",
         "x": [
          1,
          2,
          3,
          4,
          5,
          6,
          7,
          8,
          9,
          10,
          11,
          12
         ],
         "xaxis": "x",
         "y": [
          1.5777777777777777,
          1.3146153846153847,
          1.2514285714285716,
          0.9149999999999999,
          0.733203125,
          0.8842975206611571,
          0.7084677419354838,
          0.5968965517241379,
          0.8146428571428571,
          0.9961538461538462,
          1.374,
          1.2177777777777776
         ],
         "yaxis": "y"
        },
        {
         "hovertemplate": "Inquinante=NO2<br>Anno=2014<br>Mese=%{x}<br>Media dei Valori=%{y}<extra></extra>",
         "legendgroup": "NO2",
         "line": {
          "color": "#00cc96",
          "dash": "solid"
         },
         "marker": {
          "symbol": "circle"
         },
         "mode": "lines",
         "name": "NO2",
         "orientation": "v",
         "showlegend": true,
         "type": "scatter",
         "x": [
          1,
          2,
          3,
          4,
          5,
          6,
          7,
          8,
          9,
          10,
          11,
          12
         ],
         "xaxis": "x",
         "y": [
          92.62244897959184,
          90.72142857142858,
          103.01685393258427,
          89.29032258064517,
          69.89336492890995,
          77.07692307692308,
          68.62682926829268,
          58.457264957264954,
          85.24888888888889,
          82.0495283018868,
          79.96470588235294,
          82.54716981132076
         ],
         "yaxis": "y"
        },
        {
         "hovertemplate": "Inquinante=O3<br>Anno=2014<br>Mese=%{x}<br>Media dei Valori=%{y}<extra></extra>",
         "legendgroup": "O3",
         "line": {
          "color": "#ab63fa",
          "dash": "solid"
         },
         "marker": {
          "symbol": "circle"
         },
         "mode": "lines",
         "name": "O3",
         "orientation": "v",
         "showlegend": true,
         "type": "scatter",
         "x": [
          1,
          2,
          3,
          4,
          5,
          6,
          7,
          8,
          9,
          10,
          11,
          12
         ],
         "xaxis": "x",
         "y": [
          24.72151898734177,
          28.425,
          71.42465753424658,
          84.87209302325581,
          94.3012048192771,
          118.66233766233766,
          101.46913580246914,
          97.08988764044943,
          86.62352941176471,
          54.329268292682926,
          43.76923076923077,
          30.28985507246377
         ],
         "yaxis": "y"
        },
        {
         "hovertemplate": "Inquinante=PM10<br>Anno=2014<br>Mese=%{x}<br>Media dei Valori=%{y}<extra></extra>",
         "legendgroup": "PM10",
         "line": {
          "color": "#FFA15A",
          "dash": "solid"
         },
         "marker": {
          "symbol": "circle"
         },
         "mode": "lines",
         "name": "PM10",
         "orientation": "v",
         "showlegend": true,
         "type": "scatter",
         "x": [
          1,
          2,
          3,
          4,
          5,
          6,
          7,
          8,
          9,
          10,
          11,
          12
         ],
         "xaxis": "x",
         "y": [
          31.194174757281555,
          23.69811320754717,
          35.319148936170215,
          23.535087719298247,
          15.752293577981652,
          20.862745098039216,
          14.00943396226415,
          13,
          22.42982456140351,
          33.293577981651374,
          31.232558139534884,
          29.738636363636363
         ],
         "yaxis": "y"
        },
        {
         "hovertemplate": "Inquinante=PM25<br>Anno=2014<br>Mese=%{x}<br>Media dei Valori=%{y}<extra></extra>",
         "legendgroup": "PM25",
         "line": {
          "color": "#19d3f3",
          "dash": "solid"
         },
         "marker": {
          "symbol": "circle"
         },
         "mode": "lines",
         "name": "PM25",
         "orientation": "v",
         "showlegend": true,
         "type": "scatter",
         "x": [
          1,
          2,
          3,
          4,
          5,
          6,
          7,
          8,
          9,
          10,
          11,
          12
         ],
         "xaxis": "x",
         "y": [
          24.829113924050635,
          17.81875,
          25.575342465753426,
          14.779069767441861,
          10.180722891566266,
          12.480519480519481,
          8.271604938271604,
          6.898876404494382,
          13.104651162790697,
          20.686746987951807,
          21.392857142857142,
          20.543478260869566
         ],
         "yaxis": "y"
        },
        {
         "hovertemplate": "Inquinante=SO2<br>Anno=2014<br>Mese=%{x}<br>Media dei Valori=%{y}<extra></extra>",
         "legendgroup": "SO2",
         "line": {
          "color": "#FF6692",
          "dash": "solid"
         },
         "marker": {
          "symbol": "circle"
         },
         "mode": "lines",
         "name": "SO2",
         "orientation": "v",
         "showlegend": true,
         "type": "scatter",
         "x": [
          1,
          2,
          3,
          4,
          5,
          6,
          7,
          8,
          9,
          10,
          11,
          12
         ],
         "xaxis": "x",
         "y": [
          4.145161290322581,
          5.285714285714286,
          4.193548387096774,
          3.4833333333333334,
          6.935483870967742,
          6.518518518518518,
          5.129032258064516,
          2.7419354838709675,
          3.316666666666667,
          3.225806451612903,
          6.428571428571429,
          5.838709677419355
         ],
         "yaxis": "y"
        }
       ],
       "frames": [
        {
         "data": [
          {
           "hovertemplate": "Inquinante=C6H6<br>Anno=2014<br>Mese=%{x}<br>Media dei Valori=%{y}<extra></extra>",
           "legendgroup": "C6H6",
           "line": {
            "color": "#636efa",
            "dash": "solid"
           },
           "marker": {
            "symbol": "circle"
           },
           "mode": "lines",
           "name": "C6H6",
           "orientation": "v",
           "showlegend": true,
           "type": "scatter",
           "x": [
            1,
            2,
            3,
            4,
            5,
            6,
            7,
            8,
            9,
            10,
            11,
            12
           ],
           "xaxis": "x",
           "y": [
            2.7039999999999997,
            1.9575471698113207,
            1.7829787234042553,
            1.513157894736842,
            1.5,
            1.5,
            1.240952380952381,
            0.6567796610169492,
            1.2403508771929825,
            1.98348623853211,
            2.601098901098901,
            2.7542168674698795
           ],
           "yaxis": "y"
          },
          {
           "hovertemplate": "Inquinante=CO_8h<br>Anno=2014<br>Mese=%{x}<br>Media dei Valori=%{y}<extra></extra>",
           "legendgroup": "CO_8h",
           "line": {
            "color": "#EF553B",
            "dash": "solid"
           },
           "marker": {
            "symbol": "circle"
           },
           "mode": "lines",
           "name": "CO_8h",
           "orientation": "v",
           "showlegend": true,
           "type": "scatter",
           "x": [
            1,
            2,
            3,
            4,
            5,
            6,
            7,
            8,
            9,
            10,
            11,
            12
           ],
           "xaxis": "x",
           "y": [
            1.5777777777777777,
            1.3146153846153847,
            1.2514285714285716,
            0.9149999999999999,
            0.733203125,
            0.8842975206611571,
            0.7084677419354838,
            0.5968965517241379,
            0.8146428571428571,
            0.9961538461538462,
            1.374,
            1.2177777777777776
           ],
           "yaxis": "y"
          },
          {
           "hovertemplate": "Inquinante=NO2<br>Anno=2014<br>Mese=%{x}<br>Media dei Valori=%{y}<extra></extra>",
           "legendgroup": "NO2",
           "line": {
            "color": "#00cc96",
            "dash": "solid"
           },
           "marker": {
            "symbol": "circle"
           },
           "mode": "lines",
           "name": "NO2",
           "orientation": "v",
           "showlegend": true,
           "type": "scatter",
           "x": [
            1,
            2,
            3,
            4,
            5,
            6,
            7,
            8,
            9,
            10,
            11,
            12
           ],
           "xaxis": "x",
           "y": [
            92.62244897959184,
            90.72142857142858,
            103.01685393258427,
            89.29032258064517,
            69.89336492890995,
            77.07692307692308,
            68.62682926829268,
            58.457264957264954,
            85.24888888888889,
            82.0495283018868,
            79.96470588235294,
            82.54716981132076
           ],
           "yaxis": "y"
          },
          {
           "hovertemplate": "Inquinante=O3<br>Anno=2014<br>Mese=%{x}<br>Media dei Valori=%{y}<extra></extra>",
           "legendgroup": "O3",
           "line": {
            "color": "#ab63fa",
            "dash": "solid"
           },
           "marker": {
            "symbol": "circle"
           },
           "mode": "lines",
           "name": "O3",
           "orientation": "v",
           "showlegend": true,
           "type": "scatter",
           "x": [
            1,
            2,
            3,
            4,
            5,
            6,
            7,
            8,
            9,
            10,
            11,
            12
           ],
           "xaxis": "x",
           "y": [
            24.72151898734177,
            28.425,
            71.42465753424658,
            84.87209302325581,
            94.3012048192771,
            118.66233766233766,
            101.46913580246914,
            97.08988764044943,
            86.62352941176471,
            54.329268292682926,
            43.76923076923077,
            30.28985507246377
           ],
           "yaxis": "y"
          },
          {
           "hovertemplate": "Inquinante=PM10<br>Anno=2014<br>Mese=%{x}<br>Media dei Valori=%{y}<extra></extra>",
           "legendgroup": "PM10",
           "line": {
            "color": "#FFA15A",
            "dash": "solid"
           },
           "marker": {
            "symbol": "circle"
           },
           "mode": "lines",
           "name": "PM10",
           "orientation": "v",
           "showlegend": true,
           "type": "scatter",
           "x": [
            1,
            2,
            3,
            4,
            5,
            6,
            7,
            8,
            9,
            10,
            11,
            12
           ],
           "xaxis": "x",
           "y": [
            31.194174757281555,
            23.69811320754717,
            35.319148936170215,
            23.535087719298247,
            15.752293577981652,
            20.862745098039216,
            14.00943396226415,
            13,
            22.42982456140351,
            33.293577981651374,
            31.232558139534884,
            29.738636363636363
           ],
           "yaxis": "y"
          },
          {
           "hovertemplate": "Inquinante=PM25<br>Anno=2014<br>Mese=%{x}<br>Media dei Valori=%{y}<extra></extra>",
           "legendgroup": "PM25",
           "line": {
            "color": "#19d3f3",
            "dash": "solid"
           },
           "marker": {
            "symbol": "circle"
           },
           "mode": "lines",
           "name": "PM25",
           "orientation": "v",
           "showlegend": true,
           "type": "scatter",
           "x": [
            1,
            2,
            3,
            4,
            5,
            6,
            7,
            8,
            9,
            10,
            11,
            12
           ],
           "xaxis": "x",
           "y": [
            24.829113924050635,
            17.81875,
            25.575342465753426,
            14.779069767441861,
            10.180722891566266,
            12.480519480519481,
            8.271604938271604,
            6.898876404494382,
            13.104651162790697,
            20.686746987951807,
            21.392857142857142,
            20.543478260869566
           ],
           "yaxis": "y"
          },
          {
           "hovertemplate": "Inquinante=SO2<br>Anno=2014<br>Mese=%{x}<br>Media dei Valori=%{y}<extra></extra>",
           "legendgroup": "SO2",
           "line": {
            "color": "#FF6692",
            "dash": "solid"
           },
           "marker": {
            "symbol": "circle"
           },
           "mode": "lines",
           "name": "SO2",
           "orientation": "v",
           "showlegend": true,
           "type": "scatter",
           "x": [
            1,
            2,
            3,
            4,
            5,
            6,
            7,
            8,
            9,
            10,
            11,
            12
           ],
           "xaxis": "x",
           "y": [
            4.145161290322581,
            5.285714285714286,
            4.193548387096774,
            3.4833333333333334,
            6.935483870967742,
            6.518518518518518,
            5.129032258064516,
            2.7419354838709675,
            3.316666666666667,
            3.225806451612903,
            6.428571428571429,
            5.838709677419355
           ],
           "yaxis": "y"
          }
         ],
         "name": "2014"
        },
        {
         "data": [
          {
           "hovertemplate": "Inquinante=C6H6<br>Anno=2015<br>Mese=%{x}<br>Media dei Valori=%{y}<extra></extra>",
           "legendgroup": "C6H6",
           "line": {
            "color": "#636efa",
            "dash": "solid"
           },
           "marker": {
            "symbol": "circle"
           },
           "mode": "lines",
           "name": "C6H6",
           "orientation": "v",
           "showlegend": true,
           "type": "scatter",
           "x": [
            1,
            2,
            3,
            4,
            5,
            6,
            7,
            8,
            9,
            10,
            11,
            12
           ],
           "xaxis": "x",
           "y": [
            2.818,
            2.747727272727273,
            1.9058252427184468,
            1.1565656565656566,
            1.128409090909091,
            1.0155172413793103,
            0.9567961165048543,
            1.0308823529411764,
            1.3218390804597702,
            2.145360824742268,
            3.0865591397849466,
            3.75
           ],
           "yaxis": "y"
          },
          {
           "hovertemplate": "Inquinante=CO_8h<br>Anno=2015<br>Mese=%{x}<br>Media dei Valori=%{y}<extra></extra>",
           "legendgroup": "CO_8h",
           "line": {
            "color": "#EF553B",
            "dash": "solid"
           },
           "marker": {
            "symbol": "circle"
           },
           "mode": "lines",
           "name": "CO_8h",
           "orientation": "v",
           "showlegend": true,
           "type": "scatter",
           "x": [
            1,
            2,
            3,
            4,
            5,
            6,
            7,
            8,
            9,
            10,
            11,
            12
           ],
           "xaxis": "x",
           "y": [
            1.508,
            1.615,
            1.3991666666666667,
            1.2269565217391303,
            0.843157894736842,
            0.6902173913043478,
            0.7666666666666666,
            0.7671428571428572,
            0.8999999999999999,
            1.2477064220183487,
            1.5414285714285714,
            1.956
           ],
           "yaxis": "y"
          },
          {
           "hovertemplate": "Inquinante=NO2<br>Anno=2015<br>Mese=%{x}<br>Media dei Valori=%{y}<extra></extra>",
           "legendgroup": "NO2",
           "line": {
            "color": "#00cc96",
            "dash": "solid"
           },
           "marker": {
            "symbol": "circle"
           },
           "mode": "lines",
           "name": "NO2",
           "orientation": "v",
           "showlegend": true,
           "type": "scatter",
           "x": [
            1,
            2,
            3,
            4,
            5,
            6,
            7,
            8,
            9,
            10,
            11,
            12
           ],
           "xaxis": "x",
           "y": [
            101.58148148148148,
            116.58035714285714,
            108.91457286432161,
            97.16939890710383,
            82.88414634146342,
            74.19620253164557,
            69.36312849162012,
            75.95967741935483,
            83.79012345679013,
            85.77777777777777,
            101.76704545454545,
            95.77575757575758
           ],
           "yaxis": "y"
          },
          {
           "hovertemplate": "Inquinante=O3<br>Anno=2015<br>Mese=%{x}<br>Media dei Valori=%{y}<extra></extra>",
           "legendgroup": "O3",
           "line": {
            "color": "#ab63fa",
            "dash": "solid"
           },
           "marker": {
            "symbol": "circle"
           },
           "mode": "lines",
           "name": "O3",
           "orientation": "v",
           "showlegend": true,
           "type": "scatter",
           "x": [
            1,
            2,
            3,
            4,
            5,
            6,
            7,
            8,
            9,
            10,
            11,
            12
           ],
           "xaxis": "x",
           "y": [
            43.391666666666666,
            49.705882352941174,
            72.25949367088607,
            95.20394736842105,
            99.76811594202898,
            112.5923076923077,
            142.8125,
            109.83333333333333,
            79.0223880597015,
            47.92567567567568,
            30.176056338028168,
            28.83076923076923
           ],
           "yaxis": "y"
          },
          {
           "hovertemplate": "Inquinante=PM10<br>Anno=2015<br>Mese=%{x}<br>Media dei Valori=%{y}<extra></extra>",
           "legendgroup": "PM10",
           "line": {
            "color": "#FFA15A",
            "dash": "solid"
           },
           "marker": {
            "symbol": "circle"
           },
           "mode": "lines",
           "name": "PM10",
           "orientation": "v",
           "showlegend": true,
           "type": "scatter",
           "x": [
            1,
            2,
            3,
            4,
            5,
            6,
            7,
            8,
            9,
            10,
            11,
            12
           ],
           "xaxis": "x",
           "y": [
            38.9,
            38.78409090909091,
            34.09708737864078,
            24.095959595959595,
            21.607954545454547,
            19.56547619047619,
            22.963541666666668,
            22.74264705882353,
            21.546511627906977,
            28.447916666666668,
            40.06989247311828,
            57.55
           ],
           "yaxis": "y"
          },
          {
           "hovertemplate": "Inquinante=PM25<br>Anno=2015<br>Mese=%{x}<br>Media dei Valori=%{y}<extra></extra>",
           "legendgroup": "PM25",
           "line": {
            "color": "#19d3f3",
            "dash": "solid"
           },
           "marker": {
            "symbol": "circle"
           },
           "mode": "lines",
           "name": "PM25",
           "orientation": "v",
           "showlegend": true,
           "type": "scatter",
           "x": [
            1,
            2,
            3,
            4,
            5,
            6,
            7,
            8,
            9,
            10,
            11,
            12
           ],
           "xaxis": "x",
           "y": [
            28.45,
            28.38235294117647,
            24.79746835443038,
            17.460526315789473,
            14.63768115942029,
            12.352941176470589,
            12.518987341772151,
            15.592592592592593,
            13.110294117647058,
            19.28,
            27.229166666666668,
            41.92857142857143
           ],
           "yaxis": "y"
          },
          {
           "hovertemplate": "Inquinante=SO2<br>Anno=2015<br>Mese=%{x}<br>Media dei Valori=%{y}<extra></extra>",
           "legendgroup": "SO2",
           "line": {
            "color": "#FF6692",
            "dash": "solid"
           },
           "marker": {
            "symbol": "circle"
           },
           "mode": "lines",
           "name": "SO2",
           "orientation": "v",
           "showlegend": true,
           "type": "scatter",
           "x": [
            1,
            2,
            3,
            4,
            5,
            6,
            7,
            8,
            9,
            10,
            11,
            12
           ],
           "xaxis": "x",
           "y": [
            2.933333333333333,
            3.017857142857143,
            3.2580645161290325,
            2.5,
            3.661290322580645,
            2.75,
            4.306451612903226,
            3.1538461538461537,
            6.366666666666666,
            6.903225806451613,
            6.316666666666666,
            4.95
           ],
           "yaxis": "y"
          }
         ],
         "name": "2015"
        },
        {
         "data": [
          {
           "hovertemplate": "Inquinante=C6H6<br>Anno=2016<br>Mese=%{x}<br>Media dei Valori=%{y}<extra></extra>",
           "legendgroup": "C6H6",
           "line": {
            "color": "#636efa",
            "dash": "solid"
           },
           "marker": {
            "symbol": "circle"
           },
           "mode": "lines",
           "name": "C6H6",
           "orientation": "v",
           "showlegend": true,
           "type": "scatter",
           "x": [
            1,
            2,
            3,
            4,
            5,
            6,
            7,
            8,
            9,
            10,
            11,
            12
           ],
           "xaxis": "x",
           "y": [
            2.4016666666666664,
            2.1535714285714285,
            1.4637499999999999,
            0.9346666666666666,
            0.9800000000000001,
            0.7609375,
            0.7095238095238096,
            0.575,
            1.1369047619047619,
            1.6162500000000002,
            2.169047619047619,
            3.575735294117647
           ],
           "yaxis": "y"
          },
          {
           "hovertemplate": "Inquinante=CO_8h<br>Anno=2016<br>Mese=%{x}<br>Media dei Valori=%{y}<extra></extra>",
           "legendgroup": "CO_8h",
           "line": {
            "color": "#EF553B",
            "dash": "solid"
           },
           "marker": {
            "symbol": "circle"
           },
           "mode": "lines",
           "name": "CO_8h",
           "orientation": "v",
           "showlegend": true,
           "type": "scatter",
           "x": [
            1,
            2,
            3,
            4,
            5,
            6,
            7,
            8,
            9,
            10,
            11,
            12
           ],
           "xaxis": "x",
           "y": [
            1.5253333333333334,
            1.0180952380952382,
            0.978,
            0.651595744680851,
            0.5820000000000001,
            0.6481250000000001,
            0.7380952380952381,
            0.6311111111111111,
            0.8466666666666667,
            1.085,
            1.2685714285714285,
            1.572941176470588
           ],
           "yaxis": "y"
          },
          {
           "hovertemplate": "Inquinante=NO2<br>Anno=2016<br>Mese=%{x}<br>Media dei Valori=%{y}<extra></extra>",
           "legendgroup": "NO2",
           "line": {
            "color": "#00cc96",
            "dash": "solid"
           },
           "marker": {
            "symbol": "circle"
           },
           "mode": "lines",
           "name": "NO2",
           "orientation": "v",
           "showlegend": true,
           "type": "scatter",
           "x": [
            1,
            2,
            3,
            4,
            5,
            6,
            7,
            8,
            9,
            10,
            11,
            12
           ],
           "xaxis": "x",
           "y": [
            99.68333333333334,
            83.95808383233533,
            81.93959731543625,
            75.24489795918367,
            72.7625,
            72.9921875,
            72.58333333333333,
            64.05882352941177,
            91.42514970059881,
            79.6,
            79.83333333333333,
            89.71851851851852
           ],
           "yaxis": "y"
          },
          {
           "hovertemplate": "Inquinante=O3<br>Anno=2016<br>Mese=%{x}<br>Media dei Valori=%{y}<extra></extra>",
           "legendgroup": "O3",
           "line": {
            "color": "#ab63fa",
            "dash": "solid"
           },
           "marker": {
            "symbol": "circle"
           },
           "mode": "lines",
           "name": "O3",
           "orientation": "v",
           "showlegend": true,
           "type": "scatter",
           "x": [
            1,
            2,
            3,
            4,
            5,
            6,
            7,
            8,
            9,
            10,
            11,
            12
           ],
           "xaxis": "x",
           "y": [
            19.08888888888889,
            50.976190476190474,
            74.30833333333334,
            80.63157894736842,
            83.39166666666667,
            116.91666666666667,
            134.5793650793651,
            115.48148148148148,
            111.24603174603175,
            42.075,
            19.825396825396826,
            14.696078431372548
           ],
           "yaxis": "y"
          },
          {
           "hovertemplate": "Inquinante=PM10<br>Anno=2016<br>Mese=%{x}<br>Media dei Valori=%{y}<extra></extra>",
           "legendgroup": "PM10",
           "line": {
            "color": "#FFA15A",
            "dash": "solid"
           },
           "marker": {
            "symbol": "circle"
           },
           "mode": "lines",
           "name": "PM10",
           "orientation": "v",
           "showlegend": true,
           "type": "scatter",
           "x": [
            1,
            2,
            3,
            4,
            5,
            6,
            7,
            8,
            9,
            10,
            11,
            12
           ],
           "xaxis": "x",
           "y": [
            42.3,
            30.214285714285715,
            21.8125,
            22.64,
            14.7,
            15.015625,
            18.261904761904763,
            14.98611111111111,
            25,
            23.0375,
            32.57142857142857,
            45.11764705882353
           ],
           "yaxis": "y"
          },
          {
           "hovertemplate": "Inquinante=PM25<br>Anno=2016<br>Mese=%{x}<br>Media dei Valori=%{y}<extra></extra>",
           "legendgroup": "PM25",
           "line": {
            "color": "#19d3f3",
            "dash": "solid"
           },
           "marker": {
            "symbol": "circle"
           },
           "mode": "lines",
           "name": "PM25",
           "orientation": "v",
           "showlegend": true,
           "type": "scatter",
           "x": [
            1,
            2,
            3,
            4,
            5,
            6,
            7,
            8,
            9,
            10,
            11,
            12
           ],
           "xaxis": "x",
           "y": [
            31.466666666666665,
            20.952380952380953,
            15.966666666666667,
            15.446428571428571,
            10.233333333333333,
            8.625,
            9.396825396825397,
            8.833333333333334,
            13.142857142857142,
            13.883333333333333,
            21.555555555555557,
            31.50980392156863
           ],
           "yaxis": "y"
          },
          {
           "hovertemplate": "Inquinante=SO2<br>Anno=2016<br>Mese=%{x}<br>Media dei Valori=%{y}<extra></extra>",
           "legendgroup": "SO2",
           "line": {
            "color": "#FF6692",
            "dash": "solid"
           },
           "marker": {
            "symbol": "circle"
           },
           "mode": "lines",
           "name": "SO2",
           "orientation": "v",
           "showlegend": true,
           "type": "scatter",
           "x": [
            1,
            2,
            3,
            4,
            5,
            6,
            7,
            8,
            9,
            10,
            11,
            12
           ],
           "xaxis": "x",
           "y": [
            7.033333333333333,
            2.7857142857142856,
            3,
            4.684210526315789,
            3.125,
            6.625,
            6.523809523809524,
            5.333333333333333,
            5.690476190476191,
            5.75,
            6.857142857142857,
            7.411764705882353
           ],
           "yaxis": "y"
          }
         ],
         "name": "2016"
        },
        {
         "data": [
          {
           "hovertemplate": "Inquinante=C6H6<br>Anno=2017<br>Mese=%{x}<br>Media dei Valori=%{y}<extra></extra>",
           "legendgroup": "C6H6",
           "line": {
            "color": "#636efa",
            "dash": "solid"
           },
           "marker": {
            "symbol": "circle"
           },
           "mode": "lines",
           "name": "C6H6",
           "orientation": "v",
           "showlegend": true,
           "type": "scatter",
           "x": [
            1,
            2,
            3,
            4,
            5,
            6,
            7,
            8,
            9,
            10,
            11,
            12
           ],
           "xaxis": "x",
           "y": [
            3.2676470588235293,
            3.1862500000000002,
            1.933695652173913,
            1.1845588235294118,
            1.2044303797468354,
            1.0541666666666667,
            1.0946428571428573,
            0.9948529411764707,
            1.4466101694915254,
            2.3439393939393938,
            2.5620967741935483,
            3.1923076923076925
           ],
           "yaxis": "y"
          },
          {
           "hovertemplate": "Inquinante=CO_8h<br>Anno=2017<br>Mese=%{x}<br>Media dei Valori=%{y}<extra></extra>",
           "legendgroup": "CO_8h",
           "line": {
            "color": "#EF553B",
            "dash": "solid"
           },
           "marker": {
            "symbol": "circle"
           },
           "mode": "lines",
           "name": "CO_8h",
           "orientation": "v",
           "showlegend": true,
           "type": "scatter",
           "x": [
            1,
            2,
            3,
            4,
            5,
            6,
            7,
            8,
            9,
            10,
            11,
            12
           ],
           "xaxis": "x",
           "y": [
            1.5447058823529414,
            1.2919999999999998,
            0.9817391304347827,
            0.7082352941176471,
            0.78,
            0.5899038461538462,
            0.5819047619047619,
            0.6594117647058824,
            0.7564102564102564,
            1.1590909090909092,
            1.1626506024096386,
            1.044927536231884
           ],
           "yaxis": "y"
          },
          {
           "hovertemplate": "Inquinante=NO2<br>Anno=2017<br>Mese=%{x}<br>Media dei Valori=%{y}<extra></extra>",
           "legendgroup": "NO2",
           "line": {
            "color": "#00cc96",
            "dash": "solid"
           },
           "marker": {
            "symbol": "circle"
           },
           "mode": "lines",
           "name": "NO2",
           "orientation": "v",
           "showlegend": true,
           "type": "scatter",
           "x": [
            1,
            2,
            3,
            4,
            5,
            6,
            7,
            8,
            9,
            10,
            11,
            12
           ],
           "xaxis": "x",
           "y": [
            106.75,
            83.10191082802548,
            94.39887640449439,
            72.93014705882354,
            69.46625766871166,
            59.619760479041915,
            64.30952380952381,
            66.90441176470588,
            81.80412371134021,
            115.29729729729729,
            105.73076923076923,
            101.67241379310344
           ],
           "yaxis": "y"
          },
          {
           "hovertemplate": "Inquinante=O3<br>Anno=2017<br>Mese=%{x}<br>Media dei Valori=%{y}<extra></extra>",
           "legendgroup": "O3",
           "line": {
            "color": "#ab63fa",
            "dash": "solid"
           },
           "marker": {
            "symbol": "circle"
           },
           "mode": "lines",
           "name": "O3",
           "orientation": "v",
           "showlegend": true,
           "type": "scatter",
           "x": [
            1,
            2,
            3,
            4,
            5,
            6,
            7,
            8,
            9,
            10,
            11,
            12
           ],
           "xaxis": "x",
           "y": [
            30.11764705882353,
            29.8,
            74.77536231884058,
            94.09803921568627,
            95.60317460317461,
            128.23387096774192,
            129.56349206349208,
            141.72549019607843,
            91.39473684210526,
            69.85555555555555,
            56.357142857142854,
            16.52857142857143
           ],
           "yaxis": "y"
          },
          {
           "hovertemplate": "Inquinante=PM10<br>Anno=2017<br>Mese=%{x}<br>Media dei Valori=%{y}<extra></extra>",
           "legendgroup": "PM10",
           "line": {
            "color": "#FFA15A",
            "dash": "solid"
           },
           "marker": {
            "symbol": "circle"
           },
           "mode": "lines",
           "name": "PM10",
           "orientation": "v",
           "showlegend": true,
           "type": "scatter",
           "x": [
            1,
            2,
            3,
            4,
            5,
            6,
            7,
            8,
            9,
            10,
            11,
            12
           ],
           "xaxis": "x",
           "y": [
            49.23529411764706,
            51.5375,
            33.05434782608695,
            21.470588235294116,
            15.178571428571429,
            17.253012048192772,
            14.392857142857142,
            17.25,
            17.31578947368421,
            45.59090909090909,
            32.89156626506024,
            37.25
           ],
           "yaxis": "y"
          },
          {
           "hovertemplate": "Inquinante=PM25<br>Anno=2017<br>Mese=%{x}<br>Media dei Valori=%{y}<extra></extra>",
           "legendgroup": "PM25",
           "line": {
            "color": "#19d3f3",
            "dash": "solid"
           },
           "marker": {
            "symbol": "circle"
           },
           "mode": "lines",
           "name": "PM25",
           "orientation": "v",
           "showlegend": true,
           "type": "scatter",
           "x": [
            1,
            2,
            3,
            4,
            5,
            6,
            7,
            8,
            9,
            10,
            11,
            12
           ],
           "xaxis": "x",
           "y": [
            33.92156862745098,
            33.65,
            19.3768115942029,
            14.549019607843137,
            8.26984126984127,
            8.920634920634921,
            7.619047619047619,
            8.490196078431373,
            9.473684210526315,
            26.515151515151516,
            22.322580645161292,
            24.901960784313726
           ],
           "yaxis": "y"
          },
          {
           "hovertemplate": "Inquinante=SO2<br>Anno=2017<br>Mese=%{x}<br>Media dei Valori=%{y}<extra></extra>",
           "legendgroup": "SO2",
           "line": {
            "color": "#FF6692",
            "dash": "solid"
           },
           "marker": {
            "symbol": "circle"
           },
           "mode": "lines",
           "name": "SO2",
           "orientation": "v",
           "showlegend": true,
           "type": "scatter",
           "x": [
            1,
            2,
            3,
            4,
            5,
            6,
            7,
            8,
            9,
            10,
            11,
            12
           ],
           "xaxis": "x",
           "y": [
            3.8823529411764706,
            5.05,
            6.065217391304348,
            4.852941176470588,
            4.142857142857143,
            2.5,
            2.5,
            2.2160947712418304,
            2.710526315789474,
            2.6136363636363638,
            2.7857142857142856,
            2.7058823529411766
           ],
           "yaxis": "y"
          }
         ],
         "name": "2017"
        },
        {
         "data": [
          {
           "hovertemplate": "Inquinante=C6H6<br>Anno=2018<br>Mese=%{x}<br>Media dei Valori=%{y}<extra></extra>",
           "legendgroup": "C6H6",
           "line": {
            "color": "#636efa",
            "dash": "solid"
           },
           "marker": {
            "symbol": "circle"
           },
           "mode": "lines",
           "name": "C6H6",
           "orientation": "v",
           "showlegend": true,
           "type": "scatter",
           "x": [
            1,
            2,
            3,
            4,
            5,
            6,
            7,
            8,
            9,
            10,
            11,
            12
           ],
           "xaxis": "x",
           "y": [
            2.53015873015873,
            1.76,
            1.746031746031746,
            1.1886792452830188,
            1.0215384615384617,
            0.7081967213114755,
            0.6818181818181818,
            1.0333333333333334,
            1.1683333333333332,
            1.5507246376811594,
            2.0216666666666665,
            3.0749999999999997
           ],
           "yaxis": "y"
          },
          {
           "hovertemplate": "Inquinante=CO_8h<br>Anno=2018<br>Mese=%{x}<br>Media dei Valori=%{y}<extra></extra>",
           "legendgroup": "CO_8h",
           "line": {
            "color": "#EF553B",
            "dash": "solid"
           },
           "marker": {
            "symbol": "circle"
           },
           "mode": "lines",
           "name": "CO_8h",
           "orientation": "v",
           "showlegend": true,
           "type": "scatter",
           "x": [
            1,
            2,
            3,
            4,
            5,
            6,
            7,
            8,
            9,
            10,
            11,
            12
           ],
           "xaxis": "x",
           "y": [
            1.0511904761904762,
            0.7575000000000001,
            0.8773809523809524,
            0.7277777777777777,
            0.6470588235294118,
            0.6291666666666667,
            0.7147727272727272,
            0.7041666666666667,
            0.754054054054054,
            0.8144444444444444,
            0.9075,
            1.1984375
           ],
           "yaxis": "y"
          },
          {
           "hovertemplate": "Inquinante=NO2<br>Anno=2018<br>Mese=%{x}<br>Media dei Valori=%{y}<extra></extra>",
           "legendgroup": "NO2",
           "line": {
            "color": "#00cc96",
            "dash": "solid"
           },
           "marker": {
            "symbol": "circle"
           },
           "mode": "lines",
           "name": "NO2",
           "orientation": "v",
           "showlegend": true,
           "type": "scatter",
           "x": [
            1,
            2,
            3,
            4,
            5,
            6,
            7,
            8,
            9,
            10,
            11,
            12
           ],
           "xaxis": "x",
           "y": [
            85.41428571428571,
            77.925,
            88.63809523809523,
            82.98876404494382,
            68.40566037735849,
            66.10194174757281,
            69.89545454545454,
            73.97777777777777,
            75.38297872340425,
            75.15929203539822,
            67.65,
            88.1875
           ],
           "yaxis": "y"
          },
          {
           "hovertemplate": "Inquinante=O3<br>Anno=2018<br>Mese=%{x}<br>Media dei Valori=%{y}<extra></extra>",
           "legendgroup": "O3",
           "line": {
            "color": "#ab63fa",
            "dash": "solid"
           },
           "marker": {
            "symbol": "circle"
           },
           "mode": "lines",
           "name": "O3",
           "orientation": "v",
           "showlegend": true,
           "type": "scatter",
           "x": [
            1,
            2,
            3,
            4,
            5,
            6,
            7,
            8,
            9,
            10,
            11,
            12
           ],
           "xaxis": "x",
           "y": [
            28.214285714285715,
            46.575,
            59.19047619047619,
            89.08571428571429,
            99.65116279069767,
            120.575,
            139.6590909090909,
            140.19444444444446,
            112.3529411764706,
            71.21739130434783,
            24.65,
            17.71875
           ],
           "yaxis": "y"
          },
          {
           "hovertemplate": "Inquinante=PM10<br>Anno=2018<br>Mese=%{x}<br>Media dei Valori=%{y}<extra></extra>",
           "legendgroup": "PM10",
           "line": {
            "color": "#FFA15A",
            "dash": "solid"
           },
           "marker": {
            "symbol": "circle"
           },
           "mode": "lines",
           "name": "PM10",
           "orientation": "v",
           "showlegend": true,
           "type": "scatter",
           "x": [
            1,
            2,
            3,
            4,
            5,
            6,
            7,
            8,
            9,
            10,
            11,
            12
           ],
           "xaxis": "x",
           "y": [
            44.357142857142854,
            37.925,
            38.226190476190474,
            32.014084507042256,
            26.632183908045977,
            27.621951219512194,
            25.71590909090909,
            26.875,
            33.54054054054054,
            41.44565217391305,
            34.8125,
            49.859375
           ],
           "yaxis": "y"
          },
          {
           "hovertemplate": "Inquinante=PM25<br>Anno=2018<br>Mese=%{x}<br>Media dei Valori=%{y}<extra></extra>",
           "legendgroup": "PM25",
           "line": {
            "color": "#19d3f3",
            "dash": "solid"
           },
           "marker": {
            "symbol": "circle"
           },
           "mode": "lines",
           "name": "PM25",
           "orientation": "v",
           "showlegend": true,
           "type": "scatter",
           "x": [
            1,
            2,
            3,
            4,
            5,
            6,
            7,
            8,
            9,
            10,
            11,
            12
           ],
           "xaxis": "x",
           "y": [
            21.88888888888889,
            17.816666666666666,
            18.714285714285715,
            10.849056603773585,
            8.569230769230769,
            8.327868852459016,
            8.575757575757576,
            8.814814814814815,
            12.083333333333334,
            18.608695652173914,
            13.766666666666667,
            26.5
           ],
           "yaxis": "y"
          },
          {
           "hovertemplate": "Inquinante=SO2<br>Anno=2018<br>Mese=%{x}<br>Media dei Valori=%{y}<extra></extra>",
           "legendgroup": "SO2",
           "line": {
            "color": "#FF6692",
            "dash": "solid"
           },
           "marker": {
            "symbol": "circle"
           },
           "mode": "lines",
           "name": "SO2",
           "orientation": "v",
           "showlegend": true,
           "type": "scatter",
           "x": [
            1,
            2,
            3,
            4,
            5,
            6,
            7,
            8,
            9,
            10,
            11,
            12
           ],
           "xaxis": "x",
           "y": [
            2.738095238095238,
            2.3793402777777777,
            2.738095238095238,
            2.5,
            2.5,
            2.6315789473684212,
            3.522727272727273,
            2.9722222222222223,
            3.425,
            4.978260869565218,
            6.575,
            3.625
           ],
           "yaxis": "y"
          }
         ],
         "name": "2018"
        },
        {
         "data": [
          {
           "hovertemplate": "Inquinante=C6H6<br>Anno=2019<br>Mese=%{x}<br>Media dei Valori=%{y}<extra></extra>",
           "legendgroup": "C6H6",
           "line": {
            "color": "#636efa",
            "dash": "solid"
           },
           "marker": {
            "symbol": "circle"
           },
           "mode": "lines",
           "name": "C6H6",
           "orientation": "v",
           "showlegend": true,
           "type": "scatter",
           "x": [
            1,
            2,
            3,
            4,
            5,
            6,
            7,
            8,
            9,
            10,
            11,
            12
           ],
           "xaxis": "x",
           "y": [
            2.9097014925373132,
            2.7578125,
            1.4316901408450704,
            1.1323529411764706,
            0.8466666666666667,
            0.7695652173913043,
            0.8316901408450705,
            0.7405660377358491,
            1.072857142857143,
            1.5315974025974024,
            1.707142857142857,
            1.9291044776119404
           ],
           "yaxis": "y"
          },
          {
           "hovertemplate": "Inquinante=CO_8h<br>Anno=2019<br>Mese=%{x}<br>Media dei Valori=%{y}<extra></extra>",
           "legendgroup": "CO_8h",
           "line": {
            "color": "#EF553B",
            "dash": "solid"
           },
           "marker": {
            "symbol": "circle"
           },
           "mode": "lines",
           "name": "CO_8h",
           "orientation": "v",
           "showlegend": true,
           "type": "scatter",
           "x": [
            1,
            2,
            3,
            4,
            5,
            6,
            7,
            8,
            9,
            10,
            11,
            12
           ],
           "xaxis": "x",
           "y": [
            1.3056944444444445,
            1.3083333333333333,
            1.04,
            0.6547945205479452,
            0.522159090909091,
            0.5544303797468354,
            0.505,
            0.4642857142857143,
            0.5879746835443038,
            0.8336956521739131,
            0.9487500000000001,
            1.0583333333333333
           ],
           "yaxis": "y"
          },
          {
           "hovertemplate": "Inquinante=NO2<br>Anno=2019<br>Mese=%{x}<br>Media dei Valori=%{y}<extra></extra>",
           "legendgroup": "NO2",
           "line": {
            "color": "#00cc96",
            "dash": "solid"
           },
           "marker": {
            "symbol": "circle"
           },
           "mode": "lines",
           "name": "NO2",
           "orientation": "v",
           "showlegend": true,
           "type": "scatter",
           "x": [
            1,
            2,
            3,
            4,
            5,
            6,
            7,
            8,
            9,
            10,
            11,
            12
           ],
           "xaxis": "x",
           "y": [
            90.09708737864078,
            104.9,
            86.78378378378379,
            66.79611650485437,
            54.42857142857143,
            67.29357798165138,
            59.972972972972975,
            47.96296296296296,
            71.69724770642202,
            70.48780487804878,
            69.01363636363637,
            74.09708737864078
           ],
           "yaxis": "y"
          },
          {
           "hovertemplate": "Inquinante=O3<br>Anno=2019<br>Mese=%{x}<br>Media dei Valori=%{y}<extra></extra>",
           "legendgroup": "O3",
           "line": {
            "color": "#ab63fa",
            "dash": "solid"
           },
           "marker": {
            "symbol": "circle"
           },
           "mode": "lines",
           "name": "O3",
           "orientation": "v",
           "showlegend": true,
           "type": "scatter",
           "x": [
            1,
            2,
            3,
            4,
            5,
            6,
            7,
            8,
            9,
            10,
            11,
            12
           ],
           "xaxis": "x",
           "y": [
            45.295918367346935,
            54,
            78.73529411764706,
            91.27173913043478,
            88.38679245283019,
            127.36,
            127.12745098039215,
            116.88461538461539,
            98.10204081632654,
            57.888888888888886,
            36.52,
            39.275510204081634
           ],
           "yaxis": "y"
          },
          {
           "hovertemplate": "Inquinante=PM10<br>Anno=2019<br>Mese=%{x}<br>Media dei Valori=%{y}<extra></extra>",
           "legendgroup": "PM10",
           "line": {
            "color": "#FFA15A",
            "dash": "solid"
           },
           "marker": {
            "symbol": "circle"
           },
           "mode": "lines",
           "name": "PM10",
           "orientation": "v",
           "showlegend": true,
           "type": "scatter",
           "x": [
            1,
            2,
            3,
            4,
            5,
            6,
            7,
            8,
            9,
            10,
            11,
            12
           ],
           "xaxis": "x",
           "y": [
            51.95294117647059,
            49.56707317073171,
            29.98901098901099,
            24.375,
            15.912371134020619,
            28.10112359550562,
            23.45054945054945,
            20.82089552238806,
            27.359550561797754,
            31.785,
            24.477777777777778,
            35.77647058823529
           ],
           "yaxis": "y"
          },
          {
           "hovertemplate": "Inquinante=PM25<br>Anno=2019<br>Mese=%{x}<br>Media dei Valori=%{y}<extra></extra>",
           "legendgroup": "PM25",
           "line": {
            "color": "#19d3f3",
            "dash": "solid"
           },
           "marker": {
            "symbol": "circle"
           },
           "mode": "lines",
           "name": "PM25",
           "orientation": "v",
           "showlegend": true,
           "type": "scatter",
           "x": [
            1,
            2,
            3,
            4,
            5,
            6,
            7,
            8,
            9,
            10,
            11,
            12
           ],
           "xaxis": "x",
           "y": [
            26.402985074626866,
            23.3125,
            13.52112676056338,
            12.132352941176471,
            7.133333333333334,
            10.72463768115942,
            9.070422535211268,
            8.69811320754717,
            10.771428571428572,
            13.025974025974026,
            11.785714285714286,
            18.26865671641791
           ],
           "yaxis": "y"
          },
          {
           "hovertemplate": "Inquinante=SO2<br>Anno=2019<br>Mese=%{x}<br>Media dei Valori=%{y}<extra></extra>",
           "legendgroup": "SO2",
           "line": {
            "color": "#FF6692",
            "dash": "solid"
           },
           "marker": {
            "symbol": "circle"
           },
           "mode": "lines",
           "name": "SO2",
           "orientation": "v",
           "showlegend": true,
           "type": "scatter",
           "x": [
            1,
            2,
            3,
            4,
            5,
            6,
            7,
            8,
            9,
            10,
            11,
            12
           ],
           "xaxis": "x",
           "y": [
            5.725806451612903,
            6.178571428571429,
            5.032258064516129,
            3.4166666666666665,
            3.6943548387096774,
            6.95,
            3.3548387096774195,
            2.74,
            2.933333333333333,
            2.9838709677419355,
            2.6666666666666665,
            4.370967741935484
           ],
           "yaxis": "y"
          }
         ],
         "name": "2019"
        },
        {
         "data": [
          {
           "hovertemplate": "Inquinante=C6H6<br>Anno=2020<br>Mese=%{x}<br>Media dei Valori=%{y}<extra></extra>",
           "legendgroup": "C6H6",
           "line": {
            "color": "#636efa",
            "dash": "solid"
           },
           "marker": {
            "symbol": "circle"
           },
           "mode": "lines",
           "name": "C6H6",
           "orientation": "v",
           "showlegend": true,
           "type": "scatter",
           "x": [
            1,
            2,
            3,
            4,
            5,
            6,
            7,
            8,
            9,
            10,
            11,
            12
           ],
           "xaxis": "x",
           "y": [
            3.184931506849315,
            1.528358208955224,
            0.92,
            0.5523809523809523,
            0.5116666666666666,
            0.5,
            0.5,
            0.5,
            0.5075757575757576,
            1.1757575757575758,
            1.6793650793650794,
            1.5783333333333334
           ],
           "yaxis": "y"
          },
          {
           "hovertemplate": "Inquinante=CO_8h<br>Anno=2020<br>Mese=%{x}<br>Media dei Valori=%{y}<extra></extra>",
           "legendgroup": "CO_8h",
           "line": {
            "color": "#EF553B",
            "dash": "solid"
           },
           "marker": {
            "symbol": "circle"
           },
           "mode": "lines",
           "name": "CO_8h",
           "orientation": "v",
           "showlegend": true,
           "type": "scatter",
           "x": [
            1,
            2,
            3,
            4,
            5,
            6,
            7,
            8,
            9,
            10,
            11,
            12
           ],
           "xaxis": "x",
           "y": [
            1.4428571428571428,
            1.0250000000000001,
            0.6181818181818182,
            0.5083333333333334,
            0.458125,
            0.38687499999999997,
            0.5070588235294118,
            0.4897727272727273,
            0.5954545454545455,
            0.9170454545454546,
            1.119047619047619,
            1.0550000000000002
           ],
           "yaxis": "y"
          },
          {
           "hovertemplate": "Inquinante=NO2<br>Anno=2020<br>Mese=%{x}<br>Media dei Valori=%{y}<extra></extra>",
           "legendgroup": "NO2",
           "line": {
            "color": "#00cc96",
            "dash": "solid"
           },
           "marker": {
            "symbol": "circle"
           },
           "mode": "lines",
           "name": "NO2",
           "orientation": "v",
           "showlegend": true,
           "type": "scatter",
           "x": [
            1,
            2,
            3,
            4,
            5,
            6,
            7,
            8,
            9,
            10,
            11,
            12
           ],
           "xaxis": "x",
           "y": [
            92.61739130434782,
            87.91428571428571,
            70.42857142857143,
            52.628571428571426,
            50.17,
            52.316326530612244,
            51.89320388349515,
            46.945454545454545,
            69.16363636363636,
            65.4,
            76.19047619047619,
            68.34
           ],
           "yaxis": "y"
          },
          {
           "hovertemplate": "Inquinante=O3<br>Anno=2020<br>Mese=%{x}<br>Media dei Valori=%{y}<extra></extra>",
           "legendgroup": "O3",
           "line": {
            "color": "#ab63fa",
            "dash": "solid"
           },
           "marker": {
            "symbol": "circle"
           },
           "mode": "lines",
           "name": "O3",
           "orientation": "v",
           "showlegend": true,
           "type": "scatter",
           "x": [
            1,
            2,
            3,
            4,
            5,
            6,
            7,
            8,
            9,
            10,
            11,
            12
           ],
           "xaxis": "x",
           "y": [
            30.71153846153846,
            56.708333333333336,
            75.83018867924528,
            102.28571428571429,
            102.9,
            99,
            130.58536585365854,
            113.77272727272727,
            106.02272727272727,
            47.93181818181818,
            22.571428571428573,
            13.425
           ],
           "yaxis": "y"
          },
          {
           "hovertemplate": "Inquinante=PM10<br>Anno=2020<br>Mese=%{x}<br>Media dei Valori=%{y}<extra></extra>",
           "legendgroup": "PM10",
           "line": {
            "color": "#FFA15A",
            "dash": "solid"
           },
           "marker": {
            "symbol": "circle"
           },
           "mode": "lines",
           "name": "PM10",
           "orientation": "v",
           "showlegend": true,
           "type": "scatter",
           "x": [
            1,
            2,
            3,
            4,
            5,
            6,
            7,
            8,
            9,
            10,
            11,
            12
           ],
           "xaxis": "x",
           "y": [
            66.85106382978724,
            45.51162790697674,
            30.22680412371134,
            23.726190476190474,
            18.0125,
            15.538461538461538,
            21.88235294117647,
            16.65909090909091,
            24.375,
            27.556818181818183,
            57.023809523809526,
            39.1
           ],
           "yaxis": "y"
          },
          {
           "hovertemplate": "Inquinante=PM25<br>Anno=2020<br>Mese=%{x}<br>Media dei Valori=%{y}<extra></extra>",
           "legendgroup": "PM25",
           "line": {
            "color": "#19d3f3",
            "dash": "solid"
           },
           "marker": {
            "symbol": "circle"
           },
           "mode": "lines",
           "name": "PM25",
           "orientation": "v",
           "showlegend": true,
           "type": "scatter",
           "x": [
            1,
            2,
            3,
            4,
            5,
            6,
            7,
            8,
            9,
            10,
            11,
            12
           ],
           "xaxis": "x",
           "y": [
            33.47945205479452,
            21.970149253731343,
            14.16,
            10.523809523809524,
            7.4,
            5.844827586206897,
            8.241935483870968,
            5.303030303030303,
            9.954545454545455,
            12.06060606060606,
            29.73015873015873,
            22.633333333333333
           ],
           "yaxis": "y"
          },
          {
           "hovertemplate": "Inquinante=SO2<br>Anno=2020<br>Mese=%{x}<br>Media dei Valori=%{y}<extra></extra>",
           "legendgroup": "SO2",
           "line": {
            "color": "#FF6692",
            "dash": "solid"
           },
           "marker": {
            "symbol": "circle"
           },
           "mode": "lines",
           "name": "SO2",
           "orientation": "v",
           "showlegend": true,
           "type": "scatter",
           "x": [
            1,
            2,
            3,
            4,
            5,
            6,
            7,
            8,
            9,
            10,
            11,
            12
           ],
           "xaxis": "x",
           "y": [
            7.338709677419355,
            8.982758620689655,
            4.806451612903226,
            5.857142857142857,
            5.1,
            5.472222222222222,
            2.7083333333333335,
            2.5,
            4.25,
            3.7954545454545454,
            5.738095238095238,
            4.25
           ],
           "yaxis": "y"
          }
         ],
         "name": "2020"
        },
        {
         "data": [
          {
           "hovertemplate": "Inquinante=C6H6<br>Anno=2021<br>Mese=%{x}<br>Media dei Valori=%{y}<extra></extra>",
           "legendgroup": "C6H6",
           "line": {
            "color": "#636efa",
            "dash": "solid"
           },
           "marker": {
            "symbol": "circle"
           },
           "mode": "lines",
           "name": "C6H6",
           "orientation": "v",
           "showlegend": true,
           "type": "scatter",
           "x": [
            1,
            2,
            3,
            4,
            5,
            6,
            7,
            8,
            9,
            10,
            11,
            12
           ],
           "xaxis": "x",
           "y": [
            1.9981481481481482,
            1.505,
            1.198507462686567,
            0.8132075471698114,
            0.7321428571428571,
            0.6126984126984127,
            0.5399999999999999,
            0.5837209302325582,
            0.9712121212121211,
            1.584126984126984,
            1.4095238095238094,
            2.9280701754385965
           ],
           "yaxis": "y"
          },
          {
           "hovertemplate": "Inquinante=CO_8h<br>Anno=2021<br>Mese=%{x}<br>Media dei Valori=%{y}<extra></extra>",
           "legendgroup": "CO_8h",
           "line": {
            "color": "#EF553B",
            "dash": "solid"
           },
           "marker": {
            "symbol": "circle"
           },
           "mode": "lines",
           "name": "CO_8h",
           "orientation": "v",
           "showlegend": true,
           "type": "scatter",
           "x": [
            1,
            2,
            3,
            4,
            5,
            6,
            7,
            8,
            9,
            10,
            11,
            12
           ],
           "xaxis": "x",
           "y": [
            1.0388888888888888,
            0.9,
            0.8017045454545454,
            0.5632352941176471,
            0.45133333333333336,
            0.38950617283950617,
            0.36604938271604937,
            0.3409090909090909,
            0.5778409090909091,
            0.9369047619047619,
            0.8476190476190476,
            1.286764705882353
           ],
           "yaxis": "y"
          },
          {
           "hovertemplate": "Inquinante=NO2<br>Anno=2021<br>Mese=%{x}<br>Media dei Valori=%{y}<extra></extra>",
           "legendgroup": "NO2",
           "line": {
            "color": "#00cc96",
            "dash": "solid"
           },
           "marker": {
            "symbol": "circle"
           },
           "mode": "lines",
           "name": "NO2",
           "orientation": "v",
           "showlegend": true,
           "type": "scatter",
           "x": [
            1,
            2,
            3,
            4,
            5,
            6,
            7,
            8,
            9,
            10,
            11,
            12
           ],
           "xaxis": "x",
           "y": [
            82.11111111111111,
            78.98979591836735,
            81.69369369369369,
            67.28735632183908,
            56.78947368421053,
            50.34313725490196,
            47.1078431372549,
            40.05714285714286,
            68.62727272727273,
            82.37142857142857,
            65.64761904761905,
            77.25287356321839
           ],
           "yaxis": "y"
          },
          {
           "hovertemplate": "Inquinante=O3<br>Anno=2021<br>Mese=%{x}<br>Media dei Valori=%{y}<extra></extra>",
           "legendgroup": "O3",
           "line": {
            "color": "#ab63fa",
            "dash": "solid"
           },
           "marker": {
            "symbol": "circle"
           },
           "mode": "lines",
           "name": "O3",
           "orientation": "v",
           "showlegend": true,
           "type": "scatter",
           "x": [
            1,
            2,
            3,
            4,
            5,
            6,
            7,
            8,
            9,
            10,
            11,
            12
           ],
           "xaxis": "x",
           "y": [
            31.083333333333332,
            40.1578947368421,
            77.02272727272727,
            94.58333333333333,
            89.23076923076923,
            122.71794871794872,
            113.80952380952381,
            115.46666666666667,
            106.5,
            61.714285714285715,
            27.238095238095237,
            14.3
           ],
           "yaxis": "y"
          },
          {
           "hovertemplate": "Inquinante=PM10<br>Anno=2021<br>Mese=%{x}<br>Media dei Valori=%{y}<extra></extra>",
           "legendgroup": "PM10",
           "line": {
            "color": "#FFA15A",
            "dash": "solid"
           },
           "marker": {
            "symbol": "circle"
           },
           "mode": "lines",
           "name": "PM10",
           "orientation": "v",
           "showlegend": true,
           "type": "scatter",
           "x": [
            1,
            2,
            3,
            4,
            5,
            6,
            7,
            8,
            9,
            10,
            11,
            12
           ],
           "xaxis": "x",
           "y": [
            37.09722222222222,
            47.38461538461539,
            35.07954545454545,
            25.8,
            15.36,
            25.296296296296298,
            21.246913580246915,
            18.155172413793103,
            24.613636363636363,
            36.654761904761905,
            26.25,
            52
           ],
           "yaxis": "y"
          },
          {
           "hovertemplate": "Inquinante=PM25<br>Anno=2021<br>Mese=%{x}<br>Media dei Valori=%{y}<extra></extra>",
           "legendgroup": "PM25",
           "line": {
            "color": "#19d3f3",
            "dash": "solid"
           },
           "marker": {
            "symbol": "circle"
           },
           "mode": "lines",
           "name": "PM25",
           "orientation": "v",
           "showlegend": true,
           "type": "scatter",
           "x": [
            1,
            2,
            3,
            4,
            5,
            6,
            7,
            8,
            9,
            10,
            11,
            12
           ],
           "xaxis": "x",
           "y": [
            18.88888888888889,
            23.1,
            16.432835820895523,
            13.09433962264151,
            6.5,
            10.174603174603174,
            8.8,
            7.186046511627907,
            9.954545454545455,
            15.015873015873016,
            12.666666666666666,
            25.719298245614034
           ],
           "yaxis": "y"
          },
          {
           "hovertemplate": "Inquinante=SO2<br>Anno=2021<br>Mese=%{x}<br>Media dei Valori=%{y}<extra></extra>",
           "legendgroup": "SO2",
           "line": {
            "color": "#FF6692",
            "dash": "solid"
           },
           "marker": {
            "symbol": "circle"
           },
           "mode": "lines",
           "name": "SO2",
           "orientation": "v",
           "showlegend": true,
           "type": "scatter",
           "x": [
            1,
            2,
            3,
            4,
            5,
            6,
            7,
            8,
            9,
            10,
            11,
            12
           ],
           "xaxis": "x",
           "y": [
            5.305555555555555,
            5.6,
            8.565217391304348,
            5.315789473684211,
            2.675,
            2.9523809523809526,
            3.642857142857143,
            2.6666666666666665,
            3.5,
            3.6666666666666665,
            2.5,
            4.605263157894737
           ],
           "yaxis": "y"
          }
         ],
         "name": "2021"
        },
        {
         "data": [
          {
           "hovertemplate": "Inquinante=C6H6<br>Anno=2022<br>Mese=%{x}<br>Media dei Valori=%{y}<extra></extra>",
           "legendgroup": "C6H6",
           "line": {
            "color": "#636efa",
            "dash": "solid"
           },
           "marker": {
            "symbol": "circle"
           },
           "mode": "lines",
           "name": "C6H6",
           "orientation": "v",
           "showlegend": true,
           "type": "scatter",
           "x": [
            1,
            2,
            3,
            4,
            5,
            6,
            7,
            8,
            9,
            10,
            11,
            12
           ],
           "xaxis": "x",
           "y": [
            2.775438596491228,
            1.805,
            1.508695652173913,
            1.0425925925925925,
            1.0846153846153845,
            1,
            0.9053571428571429,
            0.7326530612244898,
            0.8606060606060606,
            2.180701754385965,
            2.306451612903226,
            2.3703703703703702
           ],
           "yaxis": "y"
          },
          {
           "hovertemplate": "Inquinante=CO_8h<br>Anno=2022<br>Mese=%{x}<br>Media dei Valori=%{y}<extra></extra>",
           "legendgroup": "CO_8h",
           "line": {
            "color": "#EF553B",
            "dash": "solid"
           },
           "marker": {
            "symbol": "circle"
           },
           "mode": "lines",
           "name": "CO_8h",
           "orientation": "v",
           "showlegend": true,
           "type": "scatter",
           "x": [
            1,
            2,
            3,
            4,
            5,
            6,
            7,
            8,
            9,
            10,
            11,
            12
           ],
           "xaxis": "x",
           "y": [
            1.2135135135135136,
            0.9363013698630136,
            0.7681318681318682,
            0.5462686567164179,
            0.433974358974359,
            0.48618421052631583,
            0.425,
            0.4112676056338028,
            0.43132530120481927,
            0.9059210526315788,
            0.8680722891566265,
            0.8057142857142857
           ],
           "yaxis": "y"
          },
          {
           "hovertemplate": "Inquinante=NO2<br>Anno=2022<br>Mese=%{x}<br>Media dei Valori=%{y}<extra></extra>",
           "legendgroup": "NO2",
           "line": {
            "color": "#00cc96",
            "dash": "solid"
           },
           "marker": {
            "symbol": "circle"
           },
           "mode": "lines",
           "name": "NO2",
           "orientation": "v",
           "showlegend": true,
           "type": "scatter",
           "x": [
            1,
            2,
            3,
            4,
            5,
            6,
            7,
            8,
            9,
            10,
            11,
            12
           ],
           "xaxis": "x",
           "y": [
            85.04301075268818,
            85.03225806451613,
            94.75438596491227,
            70.69411764705882,
            53.1,
            50.760416666666664,
            53.5,
            53.65882352941176,
            56.43809523809524,
            73.72631578947369,
            65.45192307692308,
            58.98863636363637
           ],
           "yaxis": "y"
          },
          {
           "hovertemplate": "Inquinante=O3<br>Anno=2022<br>Mese=%{x}<br>Media dei Valori=%{y}<extra></extra>",
           "legendgroup": "O3",
           "line": {
            "color": "#ab63fa",
            "dash": "solid"
           },
           "marker": {
            "symbol": "circle"
           },
           "mode": "lines",
           "name": "O3",
           "orientation": "v",
           "showlegend": true,
           "type": "scatter",
           "x": [
            1,
            2,
            3,
            4,
            5,
            6,
            7,
            8,
            9,
            10,
            11,
            12
           ],
           "xaxis": "x",
           "y": [
            22.105263157894736,
            56.35,
            91.54347826086956,
            104.5,
            115.72727272727273,
            133.75,
            147.175,
            134.65625,
            98.56818181818181,
            68.21052631578948,
            25.523809523809526,
            11.194444444444445
           ],
           "yaxis": "y"
          },
          {
           "hovertemplate": "Inquinante=PM10<br>Anno=2022<br>Mese=%{x}<br>Media dei Valori=%{y}<extra></extra>",
           "legendgroup": "PM10",
           "line": {
            "color": "#FFA15A",
            "dash": "solid"
           },
           "marker": {
            "symbol": "circle"
           },
           "mode": "lines",
           "name": "PM10",
           "orientation": "v",
           "showlegend": true,
           "type": "scatter",
           "x": [
            1,
            2,
            3,
            4,
            5,
            6,
            7,
            8,
            9,
            10,
            11,
            12
           ],
           "xaxis": "x",
           "y": [
            63.10526315789474,
            41.175,
            46.72826086956522,
            26.194444444444443,
            24.7816091954023,
            28.17105263157895,
            24.94736842105263,
            19.149253731343283,
            20.545454545454547,
            44.89473684210526,
            33.89156626506024,
            41.59722222222222
           ],
           "yaxis": "y"
          },
          {
           "hovertemplate": "Inquinante=PM25<br>Anno=2022<br>Mese=%{x}<br>Media dei Valori=%{y}<extra></extra>",
           "legendgroup": "PM25",
           "line": {
            "color": "#19d3f3",
            "dash": "solid"
           },
           "marker": {
            "symbol": "circle"
           },
           "mode": "lines",
           "name": "PM25",
           "orientation": "v",
           "showlegend": true,
           "type": "scatter",
           "x": [
            1,
            2,
            3,
            4,
            5,
            6,
            7,
            8,
            9,
            10,
            11,
            12
           ],
           "xaxis": "x",
           "y": [
            36.63157894736842,
            24.066666666666666,
            27.28985507246377,
            16.444444444444443,
            13.661538461538461,
            14.216666666666667,
            15.089285714285714,
            11.408163265306122,
            10.590909090909092,
            27.736842105263158,
            24.306451612903224,
            33.351851851851855
           ],
           "yaxis": "y"
          },
          {
           "hovertemplate": "Inquinante=SO2<br>Anno=2022<br>Mese=%{x}<br>Media dei Valori=%{y}<extra></extra>",
           "legendgroup": "SO2",
           "line": {
            "color": "#FF6692",
            "dash": "solid"
           },
           "marker": {
            "symbol": "circle"
           },
           "mode": "lines",
           "name": "SO2",
           "orientation": "v",
           "showlegend": true,
           "type": "scatter",
           "x": [
            1,
            2,
            3,
            4,
            5,
            6,
            7,
            8,
            9,
            10,
            11,
            12
           ],
           "xaxis": "x",
           "y": [
            4.7368421052631575,
            3.5,
            4.826086956521739,
            3.861111111111111,
            5.0227272727272725,
            3.9,
            4,
            3.642857142857143,
            3.772727272727273,
            4.973684210526316,
            2.880952380952381,
            2.6944444444444446
           ],
           "yaxis": "y"
          }
         ],
         "name": "2022"
        },
        {
         "data": [
          {
           "hovertemplate": "Inquinante=C6H6<br>Anno=2023<br>Mese=%{x}<br>Media dei Valori=%{y}<extra></extra>",
           "legendgroup": "C6H6",
           "line": {
            "color": "#636efa",
            "dash": "solid"
           },
           "marker": {
            "symbol": "circle"
           },
           "mode": "lines",
           "name": "C6H6",
           "orientation": "v",
           "showlegend": true,
           "type": "scatter",
           "x": [
            1,
            2,
            3,
            4,
            5,
            6,
            7,
            8,
            9,
            10
           ],
           "xaxis": "x",
           "y": [
            2.1031746031746033,
            2.056896551724138,
            1.1942028985507247,
            0.8941176470588236,
            0.646969696969697,
            0.5761904761904761,
            0.6790322580645162,
            0.5333333333333333,
            0.9015873015873015,
            1.225925925925926
           ],
           "yaxis": "y"
          },
          {
           "hovertemplate": "Inquinante=CO_8h<br>Anno=2023<br>Mese=%{x}<br>Media dei Valori=%{y}<extra></extra>",
           "legendgroup": "CO_8h",
           "line": {
            "color": "#EF553B",
            "dash": "solid"
           },
           "marker": {
            "symbol": "circle"
           },
           "mode": "lines",
           "name": "CO_8h",
           "orientation": "v",
           "showlegend": true,
           "type": "scatter",
           "x": [
            1,
            2,
            3,
            4,
            5,
            6,
            7,
            8,
            9,
            10
           ],
           "xaxis": "x",
           "y": [
            0.8802469135802469,
            1.0621621621621622,
            0.6260869565217392,
            0.3514705882352941,
            0.49166666666666664,
            0.48624999999999996,
            0.3542168674698795,
            0.34375,
            0.6595238095238095,
            0.8333333333333334
           ],
           "yaxis": "y"
          },
          {
           "hovertemplate": "Inquinante=NO2<br>Anno=2023<br>Mese=%{x}<br>Media dei Valori=%{y}<extra></extra>",
           "legendgroup": "NO2",
           "line": {
            "color": "#00cc96",
            "dash": "solid"
           },
           "marker": {
            "symbol": "circle"
           },
           "mode": "lines",
           "name": "NO2",
           "orientation": "v",
           "showlegend": true,
           "type": "scatter",
           "x": [
            1,
            2,
            3,
            4,
            5,
            6,
            7,
            8,
            9,
            10
           ],
           "xaxis": "x",
           "y": [
            67.92156862745098,
            85.59042553191489,
            75.4695652173913,
            58.43529411764706,
            48.589622641509436,
            47.57425742574257,
            43.625,
            42.351851851851855,
            64.24285714285715,
            76.97777777777777
           ],
           "yaxis": "y"
          },
          {
           "hovertemplate": "Inquinante=O3<br>Anno=2023<br>Mese=%{x}<br>Media dei Valori=%{y}<extra></extra>",
           "legendgroup": "O3",
           "line": {
            "color": "#ab63fa",
            "dash": "solid"
           },
           "marker": {
            "symbol": "circle"
           },
           "mode": "lines",
           "name": "O3",
           "orientation": "v",
           "showlegend": true,
           "type": "scatter",
           "x": [
            1,
            2,
            3,
            4,
            5,
            6,
            7,
            8,
            9,
            10
           ],
           "xaxis": "x",
           "y": [
            25.785714285714285,
            58.75,
            79.15217391304348,
            95.76470588235294,
            102.20454545454545,
            135.07142857142858,
            124.07142857142857,
            117.38235294117646,
            111.83333333333333,
            112.22222222222223
           ],
           "yaxis": "y"
          },
          {
           "hovertemplate": "Inquinante=PM10<br>Anno=2023<br>Mese=%{x}<br>Media dei Valori=%{y}<extra></extra>",
           "legendgroup": "PM10",
           "line": {
            "color": "#FFA15A",
            "dash": "solid"
           },
           "marker": {
            "symbol": "circle"
           },
           "mode": "lines",
           "name": "PM10",
           "orientation": "v",
           "showlegend": true,
           "type": "scatter",
           "x": [
            1,
            2,
            3,
            4,
            5,
            6,
            7,
            8,
            9,
            10
           ],
           "xaxis": "x",
           "y": [
            33.45238095238095,
            48.717948717948715,
            29.347826086956523,
            19.897058823529413,
            16.772727272727273,
            21.726190476190474,
            23.337349397590362,
            18.784615384615385,
            24.69047619047619,
            44.638888888888886
           ],
           "yaxis": "y"
          },
          {
           "hovertemplate": "Inquinante=PM25<br>Anno=2023<br>Mese=%{x}<br>Media dei Valori=%{y}<extra></extra>",
           "legendgroup": "PM25",
           "line": {
            "color": "#19d3f3",
            "dash": "solid"
           },
           "marker": {
            "symbol": "circle"
           },
           "mode": "lines",
           "name": "PM25",
           "orientation": "v",
           "showlegend": true,
           "type": "scatter",
           "x": [
            1,
            2,
            3,
            4,
            5,
            6,
            7,
            8,
            9,
            10
           ],
           "xaxis": "x",
           "y": [
            27.063492063492063,
            35.706896551724135,
            19.840579710144926,
            11.019607843137255,
            9.984848484848484,
            13.793650793650794,
            13.870967741935484,
            10.75,
            14.142857142857142,
            24.555555555555557
           ],
           "yaxis": "y"
          },
          {
           "hovertemplate": "Inquinante=SO2<br>Anno=2023<br>Mese=%{x}<br>Media dei Valori=%{y}<extra></extra>",
           "legendgroup": "SO2",
           "line": {
            "color": "#FF6692",
            "dash": "solid"
           },
           "marker": {
            "symbol": "circle"
           },
           "mode": "lines",
           "name": "SO2",
           "orientation": "v",
           "showlegend": true,
           "type": "scatter",
           "x": [
            1,
            2,
            3,
            4,
            5,
            6,
            7,
            8,
            9,
            10
           ],
           "xaxis": "x",
           "y": [
            3.619047619047619,
            4.55,
            3.739130434782609,
            4.3088235294117645,
            2.8863636363636362,
            4.380952380952381,
            4.309523809523809,
            2.3676470588235294,
            4.809523809523809,
            5.055555555555555
           ],
           "yaxis": "y"
          }
         ],
         "name": "2023"
        }
       ],
       "layout": {
        "legend": {
         "title": {
          "text": "Inquinante"
         },
         "tracegroupgap": 0
        },
        "sliders": [
         {
          "active": 0,
          "currentvalue": {
           "prefix": "Anno="
          },
          "len": 0.9,
          "pad": {
           "b": 10,
           "t": 60
          },
          "steps": [
           {
            "args": [
             [
              "2014"
             ],
             {
              "frame": {
               "duration": 0,
               "redraw": false
              },
              "fromcurrent": true,
              "mode": "immediate",
              "transition": {
               "duration": 0,
               "easing": "linear"
              }
             }
            ],
            "label": "2014",
            "method": "animate"
           },
           {
            "args": [
             [
              "2015"
             ],
             {
              "frame": {
               "duration": 0,
               "redraw": false
              },
              "fromcurrent": true,
              "mode": "immediate",
              "transition": {
               "duration": 0,
               "easing": "linear"
              }
             }
            ],
            "label": "2015",
            "method": "animate"
           },
           {
            "args": [
             [
              "2016"
             ],
             {
              "frame": {
               "duration": 0,
               "redraw": false
              },
              "fromcurrent": true,
              "mode": "immediate",
              "transition": {
               "duration": 0,
               "easing": "linear"
              }
             }
            ],
            "label": "2016",
            "method": "animate"
           },
           {
            "args": [
             [
              "2017"
             ],
             {
              "frame": {
               "duration": 0,
               "redraw": false
              },
              "fromcurrent": true,
              "mode": "immediate",
              "transition": {
               "duration": 0,
               "easing": "linear"
              }
             }
            ],
            "label": "2017",
            "method": "animate"
           },
           {
            "args": [
             [
              "2018"
             ],
             {
              "frame": {
               "duration": 0,
               "redraw": false
              },
              "fromcurrent": true,
              "mode": "immediate",
              "transition": {
               "duration": 0,
               "easing": "linear"
              }
             }
            ],
            "label": "2018",
            "method": "animate"
           },
           {
            "args": [
             [
              "2019"
             ],
             {
              "frame": {
               "duration": 0,
               "redraw": false
              },
              "fromcurrent": true,
              "mode": "immediate",
              "transition": {
               "duration": 0,
               "easing": "linear"
              }
             }
            ],
            "label": "2019",
            "method": "animate"
           },
           {
            "args": [
             [
              "2020"
             ],
             {
              "frame": {
               "duration": 0,
               "redraw": false
              },
              "fromcurrent": true,
              "mode": "immediate",
              "transition": {
               "duration": 0,
               "easing": "linear"
              }
             }
            ],
            "label": "2020",
            "method": "animate"
           },
           {
            "args": [
             [
              "2021"
             ],
             {
              "frame": {
               "duration": 0,
               "redraw": false
              },
              "fromcurrent": true,
              "mode": "immediate",
              "transition": {
               "duration": 0,
               "easing": "linear"
              }
             }
            ],
            "label": "2021",
            "method": "animate"
           },
           {
            "args": [
             [
              "2022"
             ],
             {
              "frame": {
               "duration": 0,
               "redraw": false
              },
              "fromcurrent": true,
              "mode": "immediate",
              "transition": {
               "duration": 0,
               "easing": "linear"
              }
             }
            ],
            "label": "2022",
            "method": "animate"
           },
           {
            "args": [
             [
              "2023"
             ],
             {
              "frame": {
               "duration": 0,
               "redraw": false
              },
              "fromcurrent": true,
              "mode": "immediate",
              "transition": {
               "duration": 0,
               "easing": "linear"
              }
             }
            ],
            "label": "2023",
            "method": "animate"
           }
          ],
          "x": 0.1,
          "xanchor": "left",
          "y": 0,
          "yanchor": "top"
         }
        ],
        "template": {
         "data": {
          "bar": [
           {
            "error_x": {
             "color": "#2a3f5f"
            },
            "error_y": {
             "color": "#2a3f5f"
            },
            "marker": {
             "line": {
              "color": "#E5ECF6",
              "width": 0.5
             },
             "pattern": {
              "fillmode": "overlay",
              "size": 10,
              "solidity": 0.2
             }
            },
            "type": "bar"
           }
          ],
          "barpolar": [
           {
            "marker": {
             "line": {
              "color": "#E5ECF6",
              "width": 0.5
             },
             "pattern": {
              "fillmode": "overlay",
              "size": 10,
              "solidity": 0.2
             }
            },
            "type": "barpolar"
           }
          ],
          "carpet": [
           {
            "aaxis": {
             "endlinecolor": "#2a3f5f",
             "gridcolor": "white",
             "linecolor": "white",
             "minorgridcolor": "white",
             "startlinecolor": "#2a3f5f"
            },
            "baxis": {
             "endlinecolor": "#2a3f5f",
             "gridcolor": "white",
             "linecolor": "white",
             "minorgridcolor": "white",
             "startlinecolor": "#2a3f5f"
            },
            "type": "carpet"
           }
          ],
          "choropleth": [
           {
            "colorbar": {
             "outlinewidth": 0,
             "ticks": ""
            },
            "type": "choropleth"
           }
          ],
          "contour": [
           {
            "colorbar": {
             "outlinewidth": 0,
             "ticks": ""
            },
            "colorscale": [
             [
              0,
              "#0d0887"
             ],
             [
              0.1111111111111111,
              "#46039f"
             ],
             [
              0.2222222222222222,
              "#7201a8"
             ],
             [
              0.3333333333333333,
              "#9c179e"
             ],
             [
              0.4444444444444444,
              "#bd3786"
             ],
             [
              0.5555555555555556,
              "#d8576b"
             ],
             [
              0.6666666666666666,
              "#ed7953"
             ],
             [
              0.7777777777777778,
              "#fb9f3a"
             ],
             [
              0.8888888888888888,
              "#fdca26"
             ],
             [
              1,
              "#f0f921"
             ]
            ],
            "type": "contour"
           }
          ],
          "contourcarpet": [
           {
            "colorbar": {
             "outlinewidth": 0,
             "ticks": ""
            },
            "type": "contourcarpet"
           }
          ],
          "heatmap": [
           {
            "colorbar": {
             "outlinewidth": 0,
             "ticks": ""
            },
            "colorscale": [
             [
              0,
              "#0d0887"
             ],
             [
              0.1111111111111111,
              "#46039f"
             ],
             [
              0.2222222222222222,
              "#7201a8"
             ],
             [
              0.3333333333333333,
              "#9c179e"
             ],
             [
              0.4444444444444444,
              "#bd3786"
             ],
             [
              0.5555555555555556,
              "#d8576b"
             ],
             [
              0.6666666666666666,
              "#ed7953"
             ],
             [
              0.7777777777777778,
              "#fb9f3a"
             ],
             [
              0.8888888888888888,
              "#fdca26"
             ],
             [
              1,
              "#f0f921"
             ]
            ],
            "type": "heatmap"
           }
          ],
          "heatmapgl": [
           {
            "colorbar": {
             "outlinewidth": 0,
             "ticks": ""
            },
            "colorscale": [
             [
              0,
              "#0d0887"
             ],
             [
              0.1111111111111111,
              "#46039f"
             ],
             [
              0.2222222222222222,
              "#7201a8"
             ],
             [
              0.3333333333333333,
              "#9c179e"
             ],
             [
              0.4444444444444444,
              "#bd3786"
             ],
             [
              0.5555555555555556,
              "#d8576b"
             ],
             [
              0.6666666666666666,
              "#ed7953"
             ],
             [
              0.7777777777777778,
              "#fb9f3a"
             ],
             [
              0.8888888888888888,
              "#fdca26"
             ],
             [
              1,
              "#f0f921"
             ]
            ],
            "type": "heatmapgl"
           }
          ],
          "histogram": [
           {
            "marker": {
             "pattern": {
              "fillmode": "overlay",
              "size": 10,
              "solidity": 0.2
             }
            },
            "type": "histogram"
           }
          ],
          "histogram2d": [
           {
            "colorbar": {
             "outlinewidth": 0,
             "ticks": ""
            },
            "colorscale": [
             [
              0,
              "#0d0887"
             ],
             [
              0.1111111111111111,
              "#46039f"
             ],
             [
              0.2222222222222222,
              "#7201a8"
             ],
             [
              0.3333333333333333,
              "#9c179e"
             ],
             [
              0.4444444444444444,
              "#bd3786"
             ],
             [
              0.5555555555555556,
              "#d8576b"
             ],
             [
              0.6666666666666666,
              "#ed7953"
             ],
             [
              0.7777777777777778,
              "#fb9f3a"
             ],
             [
              0.8888888888888888,
              "#fdca26"
             ],
             [
              1,
              "#f0f921"
             ]
            ],
            "type": "histogram2d"
           }
          ],
          "histogram2dcontour": [
           {
            "colorbar": {
             "outlinewidth": 0,
             "ticks": ""
            },
            "colorscale": [
             [
              0,
              "#0d0887"
             ],
             [
              0.1111111111111111,
              "#46039f"
             ],
             [
              0.2222222222222222,
              "#7201a8"
             ],
             [
              0.3333333333333333,
              "#9c179e"
             ],
             [
              0.4444444444444444,
              "#bd3786"
             ],
             [
              0.5555555555555556,
              "#d8576b"
             ],
             [
              0.6666666666666666,
              "#ed7953"
             ],
             [
              0.7777777777777778,
              "#fb9f3a"
             ],
             [
              0.8888888888888888,
              "#fdca26"
             ],
             [
              1,
              "#f0f921"
             ]
            ],
            "type": "histogram2dcontour"
           }
          ],
          "mesh3d": [
           {
            "colorbar": {
             "outlinewidth": 0,
             "ticks": ""
            },
            "type": "mesh3d"
           }
          ],
          "parcoords": [
           {
            "line": {
             "colorbar": {
              "outlinewidth": 0,
              "ticks": ""
             }
            },
            "type": "parcoords"
           }
          ],
          "pie": [
           {
            "automargin": true,
            "type": "pie"
           }
          ],
          "scatter": [
           {
            "fillpattern": {
             "fillmode": "overlay",
             "size": 10,
             "solidity": 0.2
            },
            "type": "scatter"
           }
          ],
          "scatter3d": [
           {
            "line": {
             "colorbar": {
              "outlinewidth": 0,
              "ticks": ""
             }
            },
            "marker": {
             "colorbar": {
              "outlinewidth": 0,
              "ticks": ""
             }
            },
            "type": "scatter3d"
           }
          ],
          "scattercarpet": [
           {
            "marker": {
             "colorbar": {
              "outlinewidth": 0,
              "ticks": ""
             }
            },
            "type": "scattercarpet"
           }
          ],
          "scattergeo": [
           {
            "marker": {
             "colorbar": {
              "outlinewidth": 0,
              "ticks": ""
             }
            },
            "type": "scattergeo"
           }
          ],
          "scattergl": [
           {
            "marker": {
             "colorbar": {
              "outlinewidth": 0,
              "ticks": ""
             }
            },
            "type": "scattergl"
           }
          ],
          "scattermapbox": [
           {
            "marker": {
             "colorbar": {
              "outlinewidth": 0,
              "ticks": ""
             }
            },
            "type": "scattermapbox"
           }
          ],
          "scatterpolar": [
           {
            "marker": {
             "colorbar": {
              "outlinewidth": 0,
              "ticks": ""
             }
            },
            "type": "scatterpolar"
           }
          ],
          "scatterpolargl": [
           {
            "marker": {
             "colorbar": {
              "outlinewidth": 0,
              "ticks": ""
             }
            },
            "type": "scatterpolargl"
           }
          ],
          "scatterternary": [
           {
            "marker": {
             "colorbar": {
              "outlinewidth": 0,
              "ticks": ""
             }
            },
            "type": "scatterternary"
           }
          ],
          "surface": [
           {
            "colorbar": {
             "outlinewidth": 0,
             "ticks": ""
            },
            "colorscale": [
             [
              0,
              "#0d0887"
             ],
             [
              0.1111111111111111,
              "#46039f"
             ],
             [
              0.2222222222222222,
              "#7201a8"
             ],
             [
              0.3333333333333333,
              "#9c179e"
             ],
             [
              0.4444444444444444,
              "#bd3786"
             ],
             [
              0.5555555555555556,
              "#d8576b"
             ],
             [
              0.6666666666666666,
              "#ed7953"
             ],
             [
              0.7777777777777778,
              "#fb9f3a"
             ],
             [
              0.8888888888888888,
              "#fdca26"
             ],
             [
              1,
              "#f0f921"
             ]
            ],
            "type": "surface"
           }
          ],
          "table": [
           {
            "cells": {
             "fill": {
              "color": "#EBF0F8"
             },
             "line": {
              "color": "white"
             }
            },
            "header": {
             "fill": {
              "color": "#C8D4E3"
             },
             "line": {
              "color": "white"
             }
            },
            "type": "table"
           }
          ]
         },
         "layout": {
          "annotationdefaults": {
           "arrowcolor": "#2a3f5f",
           "arrowhead": 0,
           "arrowwidth": 1
          },
          "autotypenumbers": "strict",
          "coloraxis": {
           "colorbar": {
            "outlinewidth": 0,
            "ticks": ""
           }
          },
          "colorscale": {
           "diverging": [
            [
             0,
             "#8e0152"
            ],
            [
             0.1,
             "#c51b7d"
            ],
            [
             0.2,
             "#de77ae"
            ],
            [
             0.3,
             "#f1b6da"
            ],
            [
             0.4,
             "#fde0ef"
            ],
            [
             0.5,
             "#f7f7f7"
            ],
            [
             0.6,
             "#e6f5d0"
            ],
            [
             0.7,
             "#b8e186"
            ],
            [
             0.8,
             "#7fbc41"
            ],
            [
             0.9,
             "#4d9221"
            ],
            [
             1,
             "#276419"
            ]
           ],
           "sequential": [
            [
             0,
             "#0d0887"
            ],
            [
             0.1111111111111111,
             "#46039f"
            ],
            [
             0.2222222222222222,
             "#7201a8"
            ],
            [
             0.3333333333333333,
             "#9c179e"
            ],
            [
             0.4444444444444444,
             "#bd3786"
            ],
            [
             0.5555555555555556,
             "#d8576b"
            ],
            [
             0.6666666666666666,
             "#ed7953"
            ],
            [
             0.7777777777777778,
             "#fb9f3a"
            ],
            [
             0.8888888888888888,
             "#fdca26"
            ],
            [
             1,
             "#f0f921"
            ]
           ],
           "sequentialminus": [
            [
             0,
             "#0d0887"
            ],
            [
             0.1111111111111111,
             "#46039f"
            ],
            [
             0.2222222222222222,
             "#7201a8"
            ],
            [
             0.3333333333333333,
             "#9c179e"
            ],
            [
             0.4444444444444444,
             "#bd3786"
            ],
            [
             0.5555555555555556,
             "#d8576b"
            ],
            [
             0.6666666666666666,
             "#ed7953"
            ],
            [
             0.7777777777777778,
             "#fb9f3a"
            ],
            [
             0.8888888888888888,
             "#fdca26"
            ],
            [
             1,
             "#f0f921"
            ]
           ]
          },
          "colorway": [
           "#636efa",
           "#EF553B",
           "#00cc96",
           "#ab63fa",
           "#FFA15A",
           "#19d3f3",
           "#FF6692",
           "#B6E880",
           "#FF97FF",
           "#FECB52"
          ],
          "font": {
           "color": "#2a3f5f"
          },
          "geo": {
           "bgcolor": "white",
           "lakecolor": "white",
           "landcolor": "#E5ECF6",
           "showlakes": true,
           "showland": true,
           "subunitcolor": "white"
          },
          "hoverlabel": {
           "align": "left"
          },
          "hovermode": "closest",
          "mapbox": {
           "style": "light"
          },
          "paper_bgcolor": "white",
          "plot_bgcolor": "#E5ECF6",
          "polar": {
           "angularaxis": {
            "gridcolor": "white",
            "linecolor": "white",
            "ticks": ""
           },
           "bgcolor": "#E5ECF6",
           "radialaxis": {
            "gridcolor": "white",
            "linecolor": "white",
            "ticks": ""
           }
          },
          "scene": {
           "xaxis": {
            "backgroundcolor": "#E5ECF6",
            "gridcolor": "white",
            "gridwidth": 2,
            "linecolor": "white",
            "showbackground": true,
            "ticks": "",
            "zerolinecolor": "white"
           },
           "yaxis": {
            "backgroundcolor": "#E5ECF6",
            "gridcolor": "white",
            "gridwidth": 2,
            "linecolor": "white",
            "showbackground": true,
            "ticks": "",
            "zerolinecolor": "white"
           },
           "zaxis": {
            "backgroundcolor": "#E5ECF6",
            "gridcolor": "white",
            "gridwidth": 2,
            "linecolor": "white",
            "showbackground": true,
            "ticks": "",
            "zerolinecolor": "white"
           }
          },
          "shapedefaults": {
           "line": {
            "color": "#2a3f5f"
           }
          },
          "ternary": {
           "aaxis": {
            "gridcolor": "white",
            "linecolor": "white",
            "ticks": ""
           },
           "baxis": {
            "gridcolor": "white",
            "linecolor": "white",
            "ticks": ""
           },
           "bgcolor": "#E5ECF6",
           "caxis": {
            "gridcolor": "white",
            "linecolor": "white",
            "ticks": ""
           }
          },
          "title": {
           "x": 0.05
          },
          "xaxis": {
           "automargin": true,
           "gridcolor": "white",
           "linecolor": "white",
           "ticks": "",
           "title": {
            "standoff": 15
           },
           "zerolinecolor": "white",
           "zerolinewidth": 2
          },
          "yaxis": {
           "automargin": true,
           "gridcolor": "white",
           "linecolor": "white",
           "ticks": "",
           "title": {
            "standoff": 15
           },
           "zerolinecolor": "white",
           "zerolinewidth": 2
          }
         }
        },
        "title": {
         "text": "Media Mensile per Inquinante per Anno"
        },
        "updatemenus": [
         {
          "buttons": [
           {
            "args": [
             null,
             {
              "frame": {
               "duration": 1000,
               "redraw": false
              },
              "fromcurrent": true,
              "mode": "immediate",
              "transition": {
               "duration": 500,
               "easing": "linear"
              }
             }
            ],
            "label": "&#9654;",
            "method": "animate"
           },
           {
            "args": [
             [
              null
             ],
             {
              "frame": {
               "duration": 0,
               "redraw": false
              },
              "fromcurrent": true,
              "mode": "immediate",
              "transition": {
               "duration": 0,
               "easing": "linear"
              }
             }
            ],
            "label": "&#9724;",
            "method": "animate"
           }
          ],
          "direction": "left",
          "pad": {
           "r": 10,
           "t": 70
          },
          "showactive": false,
          "type": "buttons",
          "x": 0.1,
          "xanchor": "right",
          "y": 0,
          "yanchor": "top"
         }
        ],
        "xaxis": {
         "anchor": "y",
         "categoryarray": [
          1,
          2,
          3,
          4,
          5,
          6,
          7,
          8,
          9,
          10,
          11,
          12
         ],
         "categoryorder": "array",
         "domain": [
          0,
          1
         ],
         "title": {
          "text": "Mese"
         }
        },
        "yaxis": {
         "anchor": "x",
         "domain": [
          0,
          1
         ],
         "title": {
          "text": "Media dei Valori"
         }
        }
       }
      }
     },
     "metadata": {},
     "output_type": "display_data"
    }
   ],
   "source": [
    "import pandas as pd\n",
    "import plotly.express as px\n",
    "from rdflib import Graph, URIRef, Literal, Namespace\n",
    "from rdflib.namespace import RDF, XSD\n",
    "\n",
    "# Esegui la query sul tuo grafo RDF\n",
    "query = \"\"\"\n",
    "PREFIX sso: <http://www.semanticweb.org/aria-ontology-cb-dn/ontology/>\n",
    "PREFIX xsd: <http://www.w3.org/2001/XMLSchema#>\n",
    "\n",
    "SELECT ?stazione ?data ?formula ?valore\n",
    "WHERE {\n",
    "    ?stazione sso:haMisuraInquinante ?misura .\n",
    "    ?misura sso:data ?data ;\n",
    "            sso:inquinante ?inquinante .\n",
    "    ?inquinante sso:formula ?formula ;\n",
    "                sso:valore ?valore .\n",
    "}\n",
    "ORDER BY ?stazione ?data\n",
    "\"\"\"\n",
    "result = g.query(query)\n",
    "\n",
    "# Preparazione dei dati per il grafico\n",
    "data = []\n",
    "for row in result:\n",
    "    stazione = str(row.stazione)\n",
    "    data_misurazione = row.data.toPython() if isinstance(row.data, Literal) else None\n",
    "    formula = str(row.formula)\n",
    "    valore = float(row.valore) if isinstance(row.valore, Literal) else None\n",
    "    if data_misurazione:\n",
    "        data.append({\n",
    "            'Stazione': stazione,\n",
    "            'Data': data_misurazione,\n",
    "            'Inquinante': formula,\n",
    "            'Valore': valore\n",
    "        })\n",
    "\n",
    "df = pd.DataFrame(data)\n",
    "\n",
    "# Assicurati che la colonna 'Data' sia convertita in datetime\n",
    "df['Data'] = pd.to_datetime(df['Data'])\n",
    "\n",
    "# Creazione delle colonne 'Anno' e 'Mese'\n",
    "df['Anno'] = df['Data'].dt.year\n",
    "df['Mese'] = df['Data'].dt.month\n",
    "\n",
    "# Calcolo della media mensile per ogni anno e inquinante\n",
    "df_media = df.groupby(['Anno', 'Mese', 'Inquinante']).agg({'Valore': 'mean'}).reset_index()\n",
    "\n",
    "# Creazione del grafico\n",
    "fig = px.line(df_media, x='Mese', y='Valore', color='Inquinante', \n",
    "              title='Media Mensile per Inquinante per Anno',\n",
    "              labels={'Valore': 'Media dei Valori'}, \n",
    "              animation_frame='Anno', \n",
    "              category_orders={'Mese': [1, 2, 3, 4, 5, 6, 7, 8, 9, 10, 11, 12]})\n",
    "\n",
    "fig.layout.updatemenus[0].buttons[0].args[1]['frame']['duration'] = 1000\n",
    "fig.layout.updatemenus[0].buttons[0].args[1]['transition']['duration'] = 500\n",
    "\n",
    "# Mostra il grafico\n",
    "fig.show()"
   ]
  },
  {
   "cell_type": "markdown",
   "metadata": {},
   "source": [
    "Nel grafico soprastante possiamo osservare l'andamento stagionale dei principali inquinanti presenti nell'aria del Comune di Milano. Si può notare come i valori di PM10 e NO2 siano più alti nei mesi invernali, mentre i valori di O3 siano più alti nei mesi estivi."
   ]
  },
  {
   "cell_type": "code",
   "execution_count": 100,
   "metadata": {},
   "outputs": [
    {
     "data": {
      "application/vnd.plotly.v1+json": {
       "config": {
        "plotlyServerURL": "https://plot.ly"
       },
       "data": [
        {
         "alignmentgroup": "True",
         "hovertemplate": "Inquinante=%{x}<br>Numero di Stazioni=%{y}<extra></extra>",
         "legendgroup": "",
         "marker": {
          "color": "#636efa",
          "pattern": {
           "shape": ""
          }
         },
         "name": "",
         "offsetgroup": "",
         "orientation": "v",
         "showlegend": false,
         "textposition": "auto",
         "type": "bar",
         "x": [
          "C6H6",
          "CO_8h",
          "NO2",
          "O3",
          "PM10",
          "PM25",
          "SO2"
         ],
         "xaxis": "x",
         "y": [
          4,
          5,
          9,
          4,
          5,
          4,
          2
         ],
         "yaxis": "y"
        }
       ],
       "layout": {
        "barmode": "relative",
        "legend": {
         "tracegroupgap": 0
        },
        "template": {
         "data": {
          "bar": [
           {
            "error_x": {
             "color": "#2a3f5f"
            },
            "error_y": {
             "color": "#2a3f5f"
            },
            "marker": {
             "line": {
              "color": "#E5ECF6",
              "width": 0.5
             },
             "pattern": {
              "fillmode": "overlay",
              "size": 10,
              "solidity": 0.2
             }
            },
            "type": "bar"
           }
          ],
          "barpolar": [
           {
            "marker": {
             "line": {
              "color": "#E5ECF6",
              "width": 0.5
             },
             "pattern": {
              "fillmode": "overlay",
              "size": 10,
              "solidity": 0.2
             }
            },
            "type": "barpolar"
           }
          ],
          "carpet": [
           {
            "aaxis": {
             "endlinecolor": "#2a3f5f",
             "gridcolor": "white",
             "linecolor": "white",
             "minorgridcolor": "white",
             "startlinecolor": "#2a3f5f"
            },
            "baxis": {
             "endlinecolor": "#2a3f5f",
             "gridcolor": "white",
             "linecolor": "white",
             "minorgridcolor": "white",
             "startlinecolor": "#2a3f5f"
            },
            "type": "carpet"
           }
          ],
          "choropleth": [
           {
            "colorbar": {
             "outlinewidth": 0,
             "ticks": ""
            },
            "type": "choropleth"
           }
          ],
          "contour": [
           {
            "colorbar": {
             "outlinewidth": 0,
             "ticks": ""
            },
            "colorscale": [
             [
              0,
              "#0d0887"
             ],
             [
              0.1111111111111111,
              "#46039f"
             ],
             [
              0.2222222222222222,
              "#7201a8"
             ],
             [
              0.3333333333333333,
              "#9c179e"
             ],
             [
              0.4444444444444444,
              "#bd3786"
             ],
             [
              0.5555555555555556,
              "#d8576b"
             ],
             [
              0.6666666666666666,
              "#ed7953"
             ],
             [
              0.7777777777777778,
              "#fb9f3a"
             ],
             [
              0.8888888888888888,
              "#fdca26"
             ],
             [
              1,
              "#f0f921"
             ]
            ],
            "type": "contour"
           }
          ],
          "contourcarpet": [
           {
            "colorbar": {
             "outlinewidth": 0,
             "ticks": ""
            },
            "type": "contourcarpet"
           }
          ],
          "heatmap": [
           {
            "colorbar": {
             "outlinewidth": 0,
             "ticks": ""
            },
            "colorscale": [
             [
              0,
              "#0d0887"
             ],
             [
              0.1111111111111111,
              "#46039f"
             ],
             [
              0.2222222222222222,
              "#7201a8"
             ],
             [
              0.3333333333333333,
              "#9c179e"
             ],
             [
              0.4444444444444444,
              "#bd3786"
             ],
             [
              0.5555555555555556,
              "#d8576b"
             ],
             [
              0.6666666666666666,
              "#ed7953"
             ],
             [
              0.7777777777777778,
              "#fb9f3a"
             ],
             [
              0.8888888888888888,
              "#fdca26"
             ],
             [
              1,
              "#f0f921"
             ]
            ],
            "type": "heatmap"
           }
          ],
          "heatmapgl": [
           {
            "colorbar": {
             "outlinewidth": 0,
             "ticks": ""
            },
            "colorscale": [
             [
              0,
              "#0d0887"
             ],
             [
              0.1111111111111111,
              "#46039f"
             ],
             [
              0.2222222222222222,
              "#7201a8"
             ],
             [
              0.3333333333333333,
              "#9c179e"
             ],
             [
              0.4444444444444444,
              "#bd3786"
             ],
             [
              0.5555555555555556,
              "#d8576b"
             ],
             [
              0.6666666666666666,
              "#ed7953"
             ],
             [
              0.7777777777777778,
              "#fb9f3a"
             ],
             [
              0.8888888888888888,
              "#fdca26"
             ],
             [
              1,
              "#f0f921"
             ]
            ],
            "type": "heatmapgl"
           }
          ],
          "histogram": [
           {
            "marker": {
             "pattern": {
              "fillmode": "overlay",
              "size": 10,
              "solidity": 0.2
             }
            },
            "type": "histogram"
           }
          ],
          "histogram2d": [
           {
            "colorbar": {
             "outlinewidth": 0,
             "ticks": ""
            },
            "colorscale": [
             [
              0,
              "#0d0887"
             ],
             [
              0.1111111111111111,
              "#46039f"
             ],
             [
              0.2222222222222222,
              "#7201a8"
             ],
             [
              0.3333333333333333,
              "#9c179e"
             ],
             [
              0.4444444444444444,
              "#bd3786"
             ],
             [
              0.5555555555555556,
              "#d8576b"
             ],
             [
              0.6666666666666666,
              "#ed7953"
             ],
             [
              0.7777777777777778,
              "#fb9f3a"
             ],
             [
              0.8888888888888888,
              "#fdca26"
             ],
             [
              1,
              "#f0f921"
             ]
            ],
            "type": "histogram2d"
           }
          ],
          "histogram2dcontour": [
           {
            "colorbar": {
             "outlinewidth": 0,
             "ticks": ""
            },
            "colorscale": [
             [
              0,
              "#0d0887"
             ],
             [
              0.1111111111111111,
              "#46039f"
             ],
             [
              0.2222222222222222,
              "#7201a8"
             ],
             [
              0.3333333333333333,
              "#9c179e"
             ],
             [
              0.4444444444444444,
              "#bd3786"
             ],
             [
              0.5555555555555556,
              "#d8576b"
             ],
             [
              0.6666666666666666,
              "#ed7953"
             ],
             [
              0.7777777777777778,
              "#fb9f3a"
             ],
             [
              0.8888888888888888,
              "#fdca26"
             ],
             [
              1,
              "#f0f921"
             ]
            ],
            "type": "histogram2dcontour"
           }
          ],
          "mesh3d": [
           {
            "colorbar": {
             "outlinewidth": 0,
             "ticks": ""
            },
            "type": "mesh3d"
           }
          ],
          "parcoords": [
           {
            "line": {
             "colorbar": {
              "outlinewidth": 0,
              "ticks": ""
             }
            },
            "type": "parcoords"
           }
          ],
          "pie": [
           {
            "automargin": true,
            "type": "pie"
           }
          ],
          "scatter": [
           {
            "fillpattern": {
             "fillmode": "overlay",
             "size": 10,
             "solidity": 0.2
            },
            "type": "scatter"
           }
          ],
          "scatter3d": [
           {
            "line": {
             "colorbar": {
              "outlinewidth": 0,
              "ticks": ""
             }
            },
            "marker": {
             "colorbar": {
              "outlinewidth": 0,
              "ticks": ""
             }
            },
            "type": "scatter3d"
           }
          ],
          "scattercarpet": [
           {
            "marker": {
             "colorbar": {
              "outlinewidth": 0,
              "ticks": ""
             }
            },
            "type": "scattercarpet"
           }
          ],
          "scattergeo": [
           {
            "marker": {
             "colorbar": {
              "outlinewidth": 0,
              "ticks": ""
             }
            },
            "type": "scattergeo"
           }
          ],
          "scattergl": [
           {
            "marker": {
             "colorbar": {
              "outlinewidth": 0,
              "ticks": ""
             }
            },
            "type": "scattergl"
           }
          ],
          "scattermapbox": [
           {
            "marker": {
             "colorbar": {
              "outlinewidth": 0,
              "ticks": ""
             }
            },
            "type": "scattermapbox"
           }
          ],
          "scatterpolar": [
           {
            "marker": {
             "colorbar": {
              "outlinewidth": 0,
              "ticks": ""
             }
            },
            "type": "scatterpolar"
           }
          ],
          "scatterpolargl": [
           {
            "marker": {
             "colorbar": {
              "outlinewidth": 0,
              "ticks": ""
             }
            },
            "type": "scatterpolargl"
           }
          ],
          "scatterternary": [
           {
            "marker": {
             "colorbar": {
              "outlinewidth": 0,
              "ticks": ""
             }
            },
            "type": "scatterternary"
           }
          ],
          "surface": [
           {
            "colorbar": {
             "outlinewidth": 0,
             "ticks": ""
            },
            "colorscale": [
             [
              0,
              "#0d0887"
             ],
             [
              0.1111111111111111,
              "#46039f"
             ],
             [
              0.2222222222222222,
              "#7201a8"
             ],
             [
              0.3333333333333333,
              "#9c179e"
             ],
             [
              0.4444444444444444,
              "#bd3786"
             ],
             [
              0.5555555555555556,
              "#d8576b"
             ],
             [
              0.6666666666666666,
              "#ed7953"
             ],
             [
              0.7777777777777778,
              "#fb9f3a"
             ],
             [
              0.8888888888888888,
              "#fdca26"
             ],
             [
              1,
              "#f0f921"
             ]
            ],
            "type": "surface"
           }
          ],
          "table": [
           {
            "cells": {
             "fill": {
              "color": "#EBF0F8"
             },
             "line": {
              "color": "white"
             }
            },
            "header": {
             "fill": {
              "color": "#C8D4E3"
             },
             "line": {
              "color": "white"
             }
            },
            "type": "table"
           }
          ]
         },
         "layout": {
          "annotationdefaults": {
           "arrowcolor": "#2a3f5f",
           "arrowhead": 0,
           "arrowwidth": 1
          },
          "autotypenumbers": "strict",
          "coloraxis": {
           "colorbar": {
            "outlinewidth": 0,
            "ticks": ""
           }
          },
          "colorscale": {
           "diverging": [
            [
             0,
             "#8e0152"
            ],
            [
             0.1,
             "#c51b7d"
            ],
            [
             0.2,
             "#de77ae"
            ],
            [
             0.3,
             "#f1b6da"
            ],
            [
             0.4,
             "#fde0ef"
            ],
            [
             0.5,
             "#f7f7f7"
            ],
            [
             0.6,
             "#e6f5d0"
            ],
            [
             0.7,
             "#b8e186"
            ],
            [
             0.8,
             "#7fbc41"
            ],
            [
             0.9,
             "#4d9221"
            ],
            [
             1,
             "#276419"
            ]
           ],
           "sequential": [
            [
             0,
             "#0d0887"
            ],
            [
             0.1111111111111111,
             "#46039f"
            ],
            [
             0.2222222222222222,
             "#7201a8"
            ],
            [
             0.3333333333333333,
             "#9c179e"
            ],
            [
             0.4444444444444444,
             "#bd3786"
            ],
            [
             0.5555555555555556,
             "#d8576b"
            ],
            [
             0.6666666666666666,
             "#ed7953"
            ],
            [
             0.7777777777777778,
             "#fb9f3a"
            ],
            [
             0.8888888888888888,
             "#fdca26"
            ],
            [
             1,
             "#f0f921"
            ]
           ],
           "sequentialminus": [
            [
             0,
             "#0d0887"
            ],
            [
             0.1111111111111111,
             "#46039f"
            ],
            [
             0.2222222222222222,
             "#7201a8"
            ],
            [
             0.3333333333333333,
             "#9c179e"
            ],
            [
             0.4444444444444444,
             "#bd3786"
            ],
            [
             0.5555555555555556,
             "#d8576b"
            ],
            [
             0.6666666666666666,
             "#ed7953"
            ],
            [
             0.7777777777777778,
             "#fb9f3a"
            ],
            [
             0.8888888888888888,
             "#fdca26"
            ],
            [
             1,
             "#f0f921"
            ]
           ]
          },
          "colorway": [
           "#636efa",
           "#EF553B",
           "#00cc96",
           "#ab63fa",
           "#FFA15A",
           "#19d3f3",
           "#FF6692",
           "#B6E880",
           "#FF97FF",
           "#FECB52"
          ],
          "font": {
           "color": "#2a3f5f"
          },
          "geo": {
           "bgcolor": "white",
           "lakecolor": "white",
           "landcolor": "#E5ECF6",
           "showlakes": true,
           "showland": true,
           "subunitcolor": "white"
          },
          "hoverlabel": {
           "align": "left"
          },
          "hovermode": "closest",
          "mapbox": {
           "style": "light"
          },
          "paper_bgcolor": "white",
          "plot_bgcolor": "#E5ECF6",
          "polar": {
           "angularaxis": {
            "gridcolor": "white",
            "linecolor": "white",
            "ticks": ""
           },
           "bgcolor": "#E5ECF6",
           "radialaxis": {
            "gridcolor": "white",
            "linecolor": "white",
            "ticks": ""
           }
          },
          "scene": {
           "xaxis": {
            "backgroundcolor": "#E5ECF6",
            "gridcolor": "white",
            "gridwidth": 2,
            "linecolor": "white",
            "showbackground": true,
            "ticks": "",
            "zerolinecolor": "white"
           },
           "yaxis": {
            "backgroundcolor": "#E5ECF6",
            "gridcolor": "white",
            "gridwidth": 2,
            "linecolor": "white",
            "showbackground": true,
            "ticks": "",
            "zerolinecolor": "white"
           },
           "zaxis": {
            "backgroundcolor": "#E5ECF6",
            "gridcolor": "white",
            "gridwidth": 2,
            "linecolor": "white",
            "showbackground": true,
            "ticks": "",
            "zerolinecolor": "white"
           }
          },
          "shapedefaults": {
           "line": {
            "color": "#2a3f5f"
           }
          },
          "ternary": {
           "aaxis": {
            "gridcolor": "white",
            "linecolor": "white",
            "ticks": ""
           },
           "baxis": {
            "gridcolor": "white",
            "linecolor": "white",
            "ticks": ""
           },
           "bgcolor": "#E5ECF6",
           "caxis": {
            "gridcolor": "white",
            "linecolor": "white",
            "ticks": ""
           }
          },
          "title": {
           "x": 0.05
          },
          "xaxis": {
           "automargin": true,
           "gridcolor": "white",
           "linecolor": "white",
           "ticks": "",
           "title": {
            "standoff": 15
           },
           "zerolinecolor": "white",
           "zerolinewidth": 2
          },
          "yaxis": {
           "automargin": true,
           "gridcolor": "white",
           "linecolor": "white",
           "ticks": "",
           "title": {
            "standoff": 15
           },
           "zerolinecolor": "white",
           "zerolinewidth": 2
          }
         }
        },
        "title": {
         "text": "Numero di Stazioni per Ogni Inquinante"
        },
        "xaxis": {
         "anchor": "y",
         "domain": [
          0,
          1
         ],
         "title": {
          "text": "Inquinante"
         }
        },
        "yaxis": {
         "anchor": "x",
         "domain": [
          0,
          1
         ],
         "title": {
          "text": "Numero di Stazioni"
         }
        }
       }
      }
     },
     "metadata": {},
     "output_type": "display_data"
    }
   ],
   "source": [
    "import pandas as pd\n",
    "import plotly.express as px\n",
    "from rdflib import Graph\n",
    "\n",
    "query = \"\"\"\n",
    "PREFIX sso: <http://www.semanticweb.org/aria-ontology-cb-dn/ontology/>\n",
    "PREFIX owl: <http://www.w3.org/2002/07/owl#>\n",
    "\n",
    "SELECT ?stazione ?idAmat ?inquinante\n",
    "WHERE {\n",
    "    ?stazione sso:haStazioneMetereologica ?dettagliStazione .\n",
    "    ?dettagliStazione sso:idAmat ?idAmat ;\n",
    "                      sso:monitoraInquinante ?inquinante .\n",
    "}\n",
    "\"\"\"\n",
    "result = g.query(query)\n",
    "\n",
    "# Preparazione dei dati per il grafico\n",
    "data = []\n",
    "for row in result:\n",
    "    stazione = str(row.stazione)\n",
    "    id_amat = str(row.idAmat)\n",
    "    inquinante = str(row.inquinante)\n",
    "    data.append({'Stazione': stazione, 'ID AMAT': id_amat, 'Inquinante': inquinante})\n",
    "\n",
    "df = pd.DataFrame(data)\n",
    "\n",
    "# Conteggio del numero di stazioni per ogni inquinante\n",
    "#Per ogni inquinante eliminare tutto ciò che è uri e mantenere solo il nome\n",
    "df['Inquinante'] = df['Inquinante'].apply(lambda x: x.split('/')[-1])\n",
    "conteggio_inquinanti = df.groupby('Inquinante').count()['Stazione'].reset_index()\n",
    "conteggio_inquinanti.rename(columns={'Stazione': 'Numero di Stazioni'}, inplace=True)\n",
    "\n",
    "# Creazione del grafico a barre\n",
    "fig = px.bar(conteggio_inquinanti, x='Inquinante', y='Numero di Stazioni',\n",
    "             title='Numero di Stazioni per Ogni Inquinante',\n",
    "             labels={'Inquinante': 'Inquinante', 'Numero di Stazioni': 'Numero di Stazioni'})\n",
    "fig.show()"
   ]
  },
  {
   "cell_type": "markdown",
   "metadata": {},
   "source": [
    "Nel grafico soprastante è presente un confronto di quali inquinanti siano più monitorati dalle varie stazioni metereologiche. Si può notare come il NO2 sia l'inquinante più monitorato, seguito dal PM10 e dalla CO."
   ]
  },
  {
   "cell_type": "code",
   "execution_count": 101,
   "metadata": {},
   "outputs": [
    {
     "data": {
      "application/vnd.plotly.v1+json": {
       "config": {
        "plotlyServerURL": "https://plot.ly"
       },
       "data": [
        {
         "name": "Area Verde per Abitante",
         "type": "bar",
         "x": [
          "Milano"
         ],
         "y": [
          5.501581253440024
         ]
        },
        {
         "name": "Standard OMS",
         "type": "bar",
         "x": [
          "Standard OMS"
         ],
         "y": [
          9
         ]
        }
       ],
       "layout": {
        "template": {
         "data": {
          "bar": [
           {
            "error_x": {
             "color": "#2a3f5f"
            },
            "error_y": {
             "color": "#2a3f5f"
            },
            "marker": {
             "line": {
              "color": "#E5ECF6",
              "width": 0.5
             },
             "pattern": {
              "fillmode": "overlay",
              "size": 10,
              "solidity": 0.2
             }
            },
            "type": "bar"
           }
          ],
          "barpolar": [
           {
            "marker": {
             "line": {
              "color": "#E5ECF6",
              "width": 0.5
             },
             "pattern": {
              "fillmode": "overlay",
              "size": 10,
              "solidity": 0.2
             }
            },
            "type": "barpolar"
           }
          ],
          "carpet": [
           {
            "aaxis": {
             "endlinecolor": "#2a3f5f",
             "gridcolor": "white",
             "linecolor": "white",
             "minorgridcolor": "white",
             "startlinecolor": "#2a3f5f"
            },
            "baxis": {
             "endlinecolor": "#2a3f5f",
             "gridcolor": "white",
             "linecolor": "white",
             "minorgridcolor": "white",
             "startlinecolor": "#2a3f5f"
            },
            "type": "carpet"
           }
          ],
          "choropleth": [
           {
            "colorbar": {
             "outlinewidth": 0,
             "ticks": ""
            },
            "type": "choropleth"
           }
          ],
          "contour": [
           {
            "colorbar": {
             "outlinewidth": 0,
             "ticks": ""
            },
            "colorscale": [
             [
              0,
              "#0d0887"
             ],
             [
              0.1111111111111111,
              "#46039f"
             ],
             [
              0.2222222222222222,
              "#7201a8"
             ],
             [
              0.3333333333333333,
              "#9c179e"
             ],
             [
              0.4444444444444444,
              "#bd3786"
             ],
             [
              0.5555555555555556,
              "#d8576b"
             ],
             [
              0.6666666666666666,
              "#ed7953"
             ],
             [
              0.7777777777777778,
              "#fb9f3a"
             ],
             [
              0.8888888888888888,
              "#fdca26"
             ],
             [
              1,
              "#f0f921"
             ]
            ],
            "type": "contour"
           }
          ],
          "contourcarpet": [
           {
            "colorbar": {
             "outlinewidth": 0,
             "ticks": ""
            },
            "type": "contourcarpet"
           }
          ],
          "heatmap": [
           {
            "colorbar": {
             "outlinewidth": 0,
             "ticks": ""
            },
            "colorscale": [
             [
              0,
              "#0d0887"
             ],
             [
              0.1111111111111111,
              "#46039f"
             ],
             [
              0.2222222222222222,
              "#7201a8"
             ],
             [
              0.3333333333333333,
              "#9c179e"
             ],
             [
              0.4444444444444444,
              "#bd3786"
             ],
             [
              0.5555555555555556,
              "#d8576b"
             ],
             [
              0.6666666666666666,
              "#ed7953"
             ],
             [
              0.7777777777777778,
              "#fb9f3a"
             ],
             [
              0.8888888888888888,
              "#fdca26"
             ],
             [
              1,
              "#f0f921"
             ]
            ],
            "type": "heatmap"
           }
          ],
          "heatmapgl": [
           {
            "colorbar": {
             "outlinewidth": 0,
             "ticks": ""
            },
            "colorscale": [
             [
              0,
              "#0d0887"
             ],
             [
              0.1111111111111111,
              "#46039f"
             ],
             [
              0.2222222222222222,
              "#7201a8"
             ],
             [
              0.3333333333333333,
              "#9c179e"
             ],
             [
              0.4444444444444444,
              "#bd3786"
             ],
             [
              0.5555555555555556,
              "#d8576b"
             ],
             [
              0.6666666666666666,
              "#ed7953"
             ],
             [
              0.7777777777777778,
              "#fb9f3a"
             ],
             [
              0.8888888888888888,
              "#fdca26"
             ],
             [
              1,
              "#f0f921"
             ]
            ],
            "type": "heatmapgl"
           }
          ],
          "histogram": [
           {
            "marker": {
             "pattern": {
              "fillmode": "overlay",
              "size": 10,
              "solidity": 0.2
             }
            },
            "type": "histogram"
           }
          ],
          "histogram2d": [
           {
            "colorbar": {
             "outlinewidth": 0,
             "ticks": ""
            },
            "colorscale": [
             [
              0,
              "#0d0887"
             ],
             [
              0.1111111111111111,
              "#46039f"
             ],
             [
              0.2222222222222222,
              "#7201a8"
             ],
             [
              0.3333333333333333,
              "#9c179e"
             ],
             [
              0.4444444444444444,
              "#bd3786"
             ],
             [
              0.5555555555555556,
              "#d8576b"
             ],
             [
              0.6666666666666666,
              "#ed7953"
             ],
             [
              0.7777777777777778,
              "#fb9f3a"
             ],
             [
              0.8888888888888888,
              "#fdca26"
             ],
             [
              1,
              "#f0f921"
             ]
            ],
            "type": "histogram2d"
           }
          ],
          "histogram2dcontour": [
           {
            "colorbar": {
             "outlinewidth": 0,
             "ticks": ""
            },
            "colorscale": [
             [
              0,
              "#0d0887"
             ],
             [
              0.1111111111111111,
              "#46039f"
             ],
             [
              0.2222222222222222,
              "#7201a8"
             ],
             [
              0.3333333333333333,
              "#9c179e"
             ],
             [
              0.4444444444444444,
              "#bd3786"
             ],
             [
              0.5555555555555556,
              "#d8576b"
             ],
             [
              0.6666666666666666,
              "#ed7953"
             ],
             [
              0.7777777777777778,
              "#fb9f3a"
             ],
             [
              0.8888888888888888,
              "#fdca26"
             ],
             [
              1,
              "#f0f921"
             ]
            ],
            "type": "histogram2dcontour"
           }
          ],
          "mesh3d": [
           {
            "colorbar": {
             "outlinewidth": 0,
             "ticks": ""
            },
            "type": "mesh3d"
           }
          ],
          "parcoords": [
           {
            "line": {
             "colorbar": {
              "outlinewidth": 0,
              "ticks": ""
             }
            },
            "type": "parcoords"
           }
          ],
          "pie": [
           {
            "automargin": true,
            "type": "pie"
           }
          ],
          "scatter": [
           {
            "fillpattern": {
             "fillmode": "overlay",
             "size": 10,
             "solidity": 0.2
            },
            "type": "scatter"
           }
          ],
          "scatter3d": [
           {
            "line": {
             "colorbar": {
              "outlinewidth": 0,
              "ticks": ""
             }
            },
            "marker": {
             "colorbar": {
              "outlinewidth": 0,
              "ticks": ""
             }
            },
            "type": "scatter3d"
           }
          ],
          "scattercarpet": [
           {
            "marker": {
             "colorbar": {
              "outlinewidth": 0,
              "ticks": ""
             }
            },
            "type": "scattercarpet"
           }
          ],
          "scattergeo": [
           {
            "marker": {
             "colorbar": {
              "outlinewidth": 0,
              "ticks": ""
             }
            },
            "type": "scattergeo"
           }
          ],
          "scattergl": [
           {
            "marker": {
             "colorbar": {
              "outlinewidth": 0,
              "ticks": ""
             }
            },
            "type": "scattergl"
           }
          ],
          "scattermapbox": [
           {
            "marker": {
             "colorbar": {
              "outlinewidth": 0,
              "ticks": ""
             }
            },
            "type": "scattermapbox"
           }
          ],
          "scatterpolar": [
           {
            "marker": {
             "colorbar": {
              "outlinewidth": 0,
              "ticks": ""
             }
            },
            "type": "scatterpolar"
           }
          ],
          "scatterpolargl": [
           {
            "marker": {
             "colorbar": {
              "outlinewidth": 0,
              "ticks": ""
             }
            },
            "type": "scatterpolargl"
           }
          ],
          "scatterternary": [
           {
            "marker": {
             "colorbar": {
              "outlinewidth": 0,
              "ticks": ""
             }
            },
            "type": "scatterternary"
           }
          ],
          "surface": [
           {
            "colorbar": {
             "outlinewidth": 0,
             "ticks": ""
            },
            "colorscale": [
             [
              0,
              "#0d0887"
             ],
             [
              0.1111111111111111,
              "#46039f"
             ],
             [
              0.2222222222222222,
              "#7201a8"
             ],
             [
              0.3333333333333333,
              "#9c179e"
             ],
             [
              0.4444444444444444,
              "#bd3786"
             ],
             [
              0.5555555555555556,
              "#d8576b"
             ],
             [
              0.6666666666666666,
              "#ed7953"
             ],
             [
              0.7777777777777778,
              "#fb9f3a"
             ],
             [
              0.8888888888888888,
              "#fdca26"
             ],
             [
              1,
              "#f0f921"
             ]
            ],
            "type": "surface"
           }
          ],
          "table": [
           {
            "cells": {
             "fill": {
              "color": "#EBF0F8"
             },
             "line": {
              "color": "white"
             }
            },
            "header": {
             "fill": {
              "color": "#C8D4E3"
             },
             "line": {
              "color": "white"
             }
            },
            "type": "table"
           }
          ]
         },
         "layout": {
          "annotationdefaults": {
           "arrowcolor": "#2a3f5f",
           "arrowhead": 0,
           "arrowwidth": 1
          },
          "autotypenumbers": "strict",
          "coloraxis": {
           "colorbar": {
            "outlinewidth": 0,
            "ticks": ""
           }
          },
          "colorscale": {
           "diverging": [
            [
             0,
             "#8e0152"
            ],
            [
             0.1,
             "#c51b7d"
            ],
            [
             0.2,
             "#de77ae"
            ],
            [
             0.3,
             "#f1b6da"
            ],
            [
             0.4,
             "#fde0ef"
            ],
            [
             0.5,
             "#f7f7f7"
            ],
            [
             0.6,
             "#e6f5d0"
            ],
            [
             0.7,
             "#b8e186"
            ],
            [
             0.8,
             "#7fbc41"
            ],
            [
             0.9,
             "#4d9221"
            ],
            [
             1,
             "#276419"
            ]
           ],
           "sequential": [
            [
             0,
             "#0d0887"
            ],
            [
             0.1111111111111111,
             "#46039f"
            ],
            [
             0.2222222222222222,
             "#7201a8"
            ],
            [
             0.3333333333333333,
             "#9c179e"
            ],
            [
             0.4444444444444444,
             "#bd3786"
            ],
            [
             0.5555555555555556,
             "#d8576b"
            ],
            [
             0.6666666666666666,
             "#ed7953"
            ],
            [
             0.7777777777777778,
             "#fb9f3a"
            ],
            [
             0.8888888888888888,
             "#fdca26"
            ],
            [
             1,
             "#f0f921"
            ]
           ],
           "sequentialminus": [
            [
             0,
             "#0d0887"
            ],
            [
             0.1111111111111111,
             "#46039f"
            ],
            [
             0.2222222222222222,
             "#7201a8"
            ],
            [
             0.3333333333333333,
             "#9c179e"
            ],
            [
             0.4444444444444444,
             "#bd3786"
            ],
            [
             0.5555555555555556,
             "#d8576b"
            ],
            [
             0.6666666666666666,
             "#ed7953"
            ],
            [
             0.7777777777777778,
             "#fb9f3a"
            ],
            [
             0.8888888888888888,
             "#fdca26"
            ],
            [
             1,
             "#f0f921"
            ]
           ]
          },
          "colorway": [
           "#636efa",
           "#EF553B",
           "#00cc96",
           "#ab63fa",
           "#FFA15A",
           "#19d3f3",
           "#FF6692",
           "#B6E880",
           "#FF97FF",
           "#FECB52"
          ],
          "font": {
           "color": "#2a3f5f"
          },
          "geo": {
           "bgcolor": "white",
           "lakecolor": "white",
           "landcolor": "#E5ECF6",
           "showlakes": true,
           "showland": true,
           "subunitcolor": "white"
          },
          "hoverlabel": {
           "align": "left"
          },
          "hovermode": "closest",
          "mapbox": {
           "style": "light"
          },
          "paper_bgcolor": "white",
          "plot_bgcolor": "#E5ECF6",
          "polar": {
           "angularaxis": {
            "gridcolor": "white",
            "linecolor": "white",
            "ticks": ""
           },
           "bgcolor": "#E5ECF6",
           "radialaxis": {
            "gridcolor": "white",
            "linecolor": "white",
            "ticks": ""
           }
          },
          "scene": {
           "xaxis": {
            "backgroundcolor": "#E5ECF6",
            "gridcolor": "white",
            "gridwidth": 2,
            "linecolor": "white",
            "showbackground": true,
            "ticks": "",
            "zerolinecolor": "white"
           },
           "yaxis": {
            "backgroundcolor": "#E5ECF6",
            "gridcolor": "white",
            "gridwidth": 2,
            "linecolor": "white",
            "showbackground": true,
            "ticks": "",
            "zerolinecolor": "white"
           },
           "zaxis": {
            "backgroundcolor": "#E5ECF6",
            "gridcolor": "white",
            "gridwidth": 2,
            "linecolor": "white",
            "showbackground": true,
            "ticks": "",
            "zerolinecolor": "white"
           }
          },
          "shapedefaults": {
           "line": {
            "color": "#2a3f5f"
           }
          },
          "ternary": {
           "aaxis": {
            "gridcolor": "white",
            "linecolor": "white",
            "ticks": ""
           },
           "baxis": {
            "gridcolor": "white",
            "linecolor": "white",
            "ticks": ""
           },
           "bgcolor": "#E5ECF6",
           "caxis": {
            "gridcolor": "white",
            "linecolor": "white",
            "ticks": ""
           }
          },
          "title": {
           "x": 0.05
          },
          "xaxis": {
           "automargin": true,
           "gridcolor": "white",
           "linecolor": "white",
           "ticks": "",
           "title": {
            "standoff": 15
           },
           "zerolinecolor": "white",
           "zerolinewidth": 2
          },
          "yaxis": {
           "automargin": true,
           "gridcolor": "white",
           "linecolor": "white",
           "ticks": "",
           "title": {
            "standoff": 15
           },
           "zerolinecolor": "white",
           "zerolinewidth": 2
          }
         }
        },
        "title": {
         "text": "Confronto tra Area Verde per Abitante a Milano e Standard OMS (Anno 2020)"
        },
        "xaxis": {
         "categoryorder": "total descending"
        },
        "yaxis": {
         "title": {
          "text": "Area Verde per Abitante (m²)"
         }
        }
       }
      }
     },
     "metadata": {},
     "output_type": "display_data"
    }
   ],
   "source": [
    "from rdflib import Graph\n",
    "import plotly.graph_objects as go\n",
    "\n",
    "# Query SPARQL per ottenere la somma totale dell'area delle aree verdi\n",
    "query_area_verde = \"\"\"\n",
    "PREFIX sso: <http://www.semanticweb.org/aria-ontology-cb-dn/ontology/>\n",
    "SELECT (SUM(?area) AS ?areaTotale)\n",
    "WHERE {\n",
    "    ?comune sso:haAreaVerde ?areaVerde .\n",
    "    ?areaVerde sso:area ?area .\n",
    "}\n",
    "\"\"\"\n",
    "\n",
    "# Esegui la query e ottieni il risultato\n",
    "result_area_verde = g.query(query_area_verde)\n",
    "\n",
    "# Estrai il valore numerico dell'area totale\n",
    "area_totale_aree_verdi = 0\n",
    "for row in result_area_verde:\n",
    "    area_totale_aree_verdi = row.areaTotale.toPython()\n",
    "\n",
    "# Query SPARQL per ottenere la popolazione di Milano per un anno specifico (es. 2020)\n",
    "query_popolazione = \"\"\"\n",
    "PREFIX sso: <http://www.semanticweb.org/aria-ontology-cb-dn/ontology/>\n",
    "SELECT (SUM(?popolazione) AS ?popolazioneTotale)\n",
    "WHERE {\n",
    "    ?comune sso:haPopolazione ?popNode .\n",
    "    ?popNode sso:anno \"2020\"^^<http://www.w3.org/2001/XMLSchema#gYear> ;\n",
    "             sso:totalePopolazione ?popolazione .\n",
    "}\n",
    "\"\"\"\n",
    "\n",
    "# Esegui la query e ottieni il risultato\n",
    "result_popolazione = g.query(query_popolazione)\n",
    "\n",
    "popolazione_totale_milano = 0\n",
    "for row in result_popolazione:\n",
    "    popolazione_totale_milano = row.popolazioneTotale.toPython()\n",
    "\n",
    "# Calcolo dell'area verde per abitante\n",
    "area_verde_per_abitante = area_totale_aree_verdi / popolazione_totale_milano if popolazione_totale_milano > 0 else 0\n",
    "\n",
    "# Standard OMS per area verde per abitante (9 m²)\n",
    "standard_oms = 9\n",
    "\n",
    "# Creazione del grafico\n",
    "fig = go.Figure(data=[\n",
    "    go.Bar(name='Area Verde per Abitante', x=['Milano'], y=[area_verde_per_abitante]),\n",
    "    go.Bar(name='Standard OMS', x=['Standard OMS'], y=[standard_oms])\n",
    "])\n",
    "\n",
    "fig.update_layout(title='Confronto tra Area Verde per Abitante a Milano e Standard OMS (Anno 2020)',\n",
    "                  yaxis_title='Area Verde per Abitante (m²)',\n",
    "                  xaxis={'categoryorder':'total descending'})\n",
    "\n",
    "# Mostra il grafico\n",
    "fig.show()\n"
   ]
  },
  {
   "cell_type": "markdown",
   "metadata": {},
   "source": [
    "Il grafico presentato confronta l'area verde disponibile per abitante a Milano con lo standard raccomandato dall'Organizzazione Mondiale della Sanità (OMS) di 9 metri quadrati per abitante.\n",
    "Dall'analisi emerge che a Milano ci sono circa 5 metri quadrati di area verde per abitante, un valore inferiore agli 9 metri quadrati raccomandati dall'OMS. Questo dato suggerisce che: c'è spazio per miglioramenti per raggiungere o superare lo standard internazionale. Questa scoperta potrebbe servire da stimolo per ulteriori iniziative di pianificazione urbana e ambientale volte ad aumentare la quantità e la qualità delle aree verdi nella città, al fine di promuovere un ambiente urbano più salubre e sostenibile per i suoi abitanti.\n",
    "La popolazione tenuta in considerazione per questa analisi è quella del 2020."
   ]
  },
  {
   "cell_type": "code",
   "execution_count": 102,
   "metadata": {},
   "outputs": [
    {
     "data": {
      "application/vnd.plotly.v1+json": {
       "config": {
        "plotlyServerURL": "https://plot.ly"
       },
       "data": [
        {
         "customdata": [
          [
           "1"
          ],
          [
           "2"
          ],
          [
           "3"
          ],
          [
           "4"
          ],
          [
           "5"
          ],
          [
           "6"
          ],
          [
           "7"
          ],
          [
           "8"
          ],
          [
           "9"
          ]
         ],
         "hovertemplate": "<b>%{hovertext}</b><br><br>tipo=Stazione<br>latitudine=%{lat}<br>longitudine=%{lon}<br>id=%{customdata[0]}<extra></extra>",
         "hovertext": [
          "p.le Abbiategrasso",
          "via Pascal *",
          "viale Liguria",
          "viale Marche",
          "Parco Lambro",
          "via Senato *",
          "Verziere",
          "p.le Zavattari",
          "via Juvara"
         ],
         "lat": [
          45.432300567627,
          45.4740982055664,
          45.4441986083984,
          45.4962997436523,
          45.4995994567871,
          45.4705009460449,
          45.4635009765625,
          45.4761009216309,
          45.4734992980957
         ],
         "legendgroup": "Stazione",
         "lon": [
          9.18218994140625,
          9.23478031158447,
          9.16944026947021,
          9.19083976745605,
          9.24730014801025,
          9.19791984558105,
          9.19534015655518,
          9.141770362854,
          9.22045040130615
         ],
         "marker": {
          "color": "blue",
          "size": 15
         },
         "mode": "markers",
         "name": "Stazione",
         "showlegend": true,
         "subplot": "mapbox",
         "type": "scattermapbox"
        },
        {
         "customdata": [
          [
           "6"
          ],
          [
           "9"
          ],
          [
           "1"
          ],
          [
           "2"
          ],
          [
           "7"
          ],
          [
           "3"
          ],
          [
           "4"
          ],
          [
           "8"
          ],
          [
           "5"
          ]
         ],
         "hovertemplate": "<b>%{hovertext}</b><br><br>tipo=Area Verde<br>latitudine=%{lat}<br>longitudine=%{lon}<br>id=%{customdata[0]}<extra></extra>",
         "hovertext": [
          "PARCO DELLE CROCEROSSINE",
          "GIARDINO VIA PORRO JENNER",
          "GIARDINO ROBERTO BAZLEN",
          "GIARDINO ALDO PROTTI",
          "PARCO ANNARUMMA",
          "PARCO DELL'ACQUA",
          "PARCO GUIDO GALLI",
          "PARCO MONTE STELLA",
          "PARCO EX OM"
         ],
         "lat": [
          45.450540350583,
          45.49673274762278,
          45.45396567857214,
          45.493943233013376,
          45.460159863066025,
          45.47821201265886,
          45.45421907856171,
          45.49000458306151,
          45.44420258379438
         ],
         "legendgroup": "Area Verde",
         "lon": [
          9.123538873757788,
          9.179612184430283,
          9.197674637015329,
          9.200185684311482,
          9.118195341433292,
          9.253500938839508,
          9.238264156687462,
          9.133835262192994,
          9.190765178969516
         ],
         "marker": {
          "color": "green",
          "size": 15
         },
         "mode": "markers",
         "name": "Area Verde",
         "showlegend": true,
         "subplot": "mapbox",
         "type": "scattermapbox"
        }
       ],
       "layout": {
        "height": 500,
        "legend": {
         "title": {
          "text": "tipo"
         },
         "tracegroupgap": 0
        },
        "mapbox": {
         "center": {
          "lat": 45.46955993640549,
          "lon": 9.189755747881183
         },
         "domain": {
          "x": [
           0,
           1
          ],
          "y": [
           0,
           1
          ]
         },
         "style": "open-street-map",
         "zoom": 10
        },
        "margin": {
         "b": 0,
         "l": 0,
         "r": 0,
         "t": 0
        },
        "template": {
         "data": {
          "bar": [
           {
            "error_x": {
             "color": "#2a3f5f"
            },
            "error_y": {
             "color": "#2a3f5f"
            },
            "marker": {
             "line": {
              "color": "#E5ECF6",
              "width": 0.5
             },
             "pattern": {
              "fillmode": "overlay",
              "size": 10,
              "solidity": 0.2
             }
            },
            "type": "bar"
           }
          ],
          "barpolar": [
           {
            "marker": {
             "line": {
              "color": "#E5ECF6",
              "width": 0.5
             },
             "pattern": {
              "fillmode": "overlay",
              "size": 10,
              "solidity": 0.2
             }
            },
            "type": "barpolar"
           }
          ],
          "carpet": [
           {
            "aaxis": {
             "endlinecolor": "#2a3f5f",
             "gridcolor": "white",
             "linecolor": "white",
             "minorgridcolor": "white",
             "startlinecolor": "#2a3f5f"
            },
            "baxis": {
             "endlinecolor": "#2a3f5f",
             "gridcolor": "white",
             "linecolor": "white",
             "minorgridcolor": "white",
             "startlinecolor": "#2a3f5f"
            },
            "type": "carpet"
           }
          ],
          "choropleth": [
           {
            "colorbar": {
             "outlinewidth": 0,
             "ticks": ""
            },
            "type": "choropleth"
           }
          ],
          "contour": [
           {
            "colorbar": {
             "outlinewidth": 0,
             "ticks": ""
            },
            "colorscale": [
             [
              0,
              "#0d0887"
             ],
             [
              0.1111111111111111,
              "#46039f"
             ],
             [
              0.2222222222222222,
              "#7201a8"
             ],
             [
              0.3333333333333333,
              "#9c179e"
             ],
             [
              0.4444444444444444,
              "#bd3786"
             ],
             [
              0.5555555555555556,
              "#d8576b"
             ],
             [
              0.6666666666666666,
              "#ed7953"
             ],
             [
              0.7777777777777778,
              "#fb9f3a"
             ],
             [
              0.8888888888888888,
              "#fdca26"
             ],
             [
              1,
              "#f0f921"
             ]
            ],
            "type": "contour"
           }
          ],
          "contourcarpet": [
           {
            "colorbar": {
             "outlinewidth": 0,
             "ticks": ""
            },
            "type": "contourcarpet"
           }
          ],
          "heatmap": [
           {
            "colorbar": {
             "outlinewidth": 0,
             "ticks": ""
            },
            "colorscale": [
             [
              0,
              "#0d0887"
             ],
             [
              0.1111111111111111,
              "#46039f"
             ],
             [
              0.2222222222222222,
              "#7201a8"
             ],
             [
              0.3333333333333333,
              "#9c179e"
             ],
             [
              0.4444444444444444,
              "#bd3786"
             ],
             [
              0.5555555555555556,
              "#d8576b"
             ],
             [
              0.6666666666666666,
              "#ed7953"
             ],
             [
              0.7777777777777778,
              "#fb9f3a"
             ],
             [
              0.8888888888888888,
              "#fdca26"
             ],
             [
              1,
              "#f0f921"
             ]
            ],
            "type": "heatmap"
           }
          ],
          "heatmapgl": [
           {
            "colorbar": {
             "outlinewidth": 0,
             "ticks": ""
            },
            "colorscale": [
             [
              0,
              "#0d0887"
             ],
             [
              0.1111111111111111,
              "#46039f"
             ],
             [
              0.2222222222222222,
              "#7201a8"
             ],
             [
              0.3333333333333333,
              "#9c179e"
             ],
             [
              0.4444444444444444,
              "#bd3786"
             ],
             [
              0.5555555555555556,
              "#d8576b"
             ],
             [
              0.6666666666666666,
              "#ed7953"
             ],
             [
              0.7777777777777778,
              "#fb9f3a"
             ],
             [
              0.8888888888888888,
              "#fdca26"
             ],
             [
              1,
              "#f0f921"
             ]
            ],
            "type": "heatmapgl"
           }
          ],
          "histogram": [
           {
            "marker": {
             "pattern": {
              "fillmode": "overlay",
              "size": 10,
              "solidity": 0.2
             }
            },
            "type": "histogram"
           }
          ],
          "histogram2d": [
           {
            "colorbar": {
             "outlinewidth": 0,
             "ticks": ""
            },
            "colorscale": [
             [
              0,
              "#0d0887"
             ],
             [
              0.1111111111111111,
              "#46039f"
             ],
             [
              0.2222222222222222,
              "#7201a8"
             ],
             [
              0.3333333333333333,
              "#9c179e"
             ],
             [
              0.4444444444444444,
              "#bd3786"
             ],
             [
              0.5555555555555556,
              "#d8576b"
             ],
             [
              0.6666666666666666,
              "#ed7953"
             ],
             [
              0.7777777777777778,
              "#fb9f3a"
             ],
             [
              0.8888888888888888,
              "#fdca26"
             ],
             [
              1,
              "#f0f921"
             ]
            ],
            "type": "histogram2d"
           }
          ],
          "histogram2dcontour": [
           {
            "colorbar": {
             "outlinewidth": 0,
             "ticks": ""
            },
            "colorscale": [
             [
              0,
              "#0d0887"
             ],
             [
              0.1111111111111111,
              "#46039f"
             ],
             [
              0.2222222222222222,
              "#7201a8"
             ],
             [
              0.3333333333333333,
              "#9c179e"
             ],
             [
              0.4444444444444444,
              "#bd3786"
             ],
             [
              0.5555555555555556,
              "#d8576b"
             ],
             [
              0.6666666666666666,
              "#ed7953"
             ],
             [
              0.7777777777777778,
              "#fb9f3a"
             ],
             [
              0.8888888888888888,
              "#fdca26"
             ],
             [
              1,
              "#f0f921"
             ]
            ],
            "type": "histogram2dcontour"
           }
          ],
          "mesh3d": [
           {
            "colorbar": {
             "outlinewidth": 0,
             "ticks": ""
            },
            "type": "mesh3d"
           }
          ],
          "parcoords": [
           {
            "line": {
             "colorbar": {
              "outlinewidth": 0,
              "ticks": ""
             }
            },
            "type": "parcoords"
           }
          ],
          "pie": [
           {
            "automargin": true,
            "type": "pie"
           }
          ],
          "scatter": [
           {
            "fillpattern": {
             "fillmode": "overlay",
             "size": 10,
             "solidity": 0.2
            },
            "type": "scatter"
           }
          ],
          "scatter3d": [
           {
            "line": {
             "colorbar": {
              "outlinewidth": 0,
              "ticks": ""
             }
            },
            "marker": {
             "colorbar": {
              "outlinewidth": 0,
              "ticks": ""
             }
            },
            "type": "scatter3d"
           }
          ],
          "scattercarpet": [
           {
            "marker": {
             "colorbar": {
              "outlinewidth": 0,
              "ticks": ""
             }
            },
            "type": "scattercarpet"
           }
          ],
          "scattergeo": [
           {
            "marker": {
             "colorbar": {
              "outlinewidth": 0,
              "ticks": ""
             }
            },
            "type": "scattergeo"
           }
          ],
          "scattergl": [
           {
            "marker": {
             "colorbar": {
              "outlinewidth": 0,
              "ticks": ""
             }
            },
            "type": "scattergl"
           }
          ],
          "scattermapbox": [
           {
            "marker": {
             "colorbar": {
              "outlinewidth": 0,
              "ticks": ""
             }
            },
            "type": "scattermapbox"
           }
          ],
          "scatterpolar": [
           {
            "marker": {
             "colorbar": {
              "outlinewidth": 0,
              "ticks": ""
             }
            },
            "type": "scatterpolar"
           }
          ],
          "scatterpolargl": [
           {
            "marker": {
             "colorbar": {
              "outlinewidth": 0,
              "ticks": ""
             }
            },
            "type": "scatterpolargl"
           }
          ],
          "scatterternary": [
           {
            "marker": {
             "colorbar": {
              "outlinewidth": 0,
              "ticks": ""
             }
            },
            "type": "scatterternary"
           }
          ],
          "surface": [
           {
            "colorbar": {
             "outlinewidth": 0,
             "ticks": ""
            },
            "colorscale": [
             [
              0,
              "#0d0887"
             ],
             [
              0.1111111111111111,
              "#46039f"
             ],
             [
              0.2222222222222222,
              "#7201a8"
             ],
             [
              0.3333333333333333,
              "#9c179e"
             ],
             [
              0.4444444444444444,
              "#bd3786"
             ],
             [
              0.5555555555555556,
              "#d8576b"
             ],
             [
              0.6666666666666666,
              "#ed7953"
             ],
             [
              0.7777777777777778,
              "#fb9f3a"
             ],
             [
              0.8888888888888888,
              "#fdca26"
             ],
             [
              1,
              "#f0f921"
             ]
            ],
            "type": "surface"
           }
          ],
          "table": [
           {
            "cells": {
             "fill": {
              "color": "#EBF0F8"
             },
             "line": {
              "color": "white"
             }
            },
            "header": {
             "fill": {
              "color": "#C8D4E3"
             },
             "line": {
              "color": "white"
             }
            },
            "type": "table"
           }
          ]
         },
         "layout": {
          "annotationdefaults": {
           "arrowcolor": "#2a3f5f",
           "arrowhead": 0,
           "arrowwidth": 1
          },
          "autotypenumbers": "strict",
          "coloraxis": {
           "colorbar": {
            "outlinewidth": 0,
            "ticks": ""
           }
          },
          "colorscale": {
           "diverging": [
            [
             0,
             "#8e0152"
            ],
            [
             0.1,
             "#c51b7d"
            ],
            [
             0.2,
             "#de77ae"
            ],
            [
             0.3,
             "#f1b6da"
            ],
            [
             0.4,
             "#fde0ef"
            ],
            [
             0.5,
             "#f7f7f7"
            ],
            [
             0.6,
             "#e6f5d0"
            ],
            [
             0.7,
             "#b8e186"
            ],
            [
             0.8,
             "#7fbc41"
            ],
            [
             0.9,
             "#4d9221"
            ],
            [
             1,
             "#276419"
            ]
           ],
           "sequential": [
            [
             0,
             "#0d0887"
            ],
            [
             0.1111111111111111,
             "#46039f"
            ],
            [
             0.2222222222222222,
             "#7201a8"
            ],
            [
             0.3333333333333333,
             "#9c179e"
            ],
            [
             0.4444444444444444,
             "#bd3786"
            ],
            [
             0.5555555555555556,
             "#d8576b"
            ],
            [
             0.6666666666666666,
             "#ed7953"
            ],
            [
             0.7777777777777778,
             "#fb9f3a"
            ],
            [
             0.8888888888888888,
             "#fdca26"
            ],
            [
             1,
             "#f0f921"
            ]
           ],
           "sequentialminus": [
            [
             0,
             "#0d0887"
            ],
            [
             0.1111111111111111,
             "#46039f"
            ],
            [
             0.2222222222222222,
             "#7201a8"
            ],
            [
             0.3333333333333333,
             "#9c179e"
            ],
            [
             0.4444444444444444,
             "#bd3786"
            ],
            [
             0.5555555555555556,
             "#d8576b"
            ],
            [
             0.6666666666666666,
             "#ed7953"
            ],
            [
             0.7777777777777778,
             "#fb9f3a"
            ],
            [
             0.8888888888888888,
             "#fdca26"
            ],
            [
             1,
             "#f0f921"
            ]
           ]
          },
          "colorway": [
           "#636efa",
           "#EF553B",
           "#00cc96",
           "#ab63fa",
           "#FFA15A",
           "#19d3f3",
           "#FF6692",
           "#B6E880",
           "#FF97FF",
           "#FECB52"
          ],
          "font": {
           "color": "#2a3f5f"
          },
          "geo": {
           "bgcolor": "white",
           "lakecolor": "white",
           "landcolor": "#E5ECF6",
           "showlakes": true,
           "showland": true,
           "subunitcolor": "white"
          },
          "hoverlabel": {
           "align": "left"
          },
          "hovermode": "closest",
          "mapbox": {
           "style": "light"
          },
          "paper_bgcolor": "white",
          "plot_bgcolor": "#E5ECF6",
          "polar": {
           "angularaxis": {
            "gridcolor": "white",
            "linecolor": "white",
            "ticks": ""
           },
           "bgcolor": "#E5ECF6",
           "radialaxis": {
            "gridcolor": "white",
            "linecolor": "white",
            "ticks": ""
           }
          },
          "scene": {
           "xaxis": {
            "backgroundcolor": "#E5ECF6",
            "gridcolor": "white",
            "gridwidth": 2,
            "linecolor": "white",
            "showbackground": true,
            "ticks": "",
            "zerolinecolor": "white"
           },
           "yaxis": {
            "backgroundcolor": "#E5ECF6",
            "gridcolor": "white",
            "gridwidth": 2,
            "linecolor": "white",
            "showbackground": true,
            "ticks": "",
            "zerolinecolor": "white"
           },
           "zaxis": {
            "backgroundcolor": "#E5ECF6",
            "gridcolor": "white",
            "gridwidth": 2,
            "linecolor": "white",
            "showbackground": true,
            "ticks": "",
            "zerolinecolor": "white"
           }
          },
          "shapedefaults": {
           "line": {
            "color": "#2a3f5f"
           }
          },
          "ternary": {
           "aaxis": {
            "gridcolor": "white",
            "linecolor": "white",
            "ticks": ""
           },
           "baxis": {
            "gridcolor": "white",
            "linecolor": "white",
            "ticks": ""
           },
           "bgcolor": "#E5ECF6",
           "caxis": {
            "gridcolor": "white",
            "linecolor": "white",
            "ticks": ""
           }
          },
          "title": {
           "x": 0.05
          },
          "xaxis": {
           "automargin": true,
           "gridcolor": "white",
           "linecolor": "white",
           "ticks": "",
           "title": {
            "standoff": 15
           },
           "zerolinecolor": "white",
           "zerolinewidth": 2
          },
          "yaxis": {
           "automargin": true,
           "gridcolor": "white",
           "linecolor": "white",
           "ticks": "",
           "title": {
            "standoff": 15
           },
           "zerolinecolor": "white",
           "zerolinewidth": 2
          }
         }
        }
       }
      }
     },
     "metadata": {},
     "output_type": "display_data"
    }
   ],
   "source": [
    "# Query for retrieving weather stations\n",
    "query_stazioni = \"\"\"\n",
    "PREFIX sso: <http://www.semanticweb.org/aria-ontology-cb-dn/ontology/>\n",
    "PREFIX owl: <http://www.w3.org/2002/07/owl#>\n",
    "\n",
    "SELECT ?idAmat ?longitudine ?latitudine ?nome\n",
    "WHERE {\n",
    "    ?stazione sso:haStazioneMetereologica ?dettagliStazione .\n",
    "    ?dettagliStazione sso:idAmat ?idAmat ;\n",
    "                      sso:longitudine ?longitudine ;\n",
    "                      sso:latitudine ?latitudine ;\n",
    "                      sso:nome ?nome .\n",
    "}\n",
    "\"\"\"\n",
    "result_stazioni = g.query(query_stazioni)\n",
    "\n",
    "# Query for retrieving green areas\n",
    "query_aree_verdi = \"\"\"\n",
    "PREFIX sso: <http://www.semanticweb.org/aria-ontology-cb-dn/ontology/>\n",
    "PREFIX owl: <http://www.w3.org/2002/07/owl#>\n",
    "\n",
    "SELECT ?zona ?longitudine ?latitudine ?nome\n",
    "WHERE {\n",
    "    ?areaVerde sso:haAreaVerde ?dettagliArea .\n",
    "    ?dettagliArea sso:zona ?zona ;\n",
    "                  sso:longitudine ?longitudine ;\n",
    "                  sso:latitudine ?latitudine ;\n",
    "                  sso:nome ?nome .\n",
    "}\n",
    "GROUP BY ?zona\n",
    "\"\"\"\n",
    "result_aree_verdi = g.query(query_aree_verdi)\n",
    "\n",
    "# Prepare the data for the scatter map\n",
    "data = []\n",
    "for row in result_stazioni:\n",
    "    nome_stazione = str(row.nome)\n",
    "    id_amat = str(row.idAmat)\n",
    "    latitudine = float(row.latitudine)\n",
    "    longitudine = float(row.longitudine)\n",
    "    data.append({'nome': nome_stazione, 'id': id_amat, 'latitudine': latitudine, 'longitudine': longitudine, 'tipo': 'Stazione'})\n",
    "    \n",
    "for row in result_aree_verdi:\n",
    "    nome_area_verde = str(row.nome)\n",
    "    zona = str(row.zona)\n",
    "    latitudine = float(row.latitudine)\n",
    "    longitudine = float(row.longitudine)\n",
    "    data.append({'nome': nome_area_verde, 'id': zona, 'latitudine': latitudine, 'longitudine': longitudine, 'tipo': 'Area Verde'})\n",
    "\n",
    "scatter_map_df = pd.DataFrame(data)\n",
    "\n",
    "# Create the scatter map using plotly\n",
    "fig = px.scatter_mapbox(scatter_map_df, lat=\"latitudine\", lon=\"longitudine\", hover_name=\"nome\", hover_data=[\"id\"], zoom=10, height=500, color=\"tipo\", color_discrete_map={\"Stazione\": \"blue\", \"Area Verde\": \"green\"})\n",
    "fig.update_layout(mapbox_style=\"open-street-map\")\n",
    "fig.update_layout(margin={\"r\":0, \"t\":0, \"l\":0, \"b\":0})\n",
    "fig.update_traces(marker=dict(size=15))\n",
    "\n",
    "fig.show()"
   ]
  },
  {
   "cell_type": "markdown",
   "metadata": {},
   "source": [
    "Nella mappa soprastante è possibile osservare la distribuzione delle stazioni metereologiche presenti nel Comune di Milano. Si può notare come le stazioni non siano propriamente distribuite in maniera omogenea su tutto il territorio comunale. Inoltre è possibile vedere anche le maggiori aree verdi presenti nel Comune. Possiamo anche osservare come alcune stazioni siano più vicine ad aree verdi rispetto ad altre. Ciò può influire sul monitoraggio degli inquinanti, in quanto le aree verdi possono influire sulla qualità dell'aria."
   ]
  }
 ],
 "metadata": {
  "kernelspec": {
   "display_name": "base",
   "language": "python",
   "name": "python3"
  },
  "language_info": {
   "codemirror_mode": {
    "name": "ipython",
    "version": 3
   },
   "file_extension": ".py",
   "mimetype": "text/x-python",
   "name": "python",
   "nbconvert_exporter": "python",
   "pygments_lexer": "ipython3",
   "version": "3.10.11"
  }
 },
 "nbformat": 4,
 "nbformat_minor": 2
}
