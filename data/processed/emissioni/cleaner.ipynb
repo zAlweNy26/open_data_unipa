{
 "cells": [
  {
   "cell_type": "code",
   "execution_count": null,
   "metadata": {},
   "outputs": [],
   "source": [
    "%pip install pandas"
   ]
  },
  {
   "cell_type": "code",
   "execution_count": null,
   "metadata": {},
   "outputs": [],
   "source": [
    "import pandas as pd\n",
    "import os\n",
    "\n",
    "raw_folder = '../../raw/emissioni'\n",
    "\n",
    "replacements = {'VII': '7', 'VI': '6', 'V': '5', 'IV': '4', 'III': '3', 'II': '2', 'I': '1'}\n",
    "\n",
    "# Define a function to aggregate the columns\n",
    "def aggregate_columns(group):\n",
    "    # Create a dictionary to hold the aggregated values\n",
    "    agg_dict = {}\n",
    "    # Loop through each column in the group\n",
    "    for col in group.columns:\n",
    "        # If the column is the 'Tier' column, add it to the dictionary\n",
    "        if col == 'Tier':\n",
    "            agg_dict[col] = group[col].iloc[0]\n",
    "        # If the column contains numbers, calculate the mean value and add it to the dictionary\n",
    "        elif pd.api.types.is_numeric_dtype(group[col]):\n",
    "            agg_dict[col] = group[col].mean()\n",
    "        # If the column contains strings, take the last value and add it to the dictionary\n",
    "        elif pd.api.types.is_string_dtype(group[col]):\n",
    "            agg_dict[col] = group[col].iloc[-1]\n",
    "    # Return the aggregated values as a Series\n",
    "    return pd.Series(agg_dict)\n",
    "\n",
    "# Loop through all files in the folder\n",
    "for filename in os.listdir(raw_folder):\n",
    "    if filename.endswith('.csv'):\n",
    "        # Read CSV file\n",
    "        df = pd.read_csv(os.path.join(raw_folder, filename))\n",
    "        # Drop every column that contains the text 'Date' or 'Brake' or 'Smoke' or 'Test'\n",
    "        df = df.drop(columns=df.columns[df.columns.str.contains('Date|Brake|Smoke|Test')])\n",
    "        # Convert the column names called 'Standard' to 'Tier'\n",
    "        df = df.rename(columns={'Standard': 'Tier'})\n",
    "        # Replace NaN values with 0\n",
    "        df = df.fillna(0)\n",
    "        # Replace '–' values with 0\n",
    "        df = df.replace('–', 0)\n",
    "        # Replace roman numbers with arabic numbers\n",
    "        for key, value in replacements.items():\n",
    "            df.loc[df['Tier'].str.contains(key), 'Tier'] = 'Euro ' + value\n",
    "        # Drop rows that contain 'Euro 7' in the 'Tier' column\n",
    "        df = df[df['Tier'].str.contains('Euro 7') == False]\n",
    "        \n",
    "        df = df.groupby('Tier').apply(aggregate_columns).reset_index(drop=True)\n",
    "\n",
    "        print(df)"
   ]
  }
 ],
 "metadata": {
  "kernelspec": {
   "display_name": "Python 3",
   "language": "python",
   "name": "python3"
  },
  "language_info": {
   "codemirror_mode": {
    "name": "ipython",
    "version": 3
   },
   "file_extension": ".py",
   "mimetype": "text/x-python",
   "name": "python",
   "nbconvert_exporter": "python",
   "pygments_lexer": "ipython3",
   "version": "3.10.11"
  }
 },
 "nbformat": 4,
 "nbformat_minor": 2
}
