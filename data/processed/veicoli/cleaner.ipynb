{
 "cells": [
  {
   "cell_type": "code",
   "execution_count": null,
   "metadata": {},
   "outputs": [],
   "source": [
    "%pip install pandas"
   ]
  },
  {
   "cell_type": "code",
   "execution_count": null,
   "metadata": {},
   "outputs": [],
   "source": [
    "import pandas as pd\n",
    "\n",
    "df = pd.read_csv('../../raw/veicoli/categorie_euro_2007_2022.csv', sep=';')\n",
    "\n",
    "# Clear rows where 'Anno' is not in range [2007, 2022]\n",
    "df = df[df['ANNO'].between(2014, 2021)]\n",
    "\n",
    "# Reset index and drop old index\n",
    "df = df.reset_index(drop=True)\n",
    "\n",
    "# Replace NaN values with 0\n",
    "df = df.fillna(0)\n",
    "\n",
    "# Convert columns to title case\n",
    "df.columns = df.columns.str.title()\n",
    "\n",
    "# Save dataframe to csv\n",
    "df.to_csv('categorie_euro_2014_2021.csv', index=False)\n",
    "\n",
    "# Print dataframe\n",
    "df"
   ]
  }
 ],
 "metadata": {
  "kernelspec": {
   "display_name": "Python 3",
   "language": "python",
   "name": "python3"
  },
  "language_info": {
   "codemirror_mode": {
    "name": "ipython",
    "version": 3
   },
   "file_extension": ".py",
   "mimetype": "text/x-python",
   "name": "python",
   "nbconvert_exporter": "python",
   "pygments_lexer": "ipython3",
   "version": "3.10.11"
  }
 },
 "nbformat": 4,
 "nbformat_minor": 2
}
