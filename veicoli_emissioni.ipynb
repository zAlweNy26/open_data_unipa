{
 "cells": [
  {
   "cell_type": "code",
   "execution_count": null,
   "metadata": {},
   "outputs": [],
   "source": [
    "%pip install pandas"
   ]
  },
  {
   "cell_type": "code",
   "execution_count": null,
   "metadata": {},
   "outputs": [],
   "source": [
    "import pandas as pd\n",
    "import os\n",
    "\n",
    "# Open vehicles dataset\n",
    "ce = pd.read_csv('data/processed/veicoli/categorie_euro_2014_2021.csv')\n",
    "\n",
    "# Open emissions dataset\n",
    "se_folder = 'data/processed/emissioni'\n",
    "\n",
    "for filename in os.listdir(se_folder):\n",
    "    if filename.endswith('.csv'):\n",
    "        # Read CSV file\n",
    "        se = pd.read_csv(os.path.join(se_folder, filename))"
   ]
  }
 ],
 "metadata": {
  "kernelspec": {
   "display_name": "Python 3",
   "language": "python",
   "name": "python3"
  },
  "language_info": {
   "codemirror_mode": {
    "name": "ipython",
    "version": 3
   },
   "file_extension": ".py",
   "mimetype": "text/x-python",
   "name": "python",
   "nbconvert_exporter": "python",
   "pygments_lexer": "ipython3",
   "version": "3.10.11"
  }
 },
 "nbformat": 4,
 "nbformat_minor": 2
}
