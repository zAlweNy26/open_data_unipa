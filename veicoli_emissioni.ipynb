{
 "cells": [
  {
   "cell_type": "code",
   "execution_count": null,
   "metadata": {},
   "outputs": [],
   "source": [
    "%pip install pandas"
   ]
  },
  {
   "cell_type": "code",
   "execution_count": null,
   "metadata": {},
   "outputs": [],
   "source": [
    "import pandas as pd\n",
    "import math\n",
    "\n",
    "# Open vehicles dataset\n",
    "ce = pd.read_csv('data/processed/veicoli/categorie_euro_2014_2021.csv')\n",
    "\n",
    "# Open emissions dataset\n",
    "se_folder = 'data/processed/emissioni/standards_for_'\n",
    "\n",
    "# Create a dictionary of dataframes, one for each vehicle type\n",
    "related_se = {\n",
    "    'Autovetture': pd.read_csv(f'{se_folder}passenger_cars_petrol.csv'),\n",
    "    'Motrici': pd.read_csv(f'{se_folder}light_commercial_vehicles_petrol.csv'),\n",
    "    'Veicoli industriali': pd.read_csv(f'{se_folder}large_goods_vehicles.csv'),\n",
    "    'Autobus': pd.read_csv(f'{se_folder}trucks_and_buses.csv'),\n",
    "    'Motocicli': pd.read_csv(f'{se_folder}motor_cycles.csv'),\n",
    "}\n",
    "\n",
    "euro_classes = [\n",
    "    { 'kwh': 55, 'km': 20 },\n",
    "    { 'kwh': 60, 'km': 20 },\n",
    "    { 'kwh': 65, 'km': 20 },\n",
    "    { 'kwh': 70, 'km': 20 },\n",
    "    { 'kwh': 75, 'km': 40 },\n",
    "    { 'kwh': 80, 'km': 50 },\n",
    "    { 'kwh': 85, 'km': 60 },\n",
    "]\n",
    "\n",
    "# Iterate over the rows of the vehicles dataset\n",
    "for index, row in ce.iterrows():\n",
    "    vtype = row['Tipo Veicolo']\n",
    "    # Get the corresponding dataframe\n",
    "    se = related_se[vtype]\n",
    "\n",
    "    for i in range(7):\n",
    "        euro_vecs = row[f'Euro {i}']\n",
    "        kwh = euro_classes[i]['kwh']\n",
    "        km = euro_classes[i]['km']\n",
    "        # Get the corresponding row\n",
    "        se_row = se.loc[se['Tier'] == f'Euro {i}']\n",
    "        co_cols = se_row.filter(like='CO')\n",
    "        co_arr = co_cols.iloc[:, 0].values\n",
    "        # Get the next row\n",
    "        next_se_row = se.loc[se['Tier'] == f'Euro {i+1}']\n",
    "        next_co_cols = next_se_row.filter(like='CO')\n",
    "        next_co_arr = next_co_cols.iloc[:, 0].values\n",
    "        next_co_value = next_co_arr[0] if len(next_co_arr) > 0 else math.ceil(co_arr[0])\n",
    "        co_value = co_arr[0] if len(co_arr) > 0 else math.ceil(next_co_value)\n",
    "        # Get the corresponding emission value\n",
    "        # [numero veicoli classe euro] x ([CO2 tipo di veicolo] x [kWh classe euro]) x [media km percorsi]\n",
    "        print(f\"Veicoli {vtype}: {euro_vecs}, Euro: {i}, CO: {co_value} | Totale: {math.trunc(euro_vecs * co_value * kwh * km)} g/km\")"
   ]
  }
 ],
 "metadata": {
  "kernelspec": {
   "display_name": "Python 3",
   "language": "python",
   "name": "python3"
  },
  "language_info": {
   "codemirror_mode": {
    "name": "ipython",
    "version": 3
   },
   "file_extension": ".py",
   "mimetype": "text/x-python",
   "name": "python",
   "nbconvert_exporter": "python",
   "pygments_lexer": "ipython3",
   "version": "3.10.11"
  }
 },
 "nbformat": 4,
 "nbformat_minor": 2
}
